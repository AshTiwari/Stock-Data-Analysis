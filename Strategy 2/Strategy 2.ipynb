{
 "cells": [
  {
   "cell_type": "markdown",
   "id": "b9f2b0cc",
   "metadata": {},
   "source": [
    "# Stock Analysis and Back Testing a Stratergy"
   ]
  },
  {
   "cell_type": "markdown",
   "id": "782f5b5e",
   "metadata": {},
   "source": [
    "**Hypothesis:**\n",
    "\n",
    "- Let Previous day close of 3:25 be x.\n",
    "- Let Previous day open at 9:15 be y.\n",
    "- Current day open at 9:15 be z.\n",
    "- Let max(high) from 9:15 to 10:30 for current day be alpha.\n",
    "\n",
    "Pre-requisite:\n",
    "- x > y\n",
    "- z < x\n",
    "- Calculate alpha.\n",
    "\n",
    "If prerequisite is satisified, find a tick which satisfies Buy condition.\n",
    "\n",
    "Buy if:\n",
    "- close of a tick > alpha\n",
    "- close of a tick > sma50 for that tick\n",
    "- close of a tick > dma50 for that day\n",
    "\n",
    "Sell if:\n",
    "- close value of any tick < sma50\n"
   ]
  },
  {
   "cell_type": "markdown",
   "id": "71bef28c",
   "metadata": {},
   "source": [
    "**Strategy:**\n",
    "\n",
    "Buy if:\n",
    "- Previous day range is positive.\n",
    "- Today is a gap down. \n",
    "- Breaks the high made upto 10.30 \n",
    "- Breakout bar is above 50sma  in dtf and 5 min.\n",
    "\n",
    "Stop loss at:\n",
    "- Breakout candle low for today and if trade is carried over then 50 sma."
   ]
  },
  {
   "cell_type": "markdown",
   "id": "b4b10b7a",
   "metadata": {},
   "source": [
    " "
   ]
  },
  {
   "cell_type": "markdown",
   "id": "47c6084c",
   "metadata": {},
   "source": [
    " "
   ]
  },
  {
   "cell_type": "markdown",
   "id": "951b07a3",
   "metadata": {},
   "source": [
    " "
   ]
  },
  {
   "cell_type": "markdown",
   "id": "e85e6938",
   "metadata": {},
   "source": [
    "## Import Liabraries "
   ]
  },
  {
   "cell_type": "code",
   "execution_count": 1,
   "id": "1add01dc",
   "metadata": {},
   "outputs": [],
   "source": [
    "import pandas as pd\n",
    "import numpy as np\n",
    "import datetime as dt\n",
    "from pandas_datareader import data as pdr\n",
    "import matplotlib.pyplot as plt\n",
    "import xlsxwriter\n",
    "import openpyxl\n",
    "from statistics import mean"
   ]
  },
  {
   "cell_type": "markdown",
   "id": "6dda3187",
   "metadata": {},
   "source": [
    " "
   ]
  },
  {
   "cell_type": "markdown",
   "id": "042aa2cb",
   "metadata": {},
   "source": [
    " "
   ]
  },
  {
   "cell_type": "markdown",
   "id": "e6705304",
   "metadata": {},
   "source": [
    " "
   ]
  },
  {
   "cell_type": "markdown",
   "id": "c7a77fb0",
   "metadata": {},
   "source": [
    " "
   ]
  },
  {
   "cell_type": "markdown",
   "id": "072202ca",
   "metadata": {},
   "source": [
    "## Import Stock Data "
   ]
  },
  {
   "cell_type": "markdown",
   "id": "fbe14afa",
   "metadata": {},
   "source": [
    "- The data is stock price of **Bank Nifty**.\n",
    "\n",
    "- We have data of **Open, High, Low, Close, SMA20, SMA50, SMA100**.\n",
    "\n",
    "- The data starts from **July 2011** and goes till **January 2022**.\n",
    "\n",
    "- The data is present of every **5 minute** interval starting from **9:15 am** and goes upto **3:25 pm**. \n",
    "\n",
    "- In total there are **75 intervals** in a day."
   ]
  },
  {
   "cell_type": "markdown",
   "id": "d05be0d4",
   "metadata": {},
   "source": [
    " "
   ]
  },
  {
   "cell_type": "code",
   "execution_count": 2,
   "id": "9326994f",
   "metadata": {},
   "outputs": [],
   "source": [
    "nse_data = pd.read_excel(\"Bank Nifty data 5 min.xlsx\", header = 2)"
   ]
  },
  {
   "cell_type": "code",
   "execution_count": 3,
   "id": "aab3ba6c",
   "metadata": {},
   "outputs": [],
   "source": [
    "nse_data['Date'] = nse_data['Date'].dt.date"
   ]
  },
  {
   "cell_type": "code",
   "execution_count": 4,
   "id": "acb71d3e",
   "metadata": {},
   "outputs": [
    {
     "data": {
      "text/plain": [
       "datetime.date(2011, 7, 29)"
      ]
     },
     "execution_count": 4,
     "metadata": {},
     "output_type": "execute_result"
    }
   ],
   "source": [
    "nse_data.iloc[0][\"Date\"]"
   ]
  },
  {
   "cell_type": "code",
   "execution_count": 5,
   "id": "f9c8c163",
   "metadata": {},
   "outputs": [
    {
     "data": {
      "text/html": [
       "<div>\n",
       "<style scoped>\n",
       "    .dataframe tbody tr th:only-of-type {\n",
       "        vertical-align: middle;\n",
       "    }\n",
       "\n",
       "    .dataframe tbody tr th {\n",
       "        vertical-align: top;\n",
       "    }\n",
       "\n",
       "    .dataframe thead th {\n",
       "        text-align: right;\n",
       "    }\n",
       "</style>\n",
       "<table border=\"1\" class=\"dataframe\">\n",
       "  <thead>\n",
       "    <tr style=\"text-align: right;\">\n",
       "      <th></th>\n",
       "      <th>Date</th>\n",
       "      <th>Time</th>\n",
       "      <th>Open</th>\n",
       "      <th>High</th>\n",
       "      <th>Low</th>\n",
       "      <th>Close</th>\n",
       "      <th>SMA20</th>\n",
       "      <th>SMA50</th>\n",
       "      <th>SMA 100</th>\n",
       "    </tr>\n",
       "  </thead>\n",
       "  <tbody>\n",
       "    <tr>\n",
       "      <th>0</th>\n",
       "      <td>2011-07-29</td>\n",
       "      <td>09:15:00</td>\n",
       "      <td>10820.65</td>\n",
       "      <td>10820.65</td>\n",
       "      <td>10758.40</td>\n",
       "      <td>10774.20</td>\n",
       "      <td>NaN</td>\n",
       "      <td>NaN</td>\n",
       "      <td>NaN</td>\n",
       "    </tr>\n",
       "    <tr>\n",
       "      <th>1</th>\n",
       "      <td>2011-07-29</td>\n",
       "      <td>09:20:00</td>\n",
       "      <td>10774.20</td>\n",
       "      <td>10812.40</td>\n",
       "      <td>10774.20</td>\n",
       "      <td>10807.95</td>\n",
       "      <td>NaN</td>\n",
       "      <td>NaN</td>\n",
       "      <td>NaN</td>\n",
       "    </tr>\n",
       "    <tr>\n",
       "      <th>2</th>\n",
       "      <td>2011-07-29</td>\n",
       "      <td>09:25:00</td>\n",
       "      <td>10807.95</td>\n",
       "      <td>10837.25</td>\n",
       "      <td>10804.35</td>\n",
       "      <td>10837.25</td>\n",
       "      <td>NaN</td>\n",
       "      <td>NaN</td>\n",
       "      <td>NaN</td>\n",
       "    </tr>\n",
       "    <tr>\n",
       "      <th>3</th>\n",
       "      <td>2011-07-29</td>\n",
       "      <td>09:30:00</td>\n",
       "      <td>10836.05</td>\n",
       "      <td>10891.45</td>\n",
       "      <td>10835.60</td>\n",
       "      <td>10884.80</td>\n",
       "      <td>NaN</td>\n",
       "      <td>NaN</td>\n",
       "      <td>NaN</td>\n",
       "    </tr>\n",
       "    <tr>\n",
       "      <th>4</th>\n",
       "      <td>2011-07-29</td>\n",
       "      <td>09:35:00</td>\n",
       "      <td>10884.80</td>\n",
       "      <td>10892.30</td>\n",
       "      <td>10871.85</td>\n",
       "      <td>10891.65</td>\n",
       "      <td>NaN</td>\n",
       "      <td>NaN</td>\n",
       "      <td>NaN</td>\n",
       "    </tr>\n",
       "  </tbody>\n",
       "</table>\n",
       "</div>"
      ],
      "text/plain": [
       "         Date      Time      Open      High      Low      Close  SMA20  SMA50  \\\n",
       "0  2011-07-29  09:15:00  10820.65  10820.65  10758.40  10774.20    NaN    NaN   \n",
       "1  2011-07-29  09:20:00  10774.20  10812.40  10774.20  10807.95    NaN    NaN   \n",
       "2  2011-07-29  09:25:00  10807.95  10837.25  10804.35  10837.25    NaN    NaN   \n",
       "3  2011-07-29  09:30:00  10836.05  10891.45  10835.60  10884.80    NaN    NaN   \n",
       "4  2011-07-29  09:35:00  10884.80  10892.30  10871.85  10891.65    NaN    NaN   \n",
       "\n",
       "   SMA 100  \n",
       "0      NaN  \n",
       "1      NaN  \n",
       "2      NaN  \n",
       "3      NaN  \n",
       "4      NaN  "
      ]
     },
     "execution_count": 5,
     "metadata": {},
     "output_type": "execute_result"
    }
   ],
   "source": [
    "nse_data.head()"
   ]
  },
  {
   "cell_type": "code",
   "execution_count": 6,
   "id": "3397f1b5",
   "metadata": {},
   "outputs": [
    {
     "data": {
      "text/html": [
       "<div>\n",
       "<style scoped>\n",
       "    .dataframe tbody tr th:only-of-type {\n",
       "        vertical-align: middle;\n",
       "    }\n",
       "\n",
       "    .dataframe tbody tr th {\n",
       "        vertical-align: top;\n",
       "    }\n",
       "\n",
       "    .dataframe thead th {\n",
       "        text-align: right;\n",
       "    }\n",
       "</style>\n",
       "<table border=\"1\" class=\"dataframe\">\n",
       "  <thead>\n",
       "    <tr style=\"text-align: right;\">\n",
       "      <th></th>\n",
       "      <th>Date</th>\n",
       "      <th>Time</th>\n",
       "      <th>Open</th>\n",
       "      <th>High</th>\n",
       "      <th>Low</th>\n",
       "      <th>Close</th>\n",
       "      <th>SMA20</th>\n",
       "      <th>SMA50</th>\n",
       "      <th>SMA 100</th>\n",
       "    </tr>\n",
       "  </thead>\n",
       "  <tbody>\n",
       "    <tr>\n",
       "      <th>0</th>\n",
       "      <td>2011-07-29</td>\n",
       "      <td>09:15:00</td>\n",
       "      <td>10820.65</td>\n",
       "      <td>10820.65</td>\n",
       "      <td>10758.40</td>\n",
       "      <td>10774.20</td>\n",
       "      <td>-1.0</td>\n",
       "      <td>-1.0</td>\n",
       "      <td>-1.0</td>\n",
       "    </tr>\n",
       "    <tr>\n",
       "      <th>1</th>\n",
       "      <td>2011-07-29</td>\n",
       "      <td>09:20:00</td>\n",
       "      <td>10774.20</td>\n",
       "      <td>10812.40</td>\n",
       "      <td>10774.20</td>\n",
       "      <td>10807.95</td>\n",
       "      <td>-1.0</td>\n",
       "      <td>-1.0</td>\n",
       "      <td>-1.0</td>\n",
       "    </tr>\n",
       "    <tr>\n",
       "      <th>2</th>\n",
       "      <td>2011-07-29</td>\n",
       "      <td>09:25:00</td>\n",
       "      <td>10807.95</td>\n",
       "      <td>10837.25</td>\n",
       "      <td>10804.35</td>\n",
       "      <td>10837.25</td>\n",
       "      <td>-1.0</td>\n",
       "      <td>-1.0</td>\n",
       "      <td>-1.0</td>\n",
       "    </tr>\n",
       "    <tr>\n",
       "      <th>3</th>\n",
       "      <td>2011-07-29</td>\n",
       "      <td>09:30:00</td>\n",
       "      <td>10836.05</td>\n",
       "      <td>10891.45</td>\n",
       "      <td>10835.60</td>\n",
       "      <td>10884.80</td>\n",
       "      <td>-1.0</td>\n",
       "      <td>-1.0</td>\n",
       "      <td>-1.0</td>\n",
       "    </tr>\n",
       "    <tr>\n",
       "      <th>4</th>\n",
       "      <td>2011-07-29</td>\n",
       "      <td>09:35:00</td>\n",
       "      <td>10884.80</td>\n",
       "      <td>10892.30</td>\n",
       "      <td>10871.85</td>\n",
       "      <td>10891.65</td>\n",
       "      <td>-1.0</td>\n",
       "      <td>-1.0</td>\n",
       "      <td>-1.0</td>\n",
       "    </tr>\n",
       "  </tbody>\n",
       "</table>\n",
       "</div>"
      ],
      "text/plain": [
       "         Date      Time      Open      High      Low      Close  SMA20  SMA50  \\\n",
       "0  2011-07-29  09:15:00  10820.65  10820.65  10758.40  10774.20   -1.0   -1.0   \n",
       "1  2011-07-29  09:20:00  10774.20  10812.40  10774.20  10807.95   -1.0   -1.0   \n",
       "2  2011-07-29  09:25:00  10807.95  10837.25  10804.35  10837.25   -1.0   -1.0   \n",
       "3  2011-07-29  09:30:00  10836.05  10891.45  10835.60  10884.80   -1.0   -1.0   \n",
       "4  2011-07-29  09:35:00  10884.80  10892.30  10871.85  10891.65   -1.0   -1.0   \n",
       "\n",
       "   SMA 100  \n",
       "0     -1.0  \n",
       "1     -1.0  \n",
       "2     -1.0  \n",
       "3     -1.0  \n",
       "4     -1.0  "
      ]
     },
     "execution_count": 6,
     "metadata": {},
     "output_type": "execute_result"
    }
   ],
   "source": [
    "nse_data = nse_data.fillna(-1)\n",
    "nse_data.head()"
   ]
  },
  {
   "cell_type": "code",
   "execution_count": 7,
   "id": "70801c71",
   "metadata": {},
   "outputs": [
    {
     "data": {
      "text/html": [
       "<div>\n",
       "<style scoped>\n",
       "    .dataframe tbody tr th:only-of-type {\n",
       "        vertical-align: middle;\n",
       "    }\n",
       "\n",
       "    .dataframe tbody tr th {\n",
       "        vertical-align: top;\n",
       "    }\n",
       "\n",
       "    .dataframe thead th {\n",
       "        text-align: right;\n",
       "    }\n",
       "</style>\n",
       "<table border=\"1\" class=\"dataframe\">\n",
       "  <thead>\n",
       "    <tr style=\"text-align: right;\">\n",
       "      <th></th>\n",
       "      <th>Date</th>\n",
       "      <th>Time</th>\n",
       "      <th>Open</th>\n",
       "      <th>High</th>\n",
       "      <th>Low</th>\n",
       "      <th>Close</th>\n",
       "      <th>SMA20</th>\n",
       "      <th>SMA50</th>\n",
       "      <th>SMA 100</th>\n",
       "    </tr>\n",
       "  </thead>\n",
       "  <tbody>\n",
       "    <tr>\n",
       "      <th>192328</th>\n",
       "      <td>2022-01-24</td>\n",
       "      <td>15:05:00</td>\n",
       "      <td>36874.30</td>\n",
       "      <td>36946.70</td>\n",
       "      <td>36813.45</td>\n",
       "      <td>36946.70</td>\n",
       "      <td>36725.6400</td>\n",
       "      <td>36968.661</td>\n",
       "      <td>37242.978218</td>\n",
       "    </tr>\n",
       "    <tr>\n",
       "      <th>192329</th>\n",
       "      <td>2022-01-24</td>\n",
       "      <td>15:10:00</td>\n",
       "      <td>36946.55</td>\n",
       "      <td>37063.65</td>\n",
       "      <td>36929.50</td>\n",
       "      <td>37038.35</td>\n",
       "      <td>36735.3350</td>\n",
       "      <td>36960.372</td>\n",
       "      <td>37237.150000</td>\n",
       "    </tr>\n",
       "    <tr>\n",
       "      <th>192330</th>\n",
       "      <td>2022-01-24</td>\n",
       "      <td>15:15:00</td>\n",
       "      <td>37048.60</td>\n",
       "      <td>37073.95</td>\n",
       "      <td>36990.90</td>\n",
       "      <td>37050.30</td>\n",
       "      <td>36747.5000</td>\n",
       "      <td>36953.933</td>\n",
       "      <td>37231.681188</td>\n",
       "    </tr>\n",
       "    <tr>\n",
       "      <th>192331</th>\n",
       "      <td>2022-01-24</td>\n",
       "      <td>15:20:00</td>\n",
       "      <td>37047.80</td>\n",
       "      <td>37062.85</td>\n",
       "      <td>36894.25</td>\n",
       "      <td>36905.65</td>\n",
       "      <td>36751.2025</td>\n",
       "      <td>36944.372</td>\n",
       "      <td>37223.801980</td>\n",
       "    </tr>\n",
       "    <tr>\n",
       "      <th>192332</th>\n",
       "      <td>2022-01-24</td>\n",
       "      <td>15:25:00</td>\n",
       "      <td>36902.40</td>\n",
       "      <td>36945.05</td>\n",
       "      <td>36808.15</td>\n",
       "      <td>36834.90</td>\n",
       "      <td>36751.3125</td>\n",
       "      <td>36934.724</td>\n",
       "      <td>37215.664356</td>\n",
       "    </tr>\n",
       "  </tbody>\n",
       "</table>\n",
       "</div>"
      ],
      "text/plain": [
       "              Date      Time      Open      High      Low      Close  \\\n",
       "192328  2022-01-24  15:05:00  36874.30  36946.70  36813.45  36946.70   \n",
       "192329  2022-01-24  15:10:00  36946.55  37063.65  36929.50  37038.35   \n",
       "192330  2022-01-24  15:15:00  37048.60  37073.95  36990.90  37050.30   \n",
       "192331  2022-01-24  15:20:00  37047.80  37062.85  36894.25  36905.65   \n",
       "192332  2022-01-24  15:25:00  36902.40  36945.05  36808.15  36834.90   \n",
       "\n",
       "             SMA20      SMA50       SMA 100  \n",
       "192328  36725.6400  36968.661  37242.978218  \n",
       "192329  36735.3350  36960.372  37237.150000  \n",
       "192330  36747.5000  36953.933  37231.681188  \n",
       "192331  36751.2025  36944.372  37223.801980  \n",
       "192332  36751.3125  36934.724  37215.664356  "
      ]
     },
     "execution_count": 7,
     "metadata": {},
     "output_type": "execute_result"
    }
   ],
   "source": [
    "nse_data.tail()"
   ]
  },
  {
   "cell_type": "code",
   "execution_count": 8,
   "id": "336a2ac6",
   "metadata": {},
   "outputs": [
    {
     "data": {
      "text/html": [
       "<div>\n",
       "<style scoped>\n",
       "    .dataframe tbody tr th:only-of-type {\n",
       "        vertical-align: middle;\n",
       "    }\n",
       "\n",
       "    .dataframe tbody tr th {\n",
       "        vertical-align: top;\n",
       "    }\n",
       "\n",
       "    .dataframe thead th {\n",
       "        text-align: right;\n",
       "    }\n",
       "</style>\n",
       "<table border=\"1\" class=\"dataframe\">\n",
       "  <thead>\n",
       "    <tr style=\"text-align: right;\">\n",
       "      <th></th>\n",
       "      <th>Open</th>\n",
       "      <th>High</th>\n",
       "      <th>Low</th>\n",
       "      <th>Close</th>\n",
       "      <th>SMA20</th>\n",
       "      <th>SMA50</th>\n",
       "      <th>SMA 100</th>\n",
       "    </tr>\n",
       "  </thead>\n",
       "  <tbody>\n",
       "    <tr>\n",
       "      <th>count</th>\n",
       "      <td>192333.000000</td>\n",
       "      <td>192333.000000</td>\n",
       "      <td>192333.000000</td>\n",
       "      <td>192333.000000</td>\n",
       "      <td>192333.000000</td>\n",
       "      <td>192333.000000</td>\n",
       "      <td>192333.000000</td>\n",
       "    </tr>\n",
       "    <tr>\n",
       "      <th>mean</th>\n",
       "      <td>20697.310681</td>\n",
       "      <td>20713.934408</td>\n",
       "      <td>20679.911383</td>\n",
       "      <td>20697.032113</td>\n",
       "      <td>20694.677328</td>\n",
       "      <td>20690.957457</td>\n",
       "      <td>20684.575638</td>\n",
       "    </tr>\n",
       "    <tr>\n",
       "      <th>std</th>\n",
       "      <td>8219.052185</td>\n",
       "      <td>8224.819853</td>\n",
       "      <td>8212.829251</td>\n",
       "      <td>8218.886333</td>\n",
       "      <td>8220.118405</td>\n",
       "      <td>8222.057737</td>\n",
       "      <td>8225.221458</td>\n",
       "    </tr>\n",
       "    <tr>\n",
       "      <th>min</th>\n",
       "      <td>7772.600000</td>\n",
       "      <td>7801.950000</td>\n",
       "      <td>7766.350000</td>\n",
       "      <td>7772.600000</td>\n",
       "      <td>-1.000000</td>\n",
       "      <td>-1.000000</td>\n",
       "      <td>-1.000000</td>\n",
       "    </tr>\n",
       "    <tr>\n",
       "      <th>25%</th>\n",
       "      <td>12713.500000</td>\n",
       "      <td>12721.650000</td>\n",
       "      <td>12703.900000</td>\n",
       "      <td>12713.250000</td>\n",
       "      <td>12709.005000</td>\n",
       "      <td>12706.930000</td>\n",
       "      <td>12701.710396</td>\n",
       "    </tr>\n",
       "    <tr>\n",
       "      <th>50%</th>\n",
       "      <td>19198.800000</td>\n",
       "      <td>19214.450000</td>\n",
       "      <td>19180.700000</td>\n",
       "      <td>19197.900000</td>\n",
       "      <td>19198.837500</td>\n",
       "      <td>19194.966000</td>\n",
       "      <td>19185.750990</td>\n",
       "    </tr>\n",
       "    <tr>\n",
       "      <th>75%</th>\n",
       "      <td>26863.350000</td>\n",
       "      <td>26877.750000</td>\n",
       "      <td>26846.200000</td>\n",
       "      <td>26862.650000</td>\n",
       "      <td>26864.802500</td>\n",
       "      <td>26870.704000</td>\n",
       "      <td>26873.287624</td>\n",
       "    </tr>\n",
       "    <tr>\n",
       "      <th>max</th>\n",
       "      <td>41729.900000</td>\n",
       "      <td>41827.650000</td>\n",
       "      <td>41600.550000</td>\n",
       "      <td>41722.200000</td>\n",
       "      <td>41556.880000</td>\n",
       "      <td>41367.579000</td>\n",
       "      <td>41231.838614</td>\n",
       "    </tr>\n",
       "  </tbody>\n",
       "</table>\n",
       "</div>"
      ],
      "text/plain": [
       "                Open           High           Low           Close  \\\n",
       "count  192333.000000  192333.000000  192333.000000  192333.000000   \n",
       "mean    20697.310681   20713.934408   20679.911383   20697.032113   \n",
       "std      8219.052185    8224.819853    8212.829251    8218.886333   \n",
       "min      7772.600000    7801.950000    7766.350000    7772.600000   \n",
       "25%     12713.500000   12721.650000   12703.900000   12713.250000   \n",
       "50%     19198.800000   19214.450000   19180.700000   19197.900000   \n",
       "75%     26863.350000   26877.750000   26846.200000   26862.650000   \n",
       "max     41729.900000   41827.650000   41600.550000   41722.200000   \n",
       "\n",
       "               SMA20          SMA50        SMA 100  \n",
       "count  192333.000000  192333.000000  192333.000000  \n",
       "mean    20694.677328   20690.957457   20684.575638  \n",
       "std      8220.118405    8222.057737    8225.221458  \n",
       "min        -1.000000      -1.000000      -1.000000  \n",
       "25%     12709.005000   12706.930000   12701.710396  \n",
       "50%     19198.837500   19194.966000   19185.750990  \n",
       "75%     26864.802500   26870.704000   26873.287624  \n",
       "max     41556.880000   41367.579000   41231.838614  "
      ]
     },
     "execution_count": 8,
     "metadata": {},
     "output_type": "execute_result"
    }
   ],
   "source": [
    "nse_data.describe()"
   ]
  },
  {
   "cell_type": "code",
   "execution_count": 9,
   "id": "a6bb8f59",
   "metadata": {},
   "outputs": [
    {
     "data": {
      "text/plain": [
       "2011"
      ]
     },
     "execution_count": 9,
     "metadata": {},
     "output_type": "execute_result"
    }
   ],
   "source": [
    "nse_data.iloc[0][\"Date\"].year"
   ]
  },
  {
   "cell_type": "markdown",
   "id": "e5284c2d",
   "metadata": {},
   "source": [
    " "
   ]
  },
  {
   "cell_type": "markdown",
   "id": "9827ad89",
   "metadata": {},
   "source": [
    " "
   ]
  },
  {
   "cell_type": "markdown",
   "id": "2ffd958a",
   "metadata": {},
   "source": [
    "## Import Secondary Data"
   ]
  },
  {
   "cell_type": "code",
   "execution_count": 8,
   "id": "55331fb8",
   "metadata": {},
   "outputs": [],
   "source": [
    "secondary_data = pd.read_excel(\"Data BN.xlsm\", usecols = [\"Date\", \"50 Dma\"])"
   ]
  },
  {
   "cell_type": "code",
   "execution_count": 9,
   "id": "add87130",
   "metadata": {},
   "outputs": [],
   "source": [
    "secondary_data['Date'] = secondary_data['Date'].dt.date"
   ]
  },
  {
   "cell_type": "code",
   "execution_count": 10,
   "id": "0a98d2c2",
   "metadata": {},
   "outputs": [
    {
     "data": {
      "text/html": [
       "<div>\n",
       "<style scoped>\n",
       "    .dataframe tbody tr th:only-of-type {\n",
       "        vertical-align: middle;\n",
       "    }\n",
       "\n",
       "    .dataframe tbody tr th {\n",
       "        vertical-align: top;\n",
       "    }\n",
       "\n",
       "    .dataframe thead th {\n",
       "        text-align: right;\n",
       "    }\n",
       "</style>\n",
       "<table border=\"1\" class=\"dataframe\">\n",
       "  <thead>\n",
       "    <tr style=\"text-align: right;\">\n",
       "      <th></th>\n",
       "      <th>Date</th>\n",
       "      <th>50 Dma</th>\n",
       "    </tr>\n",
       "  </thead>\n",
       "  <tbody>\n",
       "    <tr>\n",
       "      <th>0</th>\n",
       "      <td>2014-01-01</td>\n",
       "      <td>NaN</td>\n",
       "    </tr>\n",
       "    <tr>\n",
       "      <th>1</th>\n",
       "      <td>2014-01-02</td>\n",
       "      <td>NaN</td>\n",
       "    </tr>\n",
       "    <tr>\n",
       "      <th>2</th>\n",
       "      <td>2014-01-03</td>\n",
       "      <td>NaN</td>\n",
       "    </tr>\n",
       "    <tr>\n",
       "      <th>3</th>\n",
       "      <td>2014-01-06</td>\n",
       "      <td>NaN</td>\n",
       "    </tr>\n",
       "    <tr>\n",
       "      <th>4</th>\n",
       "      <td>2014-01-07</td>\n",
       "      <td>NaN</td>\n",
       "    </tr>\n",
       "  </tbody>\n",
       "</table>\n",
       "</div>"
      ],
      "text/plain": [
       "         Date  50 Dma\n",
       "0  2014-01-01     NaN\n",
       "1  2014-01-02     NaN\n",
       "2  2014-01-03     NaN\n",
       "3  2014-01-06     NaN\n",
       "4  2014-01-07     NaN"
      ]
     },
     "execution_count": 10,
     "metadata": {},
     "output_type": "execute_result"
    }
   ],
   "source": [
    "secondary_data.head()"
   ]
  },
  {
   "cell_type": "code",
   "execution_count": 13,
   "id": "b2951657",
   "metadata": {},
   "outputs": [
    {
     "data": {
      "text/html": [
       "<div>\n",
       "<style scoped>\n",
       "    .dataframe tbody tr th:only-of-type {\n",
       "        vertical-align: middle;\n",
       "    }\n",
       "\n",
       "    .dataframe tbody tr th {\n",
       "        vertical-align: top;\n",
       "    }\n",
       "\n",
       "    .dataframe thead th {\n",
       "        text-align: right;\n",
       "    }\n",
       "</style>\n",
       "<table border=\"1\" class=\"dataframe\">\n",
       "  <thead>\n",
       "    <tr style=\"text-align: right;\">\n",
       "      <th></th>\n",
       "      <th>Date</th>\n",
       "      <th>50 Dma</th>\n",
       "    </tr>\n",
       "  </thead>\n",
       "  <tbody>\n",
       "    <tr>\n",
       "      <th>2021</th>\n",
       "      <td>2022-03-07</td>\n",
       "      <td>37225.998</td>\n",
       "    </tr>\n",
       "    <tr>\n",
       "      <th>2022</th>\n",
       "      <td>2022-03-08</td>\n",
       "      <td>37192.019</td>\n",
       "    </tr>\n",
       "    <tr>\n",
       "      <th>2023</th>\n",
       "      <td>2022-03-09</td>\n",
       "      <td>37167.170</td>\n",
       "    </tr>\n",
       "    <tr>\n",
       "      <th>2024</th>\n",
       "      <td>2022-03-10</td>\n",
       "      <td>37153.006</td>\n",
       "    </tr>\n",
       "    <tr>\n",
       "      <th>2025</th>\n",
       "      <td>2022-03-11</td>\n",
       "      <td>37143.023</td>\n",
       "    </tr>\n",
       "  </tbody>\n",
       "</table>\n",
       "</div>"
      ],
      "text/plain": [
       "            Date     50 Dma\n",
       "2021  2022-03-07  37225.998\n",
       "2022  2022-03-08  37192.019\n",
       "2023  2022-03-09  37167.170\n",
       "2024  2022-03-10  37153.006\n",
       "2025  2022-03-11  37143.023"
      ]
     },
     "execution_count": 13,
     "metadata": {},
     "output_type": "execute_result"
    }
   ],
   "source": [
    "secondary_data.tail()"
   ]
  },
  {
   "cell_type": "markdown",
   "id": "2b88156b",
   "metadata": {},
   "source": [
    " "
   ]
  },
  {
   "cell_type": "code",
   "execution_count": 11,
   "id": "6cefb663",
   "metadata": {},
   "outputs": [],
   "source": [
    "nse_data = pd.merge(nse_data, secondary_data, on=['Date'])"
   ]
  },
  {
   "cell_type": "code",
   "execution_count": 12,
   "id": "538094bd",
   "metadata": {},
   "outputs": [
    {
     "data": {
      "text/html": [
       "<div>\n",
       "<style scoped>\n",
       "    .dataframe tbody tr th:only-of-type {\n",
       "        vertical-align: middle;\n",
       "    }\n",
       "\n",
       "    .dataframe tbody tr th {\n",
       "        vertical-align: top;\n",
       "    }\n",
       "\n",
       "    .dataframe thead th {\n",
       "        text-align: right;\n",
       "    }\n",
       "</style>\n",
       "<table border=\"1\" class=\"dataframe\">\n",
       "  <thead>\n",
       "    <tr style=\"text-align: right;\">\n",
       "      <th></th>\n",
       "      <th>Date</th>\n",
       "      <th>Time</th>\n",
       "      <th>Open</th>\n",
       "      <th>High</th>\n",
       "      <th>Low</th>\n",
       "      <th>Close</th>\n",
       "      <th>SMA20</th>\n",
       "      <th>SMA50</th>\n",
       "      <th>SMA 100</th>\n",
       "      <th>50 Dma</th>\n",
       "    </tr>\n",
       "  </thead>\n",
       "  <tbody>\n",
       "    <tr>\n",
       "      <th>0</th>\n",
       "      <td>2014-01-01</td>\n",
       "      <td>09:15:00</td>\n",
       "      <td>11418.90</td>\n",
       "      <td>11432.55</td>\n",
       "      <td>11388.00</td>\n",
       "      <td>11388.00</td>\n",
       "      <td>11368.1750</td>\n",
       "      <td>11362.309</td>\n",
       "      <td>11365.808911</td>\n",
       "      <td>NaN</td>\n",
       "    </tr>\n",
       "    <tr>\n",
       "      <th>1</th>\n",
       "      <td>2014-01-01</td>\n",
       "      <td>09:20:00</td>\n",
       "      <td>11390.75</td>\n",
       "      <td>11390.75</td>\n",
       "      <td>11361.00</td>\n",
       "      <td>11375.60</td>\n",
       "      <td>11368.6725</td>\n",
       "      <td>11362.511</td>\n",
       "      <td>11365.739604</td>\n",
       "      <td>NaN</td>\n",
       "    </tr>\n",
       "    <tr>\n",
       "      <th>2</th>\n",
       "      <td>2014-01-01</td>\n",
       "      <td>09:25:00</td>\n",
       "      <td>11375.60</td>\n",
       "      <td>11391.55</td>\n",
       "      <td>11373.55</td>\n",
       "      <td>11391.55</td>\n",
       "      <td>11369.8850</td>\n",
       "      <td>11363.107</td>\n",
       "      <td>11365.784158</td>\n",
       "      <td>NaN</td>\n",
       "    </tr>\n",
       "    <tr>\n",
       "      <th>3</th>\n",
       "      <td>2014-01-01</td>\n",
       "      <td>09:30:00</td>\n",
       "      <td>11391.55</td>\n",
       "      <td>11392.95</td>\n",
       "      <td>11381.10</td>\n",
       "      <td>11385.00</td>\n",
       "      <td>11370.8225</td>\n",
       "      <td>11363.794</td>\n",
       "      <td>11365.911386</td>\n",
       "      <td>NaN</td>\n",
       "    </tr>\n",
       "    <tr>\n",
       "      <th>4</th>\n",
       "      <td>2014-01-01</td>\n",
       "      <td>09:35:00</td>\n",
       "      <td>11385.00</td>\n",
       "      <td>11388.85</td>\n",
       "      <td>11377.75</td>\n",
       "      <td>11377.75</td>\n",
       "      <td>11371.5300</td>\n",
       "      <td>11364.071</td>\n",
       "      <td>11365.981188</td>\n",
       "      <td>NaN</td>\n",
       "    </tr>\n",
       "  </tbody>\n",
       "</table>\n",
       "</div>"
      ],
      "text/plain": [
       "         Date      Time      Open      High      Low      Close       SMA20  \\\n",
       "0  2014-01-01  09:15:00  11418.90  11432.55  11388.00  11388.00  11368.1750   \n",
       "1  2014-01-01  09:20:00  11390.75  11390.75  11361.00  11375.60  11368.6725   \n",
       "2  2014-01-01  09:25:00  11375.60  11391.55  11373.55  11391.55  11369.8850   \n",
       "3  2014-01-01  09:30:00  11391.55  11392.95  11381.10  11385.00  11370.8225   \n",
       "4  2014-01-01  09:35:00  11385.00  11388.85  11377.75  11377.75  11371.5300   \n",
       "\n",
       "       SMA50       SMA 100  50 Dma  \n",
       "0  11362.309  11365.808911     NaN  \n",
       "1  11362.511  11365.739604     NaN  \n",
       "2  11363.107  11365.784158     NaN  \n",
       "3  11363.794  11365.911386     NaN  \n",
       "4  11364.071  11365.981188     NaN  "
      ]
     },
     "execution_count": 12,
     "metadata": {},
     "output_type": "execute_result"
    }
   ],
   "source": [
    "nse_data.head()"
   ]
  },
  {
   "cell_type": "code",
   "execution_count": 13,
   "id": "6694c977",
   "metadata": {},
   "outputs": [
    {
     "data": {
      "text/html": [
       "<div>\n",
       "<style scoped>\n",
       "    .dataframe tbody tr th:only-of-type {\n",
       "        vertical-align: middle;\n",
       "    }\n",
       "\n",
       "    .dataframe tbody tr th {\n",
       "        vertical-align: top;\n",
       "    }\n",
       "\n",
       "    .dataframe thead th {\n",
       "        text-align: right;\n",
       "    }\n",
       "</style>\n",
       "<table border=\"1\" class=\"dataframe\">\n",
       "  <thead>\n",
       "    <tr style=\"text-align: right;\">\n",
       "      <th></th>\n",
       "      <th>Date</th>\n",
       "      <th>Time</th>\n",
       "      <th>Open</th>\n",
       "      <th>High</th>\n",
       "      <th>Low</th>\n",
       "      <th>Close</th>\n",
       "      <th>SMA20</th>\n",
       "      <th>SMA50</th>\n",
       "      <th>SMA 100</th>\n",
       "      <th>50 Dma</th>\n",
       "    </tr>\n",
       "  </thead>\n",
       "  <tbody>\n",
       "    <tr>\n",
       "      <th>147419</th>\n",
       "      <td>2022-01-24</td>\n",
       "      <td>15:05:00</td>\n",
       "      <td>36874.30</td>\n",
       "      <td>36946.70</td>\n",
       "      <td>36813.45</td>\n",
       "      <td>36946.70</td>\n",
       "      <td>36725.6400</td>\n",
       "      <td>36968.661</td>\n",
       "      <td>37242.978218</td>\n",
       "      <td>36819.007</td>\n",
       "    </tr>\n",
       "    <tr>\n",
       "      <th>147420</th>\n",
       "      <td>2022-01-24</td>\n",
       "      <td>15:10:00</td>\n",
       "      <td>36946.55</td>\n",
       "      <td>37063.65</td>\n",
       "      <td>36929.50</td>\n",
       "      <td>37038.35</td>\n",
       "      <td>36735.3350</td>\n",
       "      <td>36960.372</td>\n",
       "      <td>37237.150000</td>\n",
       "      <td>36819.007</td>\n",
       "    </tr>\n",
       "    <tr>\n",
       "      <th>147421</th>\n",
       "      <td>2022-01-24</td>\n",
       "      <td>15:15:00</td>\n",
       "      <td>37048.60</td>\n",
       "      <td>37073.95</td>\n",
       "      <td>36990.90</td>\n",
       "      <td>37050.30</td>\n",
       "      <td>36747.5000</td>\n",
       "      <td>36953.933</td>\n",
       "      <td>37231.681188</td>\n",
       "      <td>36819.007</td>\n",
       "    </tr>\n",
       "    <tr>\n",
       "      <th>147422</th>\n",
       "      <td>2022-01-24</td>\n",
       "      <td>15:20:00</td>\n",
       "      <td>37047.80</td>\n",
       "      <td>37062.85</td>\n",
       "      <td>36894.25</td>\n",
       "      <td>36905.65</td>\n",
       "      <td>36751.2025</td>\n",
       "      <td>36944.372</td>\n",
       "      <td>37223.801980</td>\n",
       "      <td>36819.007</td>\n",
       "    </tr>\n",
       "    <tr>\n",
       "      <th>147423</th>\n",
       "      <td>2022-01-24</td>\n",
       "      <td>15:25:00</td>\n",
       "      <td>36902.40</td>\n",
       "      <td>36945.05</td>\n",
       "      <td>36808.15</td>\n",
       "      <td>36834.90</td>\n",
       "      <td>36751.3125</td>\n",
       "      <td>36934.724</td>\n",
       "      <td>37215.664356</td>\n",
       "      <td>36819.007</td>\n",
       "    </tr>\n",
       "  </tbody>\n",
       "</table>\n",
       "</div>"
      ],
      "text/plain": [
       "              Date      Time      Open      High      Low      Close  \\\n",
       "147419  2022-01-24  15:05:00  36874.30  36946.70  36813.45  36946.70   \n",
       "147420  2022-01-24  15:10:00  36946.55  37063.65  36929.50  37038.35   \n",
       "147421  2022-01-24  15:15:00  37048.60  37073.95  36990.90  37050.30   \n",
       "147422  2022-01-24  15:20:00  37047.80  37062.85  36894.25  36905.65   \n",
       "147423  2022-01-24  15:25:00  36902.40  36945.05  36808.15  36834.90   \n",
       "\n",
       "             SMA20      SMA50       SMA 100     50 Dma  \n",
       "147419  36725.6400  36968.661  37242.978218  36819.007  \n",
       "147420  36735.3350  36960.372  37237.150000  36819.007  \n",
       "147421  36747.5000  36953.933  37231.681188  36819.007  \n",
       "147422  36751.2025  36944.372  37223.801980  36819.007  \n",
       "147423  36751.3125  36934.724  37215.664356  36819.007  "
      ]
     },
     "execution_count": 13,
     "metadata": {},
     "output_type": "execute_result"
    }
   ],
   "source": [
    "nse_data.tail()"
   ]
  },
  {
   "cell_type": "code",
   "execution_count": 17,
   "id": "7e4ef378",
   "metadata": {},
   "outputs": [
    {
     "data": {
      "text/html": [
       "<div>\n",
       "<style scoped>\n",
       "    .dataframe tbody tr th:only-of-type {\n",
       "        vertical-align: middle;\n",
       "    }\n",
       "\n",
       "    .dataframe tbody tr th {\n",
       "        vertical-align: top;\n",
       "    }\n",
       "\n",
       "    .dataframe thead th {\n",
       "        text-align: right;\n",
       "    }\n",
       "</style>\n",
       "<table border=\"1\" class=\"dataframe\">\n",
       "  <thead>\n",
       "    <tr style=\"text-align: right;\">\n",
       "      <th></th>\n",
       "      <th>Date</th>\n",
       "      <th>Time</th>\n",
       "      <th>Open</th>\n",
       "      <th>High</th>\n",
       "      <th>Low</th>\n",
       "      <th>Close</th>\n",
       "      <th>SMA20</th>\n",
       "      <th>SMA50</th>\n",
       "      <th>SMA 100</th>\n",
       "      <th>50 Dma</th>\n",
       "    </tr>\n",
       "  </thead>\n",
       "  <tbody>\n",
       "    <tr>\n",
       "      <th>65856</th>\n",
       "      <td>2017-08-28</td>\n",
       "      <td>12:50:00</td>\n",
       "      <td>24380.95</td>\n",
       "      <td>24385.70</td>\n",
       "      <td>24375.70</td>\n",
       "      <td>24376.60</td>\n",
       "      <td>24372.6125</td>\n",
       "      <td>24359.855</td>\n",
       "      <td>24325.790594</td>\n",
       "      <td>24047.353</td>\n",
       "    </tr>\n",
       "    <tr>\n",
       "      <th>99127</th>\n",
       "      <td>2019-06-18</td>\n",
       "      <td>10:25:00</td>\n",
       "      <td>30367.45</td>\n",
       "      <td>30379.15</td>\n",
       "      <td>30356.90</td>\n",
       "      <td>30370.15</td>\n",
       "      <td>30321.3225</td>\n",
       "      <td>30329.335</td>\n",
       "      <td>30413.736139</td>\n",
       "      <td>30200.277</td>\n",
       "    </tr>\n",
       "    <tr>\n",
       "      <th>71628</th>\n",
       "      <td>2017-12-18</td>\n",
       "      <td>12:35:00</td>\n",
       "      <td>25716.70</td>\n",
       "      <td>25737.05</td>\n",
       "      <td>25716.70</td>\n",
       "      <td>25732.55</td>\n",
       "      <td>25706.7925</td>\n",
       "      <td>25575.175</td>\n",
       "      <td>25513.962376</td>\n",
       "      <td>25142.574</td>\n",
       "    </tr>\n",
       "    <tr>\n",
       "      <th>91096</th>\n",
       "      <td>2019-01-09</td>\n",
       "      <td>09:55:00</td>\n",
       "      <td>27634.25</td>\n",
       "      <td>27640.85</td>\n",
       "      <td>27609.30</td>\n",
       "      <td>27615.55</td>\n",
       "      <td>27544.1275</td>\n",
       "      <td>27435.588</td>\n",
       "      <td>27368.715347</td>\n",
       "      <td>26466.793</td>\n",
       "    </tr>\n",
       "    <tr>\n",
       "      <th>124810</th>\n",
       "      <td>2020-11-03</td>\n",
       "      <td>13:20:00</td>\n",
       "      <td>25572.30</td>\n",
       "      <td>25591.50</td>\n",
       "      <td>25564.00</td>\n",
       "      <td>25564.00</td>\n",
       "      <td>25536.3675</td>\n",
       "      <td>25453.877</td>\n",
       "      <td>25079.765347</td>\n",
       "      <td>23112.820</td>\n",
       "    </tr>\n",
       "    <tr>\n",
       "      <th>114173</th>\n",
       "      <td>2020-04-13</td>\n",
       "      <td>14:25:00</td>\n",
       "      <td>19400.10</td>\n",
       "      <td>19446.40</td>\n",
       "      <td>19361.75</td>\n",
       "      <td>19416.25</td>\n",
       "      <td>19481.0725</td>\n",
       "      <td>19540.420</td>\n",
       "      <td>19587.368812</td>\n",
       "      <td>26007.832</td>\n",
       "    </tr>\n",
       "    <tr>\n",
       "      <th>118454</th>\n",
       "      <td>2020-07-06</td>\n",
       "      <td>14:55:00</td>\n",
       "      <td>22203.35</td>\n",
       "      <td>22224.55</td>\n",
       "      <td>22183.25</td>\n",
       "      <td>22218.90</td>\n",
       "      <td>22271.8700</td>\n",
       "      <td>22275.464</td>\n",
       "      <td>22141.291089</td>\n",
       "      <td>20147.276</td>\n",
       "    </tr>\n",
       "    <tr>\n",
       "      <th>111894</th>\n",
       "      <td>2020-02-25</td>\n",
       "      <td>12:00:00</td>\n",
       "      <td>30537.85</td>\n",
       "      <td>30562.50</td>\n",
       "      <td>30530.10</td>\n",
       "      <td>30554.30</td>\n",
       "      <td>30515.5450</td>\n",
       "      <td>30490.272</td>\n",
       "      <td>30550.008416</td>\n",
       "      <td>31393.845</td>\n",
       "    </tr>\n",
       "    <tr>\n",
       "      <th>83082</th>\n",
       "      <td>2018-07-30</td>\n",
       "      <td>10:50:00</td>\n",
       "      <td>27619.30</td>\n",
       "      <td>27633.65</td>\n",
       "      <td>27615.45</td>\n",
       "      <td>27627.20</td>\n",
       "      <td>27674.8450</td>\n",
       "      <td>27628.204</td>\n",
       "      <td>27591.114851</td>\n",
       "      <td>26607.367</td>\n",
       "    </tr>\n",
       "    <tr>\n",
       "      <th>113908</th>\n",
       "      <td>2020-04-07</td>\n",
       "      <td>11:05:00</td>\n",
       "      <td>18173.40</td>\n",
       "      <td>18220.95</td>\n",
       "      <td>18152.40</td>\n",
       "      <td>18211.20</td>\n",
       "      <td>18176.5600</td>\n",
       "      <td>17735.233</td>\n",
       "      <td>17694.558911</td>\n",
       "      <td>26697.682</td>\n",
       "    </tr>\n",
       "  </tbody>\n",
       "</table>\n",
       "</div>"
      ],
      "text/plain": [
       "              Date      Time      Open      High      Low      Close  \\\n",
       "65856   2017-08-28  12:50:00  24380.95  24385.70  24375.70  24376.60   \n",
       "99127   2019-06-18  10:25:00  30367.45  30379.15  30356.90  30370.15   \n",
       "71628   2017-12-18  12:35:00  25716.70  25737.05  25716.70  25732.55   \n",
       "91096   2019-01-09  09:55:00  27634.25  27640.85  27609.30  27615.55   \n",
       "124810  2020-11-03  13:20:00  25572.30  25591.50  25564.00  25564.00   \n",
       "114173  2020-04-13  14:25:00  19400.10  19446.40  19361.75  19416.25   \n",
       "118454  2020-07-06  14:55:00  22203.35  22224.55  22183.25  22218.90   \n",
       "111894  2020-02-25  12:00:00  30537.85  30562.50  30530.10  30554.30   \n",
       "83082   2018-07-30  10:50:00  27619.30  27633.65  27615.45  27627.20   \n",
       "113908  2020-04-07  11:05:00  18173.40  18220.95  18152.40  18211.20   \n",
       "\n",
       "             SMA20      SMA50       SMA 100     50 Dma  \n",
       "65856   24372.6125  24359.855  24325.790594  24047.353  \n",
       "99127   30321.3225  30329.335  30413.736139  30200.277  \n",
       "71628   25706.7925  25575.175  25513.962376  25142.574  \n",
       "91096   27544.1275  27435.588  27368.715347  26466.793  \n",
       "124810  25536.3675  25453.877  25079.765347  23112.820  \n",
       "114173  19481.0725  19540.420  19587.368812  26007.832  \n",
       "118454  22271.8700  22275.464  22141.291089  20147.276  \n",
       "111894  30515.5450  30490.272  30550.008416  31393.845  \n",
       "83082   27674.8450  27628.204  27591.114851  26607.367  \n",
       "113908  18176.5600  17735.233  17694.558911  26697.682  "
      ]
     },
     "execution_count": 17,
     "metadata": {},
     "output_type": "execute_result"
    }
   ],
   "source": [
    "nse_data.sample(10)"
   ]
  },
  {
   "cell_type": "code",
   "execution_count": 18,
   "id": "60596772",
   "metadata": {},
   "outputs": [
    {
     "data": {
      "text/html": [
       "<div>\n",
       "<style scoped>\n",
       "    .dataframe tbody tr th:only-of-type {\n",
       "        vertical-align: middle;\n",
       "    }\n",
       "\n",
       "    .dataframe tbody tr th {\n",
       "        vertical-align: top;\n",
       "    }\n",
       "\n",
       "    .dataframe thead th {\n",
       "        text-align: right;\n",
       "    }\n",
       "</style>\n",
       "<table border=\"1\" class=\"dataframe\">\n",
       "  <thead>\n",
       "    <tr style=\"text-align: right;\">\n",
       "      <th></th>\n",
       "      <th>Date</th>\n",
       "      <th>Time</th>\n",
       "      <th>Open</th>\n",
       "      <th>High</th>\n",
       "      <th>Low</th>\n",
       "      <th>Close</th>\n",
       "      <th>SMA20</th>\n",
       "      <th>SMA50</th>\n",
       "      <th>SMA 100</th>\n",
       "      <th>50 Dma</th>\n",
       "    </tr>\n",
       "  </thead>\n",
       "  <tbody>\n",
       "    <tr>\n",
       "      <th>5000</th>\n",
       "      <td>2014-04-07</td>\n",
       "      <td>09:50:00</td>\n",
       "      <td>12591.95</td>\n",
       "      <td>12593.05</td>\n",
       "      <td>12580.15</td>\n",
       "      <td>12581.40</td>\n",
       "      <td>12564.1550</td>\n",
       "      <td>12576.920</td>\n",
       "      <td>12558.912871</td>\n",
       "      <td>11289.266</td>\n",
       "    </tr>\n",
       "    <tr>\n",
       "      <th>5001</th>\n",
       "      <td>2014-04-07</td>\n",
       "      <td>09:55:00</td>\n",
       "      <td>12581.40</td>\n",
       "      <td>12585.85</td>\n",
       "      <td>12565.20</td>\n",
       "      <td>12571.90</td>\n",
       "      <td>12565.2350</td>\n",
       "      <td>12576.327</td>\n",
       "      <td>12559.021287</td>\n",
       "      <td>11289.266</td>\n",
       "    </tr>\n",
       "    <tr>\n",
       "      <th>5002</th>\n",
       "      <td>2014-04-07</td>\n",
       "      <td>10:00:00</td>\n",
       "      <td>12571.90</td>\n",
       "      <td>12582.35</td>\n",
       "      <td>12568.05</td>\n",
       "      <td>12570.95</td>\n",
       "      <td>12566.0375</td>\n",
       "      <td>12575.680</td>\n",
       "      <td>12559.120792</td>\n",
       "      <td>11289.266</td>\n",
       "    </tr>\n",
       "    <tr>\n",
       "      <th>5003</th>\n",
       "      <td>2014-04-07</td>\n",
       "      <td>10:05:00</td>\n",
       "      <td>12570.95</td>\n",
       "      <td>12578.90</td>\n",
       "      <td>12561.30</td>\n",
       "      <td>12576.25</td>\n",
       "      <td>12567.4925</td>\n",
       "      <td>12575.389</td>\n",
       "      <td>12559.247525</td>\n",
       "      <td>11289.266</td>\n",
       "    </tr>\n",
       "    <tr>\n",
       "      <th>5004</th>\n",
       "      <td>2014-04-07</td>\n",
       "      <td>10:10:00</td>\n",
       "      <td>12576.25</td>\n",
       "      <td>12577.05</td>\n",
       "      <td>12562.95</td>\n",
       "      <td>12565.85</td>\n",
       "      <td>12568.4625</td>\n",
       "      <td>12574.929</td>\n",
       "      <td>12559.362376</td>\n",
       "      <td>11289.266</td>\n",
       "    </tr>\n",
       "    <tr>\n",
       "      <th>5005</th>\n",
       "      <td>2014-04-07</td>\n",
       "      <td>10:15:00</td>\n",
       "      <td>12565.85</td>\n",
       "      <td>12567.00</td>\n",
       "      <td>12528.45</td>\n",
       "      <td>12528.45</td>\n",
       "      <td>12567.3200</td>\n",
       "      <td>12573.523</td>\n",
       "      <td>12559.054950</td>\n",
       "      <td>11289.266</td>\n",
       "    </tr>\n",
       "    <tr>\n",
       "      <th>5006</th>\n",
       "      <td>2014-04-07</td>\n",
       "      <td>10:20:00</td>\n",
       "      <td>12531.95</td>\n",
       "      <td>12557.60</td>\n",
       "      <td>12531.95</td>\n",
       "      <td>12552.05</td>\n",
       "      <td>12567.8100</td>\n",
       "      <td>12572.636</td>\n",
       "      <td>12558.823762</td>\n",
       "      <td>11289.266</td>\n",
       "    </tr>\n",
       "    <tr>\n",
       "      <th>5007</th>\n",
       "      <td>2014-04-07</td>\n",
       "      <td>10:25:00</td>\n",
       "      <td>12552.05</td>\n",
       "      <td>12552.60</td>\n",
       "      <td>12522.25</td>\n",
       "      <td>12525.25</td>\n",
       "      <td>12567.5925</td>\n",
       "      <td>12570.967</td>\n",
       "      <td>12558.376238</td>\n",
       "      <td>11289.266</td>\n",
       "    </tr>\n",
       "    <tr>\n",
       "      <th>5008</th>\n",
       "      <td>2014-04-07</td>\n",
       "      <td>10:30:00</td>\n",
       "      <td>12525.25</td>\n",
       "      <td>12536.45</td>\n",
       "      <td>12514.45</td>\n",
       "      <td>12536.45</td>\n",
       "      <td>12567.8175</td>\n",
       "      <td>12569.476</td>\n",
       "      <td>12558.132178</td>\n",
       "      <td>11289.266</td>\n",
       "    </tr>\n",
       "    <tr>\n",
       "      <th>5009</th>\n",
       "      <td>2014-04-07</td>\n",
       "      <td>10:35:00</td>\n",
       "      <td>12536.45</td>\n",
       "      <td>12538.15</td>\n",
       "      <td>12505.30</td>\n",
       "      <td>12516.55</td>\n",
       "      <td>12566.7500</td>\n",
       "      <td>12567.908</td>\n",
       "      <td>12558.038614</td>\n",
       "      <td>11289.266</td>\n",
       "    </tr>\n",
       "  </tbody>\n",
       "</table>\n",
       "</div>"
      ],
      "text/plain": [
       "            Date      Time      Open      High      Low      Close  \\\n",
       "5000  2014-04-07  09:50:00  12591.95  12593.05  12580.15  12581.40   \n",
       "5001  2014-04-07  09:55:00  12581.40  12585.85  12565.20  12571.90   \n",
       "5002  2014-04-07  10:00:00  12571.90  12582.35  12568.05  12570.95   \n",
       "5003  2014-04-07  10:05:00  12570.95  12578.90  12561.30  12576.25   \n",
       "5004  2014-04-07  10:10:00  12576.25  12577.05  12562.95  12565.85   \n",
       "5005  2014-04-07  10:15:00  12565.85  12567.00  12528.45  12528.45   \n",
       "5006  2014-04-07  10:20:00  12531.95  12557.60  12531.95  12552.05   \n",
       "5007  2014-04-07  10:25:00  12552.05  12552.60  12522.25  12525.25   \n",
       "5008  2014-04-07  10:30:00  12525.25  12536.45  12514.45  12536.45   \n",
       "5009  2014-04-07  10:35:00  12536.45  12538.15  12505.30  12516.55   \n",
       "\n",
       "           SMA20      SMA50       SMA 100     50 Dma  \n",
       "5000  12564.1550  12576.920  12558.912871  11289.266  \n",
       "5001  12565.2350  12576.327  12559.021287  11289.266  \n",
       "5002  12566.0375  12575.680  12559.120792  11289.266  \n",
       "5003  12567.4925  12575.389  12559.247525  11289.266  \n",
       "5004  12568.4625  12574.929  12559.362376  11289.266  \n",
       "5005  12567.3200  12573.523  12559.054950  11289.266  \n",
       "5006  12567.8100  12572.636  12558.823762  11289.266  \n",
       "5007  12567.5925  12570.967  12558.376238  11289.266  \n",
       "5008  12567.8175  12569.476  12558.132178  11289.266  \n",
       "5009  12566.7500  12567.908  12558.038614  11289.266  "
      ]
     },
     "execution_count": 18,
     "metadata": {},
     "output_type": "execute_result"
    }
   ],
   "source": [
    "nse_data.iloc[5000:5010]"
   ]
  },
  {
   "cell_type": "code",
   "execution_count": 14,
   "id": "09407516",
   "metadata": {},
   "outputs": [],
   "source": [
    "nse_data.dropna(inplace=True)"
   ]
  },
  {
   "cell_type": "code",
   "execution_count": 15,
   "id": "d1fb00a2",
   "metadata": {},
   "outputs": [
    {
     "data": {
      "text/html": [
       "<div>\n",
       "<style scoped>\n",
       "    .dataframe tbody tr th:only-of-type {\n",
       "        vertical-align: middle;\n",
       "    }\n",
       "\n",
       "    .dataframe tbody tr th {\n",
       "        vertical-align: top;\n",
       "    }\n",
       "\n",
       "    .dataframe thead th {\n",
       "        text-align: right;\n",
       "    }\n",
       "</style>\n",
       "<table border=\"1\" class=\"dataframe\">\n",
       "  <thead>\n",
       "    <tr style=\"text-align: right;\">\n",
       "      <th></th>\n",
       "      <th>Date</th>\n",
       "      <th>Time</th>\n",
       "      <th>Open</th>\n",
       "      <th>High</th>\n",
       "      <th>Low</th>\n",
       "      <th>Close</th>\n",
       "      <th>SMA20</th>\n",
       "      <th>SMA50</th>\n",
       "      <th>SMA 100</th>\n",
       "      <th>50 Dma</th>\n",
       "    </tr>\n",
       "  </thead>\n",
       "  <tbody>\n",
       "    <tr>\n",
       "      <th>3675</th>\n",
       "      <td>2014-03-12</td>\n",
       "      <td>09:15:00</td>\n",
       "      <td>11997.85</td>\n",
       "      <td>12049.25</td>\n",
       "      <td>11984.80</td>\n",
       "      <td>11998.70</td>\n",
       "      <td>12033.6700</td>\n",
       "      <td>12064.246</td>\n",
       "      <td>12090.860891</td>\n",
       "      <td>10814.169</td>\n",
       "    </tr>\n",
       "    <tr>\n",
       "      <th>3676</th>\n",
       "      <td>2014-03-12</td>\n",
       "      <td>09:20:00</td>\n",
       "      <td>11998.70</td>\n",
       "      <td>12031.40</td>\n",
       "      <td>11967.75</td>\n",
       "      <td>11967.75</td>\n",
       "      <td>12028.0375</td>\n",
       "      <td>12061.526</td>\n",
       "      <td>12089.981683</td>\n",
       "      <td>10814.169</td>\n",
       "    </tr>\n",
       "    <tr>\n",
       "      <th>3677</th>\n",
       "      <td>2014-03-12</td>\n",
       "      <td>09:25:00</td>\n",
       "      <td>11968.05</td>\n",
       "      <td>11990.40</td>\n",
       "      <td>11949.45</td>\n",
       "      <td>11968.85</td>\n",
       "      <td>12023.4075</td>\n",
       "      <td>12058.600</td>\n",
       "      <td>12089.100990</td>\n",
       "      <td>10814.169</td>\n",
       "    </tr>\n",
       "    <tr>\n",
       "      <th>3678</th>\n",
       "      <td>2014-03-12</td>\n",
       "      <td>09:30:00</td>\n",
       "      <td>11968.85</td>\n",
       "      <td>11968.85</td>\n",
       "      <td>11922.90</td>\n",
       "      <td>11938.55</td>\n",
       "      <td>12017.5875</td>\n",
       "      <td>12054.983</td>\n",
       "      <td>12088.296535</td>\n",
       "      <td>10814.169</td>\n",
       "    </tr>\n",
       "    <tr>\n",
       "      <th>3679</th>\n",
       "      <td>2014-03-12</td>\n",
       "      <td>09:35:00</td>\n",
       "      <td>11935.80</td>\n",
       "      <td>11949.80</td>\n",
       "      <td>11928.65</td>\n",
       "      <td>11949.80</td>\n",
       "      <td>12013.0550</td>\n",
       "      <td>12051.252</td>\n",
       "      <td>12087.416832</td>\n",
       "      <td>10814.169</td>\n",
       "    </tr>\n",
       "  </tbody>\n",
       "</table>\n",
       "</div>"
      ],
      "text/plain": [
       "            Date      Time      Open      High      Low      Close  \\\n",
       "3675  2014-03-12  09:15:00  11997.85  12049.25  11984.80  11998.70   \n",
       "3676  2014-03-12  09:20:00  11998.70  12031.40  11967.75  11967.75   \n",
       "3677  2014-03-12  09:25:00  11968.05  11990.40  11949.45  11968.85   \n",
       "3678  2014-03-12  09:30:00  11968.85  11968.85  11922.90  11938.55   \n",
       "3679  2014-03-12  09:35:00  11935.80  11949.80  11928.65  11949.80   \n",
       "\n",
       "           SMA20      SMA50       SMA 100     50 Dma  \n",
       "3675  12033.6700  12064.246  12090.860891  10814.169  \n",
       "3676  12028.0375  12061.526  12089.981683  10814.169  \n",
       "3677  12023.4075  12058.600  12089.100990  10814.169  \n",
       "3678  12017.5875  12054.983  12088.296535  10814.169  \n",
       "3679  12013.0550  12051.252  12087.416832  10814.169  "
      ]
     },
     "execution_count": 15,
     "metadata": {},
     "output_type": "execute_result"
    }
   ],
   "source": [
    "nse_data.head()"
   ]
  },
  {
   "cell_type": "code",
   "execution_count": 21,
   "id": "d8fff1a8",
   "metadata": {},
   "outputs": [
    {
     "data": {
      "text/html": [
       "<div>\n",
       "<style scoped>\n",
       "    .dataframe tbody tr th:only-of-type {\n",
       "        vertical-align: middle;\n",
       "    }\n",
       "\n",
       "    .dataframe tbody tr th {\n",
       "        vertical-align: top;\n",
       "    }\n",
       "\n",
       "    .dataframe thead th {\n",
       "        text-align: right;\n",
       "    }\n",
       "</style>\n",
       "<table border=\"1\" class=\"dataframe\">\n",
       "  <thead>\n",
       "    <tr style=\"text-align: right;\">\n",
       "      <th></th>\n",
       "      <th>Date</th>\n",
       "      <th>Time</th>\n",
       "      <th>Open</th>\n",
       "      <th>High</th>\n",
       "      <th>Low</th>\n",
       "      <th>Close</th>\n",
       "      <th>SMA20</th>\n",
       "      <th>SMA50</th>\n",
       "      <th>SMA 100</th>\n",
       "      <th>50 Dma</th>\n",
       "    </tr>\n",
       "  </thead>\n",
       "  <tbody>\n",
       "    <tr>\n",
       "      <th>147419</th>\n",
       "      <td>2022-01-24</td>\n",
       "      <td>15:05:00</td>\n",
       "      <td>36874.30</td>\n",
       "      <td>36946.70</td>\n",
       "      <td>36813.45</td>\n",
       "      <td>36946.70</td>\n",
       "      <td>36725.6400</td>\n",
       "      <td>36968.661</td>\n",
       "      <td>37242.978218</td>\n",
       "      <td>36819.007</td>\n",
       "    </tr>\n",
       "    <tr>\n",
       "      <th>147420</th>\n",
       "      <td>2022-01-24</td>\n",
       "      <td>15:10:00</td>\n",
       "      <td>36946.55</td>\n",
       "      <td>37063.65</td>\n",
       "      <td>36929.50</td>\n",
       "      <td>37038.35</td>\n",
       "      <td>36735.3350</td>\n",
       "      <td>36960.372</td>\n",
       "      <td>37237.150000</td>\n",
       "      <td>36819.007</td>\n",
       "    </tr>\n",
       "    <tr>\n",
       "      <th>147421</th>\n",
       "      <td>2022-01-24</td>\n",
       "      <td>15:15:00</td>\n",
       "      <td>37048.60</td>\n",
       "      <td>37073.95</td>\n",
       "      <td>36990.90</td>\n",
       "      <td>37050.30</td>\n",
       "      <td>36747.5000</td>\n",
       "      <td>36953.933</td>\n",
       "      <td>37231.681188</td>\n",
       "      <td>36819.007</td>\n",
       "    </tr>\n",
       "    <tr>\n",
       "      <th>147422</th>\n",
       "      <td>2022-01-24</td>\n",
       "      <td>15:20:00</td>\n",
       "      <td>37047.80</td>\n",
       "      <td>37062.85</td>\n",
       "      <td>36894.25</td>\n",
       "      <td>36905.65</td>\n",
       "      <td>36751.2025</td>\n",
       "      <td>36944.372</td>\n",
       "      <td>37223.801980</td>\n",
       "      <td>36819.007</td>\n",
       "    </tr>\n",
       "    <tr>\n",
       "      <th>147423</th>\n",
       "      <td>2022-01-24</td>\n",
       "      <td>15:25:00</td>\n",
       "      <td>36902.40</td>\n",
       "      <td>36945.05</td>\n",
       "      <td>36808.15</td>\n",
       "      <td>36834.90</td>\n",
       "      <td>36751.3125</td>\n",
       "      <td>36934.724</td>\n",
       "      <td>37215.664356</td>\n",
       "      <td>36819.007</td>\n",
       "    </tr>\n",
       "  </tbody>\n",
       "</table>\n",
       "</div>"
      ],
      "text/plain": [
       "              Date      Time      Open      High      Low      Close  \\\n",
       "147419  2022-01-24  15:05:00  36874.30  36946.70  36813.45  36946.70   \n",
       "147420  2022-01-24  15:10:00  36946.55  37063.65  36929.50  37038.35   \n",
       "147421  2022-01-24  15:15:00  37048.60  37073.95  36990.90  37050.30   \n",
       "147422  2022-01-24  15:20:00  37047.80  37062.85  36894.25  36905.65   \n",
       "147423  2022-01-24  15:25:00  36902.40  36945.05  36808.15  36834.90   \n",
       "\n",
       "             SMA20      SMA50       SMA 100     50 Dma  \n",
       "147419  36725.6400  36968.661  37242.978218  36819.007  \n",
       "147420  36735.3350  36960.372  37237.150000  36819.007  \n",
       "147421  36747.5000  36953.933  37231.681188  36819.007  \n",
       "147422  36751.2025  36944.372  37223.801980  36819.007  \n",
       "147423  36751.3125  36934.724  37215.664356  36819.007  "
      ]
     },
     "execution_count": 21,
     "metadata": {},
     "output_type": "execute_result"
    }
   ],
   "source": [
    "nse_data.tail()"
   ]
  },
  {
   "cell_type": "code",
   "execution_count": 16,
   "id": "955c85ff",
   "metadata": {},
   "outputs": [],
   "source": [
    "nse_data.reset_index(drop=True, inplace=True)"
   ]
  },
  {
   "cell_type": "code",
   "execution_count": 20,
   "id": "9a83efa2",
   "metadata": {},
   "outputs": [
    {
     "data": {
      "text/html": [
       "<div>\n",
       "<style scoped>\n",
       "    .dataframe tbody tr th:only-of-type {\n",
       "        vertical-align: middle;\n",
       "    }\n",
       "\n",
       "    .dataframe tbody tr th {\n",
       "        vertical-align: top;\n",
       "    }\n",
       "\n",
       "    .dataframe thead th {\n",
       "        text-align: right;\n",
       "    }\n",
       "</style>\n",
       "<table border=\"1\" class=\"dataframe\">\n",
       "  <thead>\n",
       "    <tr style=\"text-align: right;\">\n",
       "      <th></th>\n",
       "      <th>Date</th>\n",
       "      <th>Time</th>\n",
       "      <th>Open</th>\n",
       "      <th>High</th>\n",
       "      <th>Low</th>\n",
       "      <th>Close</th>\n",
       "      <th>SMA20</th>\n",
       "      <th>SMA50</th>\n",
       "      <th>SMA 100</th>\n",
       "      <th>50 Dma</th>\n",
       "    </tr>\n",
       "  </thead>\n",
       "  <tbody>\n",
       "    <tr>\n",
       "      <th>0</th>\n",
       "      <td>2014-03-12</td>\n",
       "      <td>09:15:00</td>\n",
       "      <td>11997.85</td>\n",
       "      <td>12049.25</td>\n",
       "      <td>11984.80</td>\n",
       "      <td>11998.70</td>\n",
       "      <td>12033.6700</td>\n",
       "      <td>12064.246</td>\n",
       "      <td>12090.860891</td>\n",
       "      <td>10814.169</td>\n",
       "    </tr>\n",
       "    <tr>\n",
       "      <th>1</th>\n",
       "      <td>2014-03-12</td>\n",
       "      <td>09:20:00</td>\n",
       "      <td>11998.70</td>\n",
       "      <td>12031.40</td>\n",
       "      <td>11967.75</td>\n",
       "      <td>11967.75</td>\n",
       "      <td>12028.0375</td>\n",
       "      <td>12061.526</td>\n",
       "      <td>12089.981683</td>\n",
       "      <td>10814.169</td>\n",
       "    </tr>\n",
       "    <tr>\n",
       "      <th>2</th>\n",
       "      <td>2014-03-12</td>\n",
       "      <td>09:25:00</td>\n",
       "      <td>11968.05</td>\n",
       "      <td>11990.40</td>\n",
       "      <td>11949.45</td>\n",
       "      <td>11968.85</td>\n",
       "      <td>12023.4075</td>\n",
       "      <td>12058.600</td>\n",
       "      <td>12089.100990</td>\n",
       "      <td>10814.169</td>\n",
       "    </tr>\n",
       "    <tr>\n",
       "      <th>3</th>\n",
       "      <td>2014-03-12</td>\n",
       "      <td>09:30:00</td>\n",
       "      <td>11968.85</td>\n",
       "      <td>11968.85</td>\n",
       "      <td>11922.90</td>\n",
       "      <td>11938.55</td>\n",
       "      <td>12017.5875</td>\n",
       "      <td>12054.983</td>\n",
       "      <td>12088.296535</td>\n",
       "      <td>10814.169</td>\n",
       "    </tr>\n",
       "    <tr>\n",
       "      <th>4</th>\n",
       "      <td>2014-03-12</td>\n",
       "      <td>09:35:00</td>\n",
       "      <td>11935.80</td>\n",
       "      <td>11949.80</td>\n",
       "      <td>11928.65</td>\n",
       "      <td>11949.80</td>\n",
       "      <td>12013.0550</td>\n",
       "      <td>12051.252</td>\n",
       "      <td>12087.416832</td>\n",
       "      <td>10814.169</td>\n",
       "    </tr>\n",
       "  </tbody>\n",
       "</table>\n",
       "</div>"
      ],
      "text/plain": [
       "         Date      Time      Open      High      Low      Close       SMA20  \\\n",
       "0  2014-03-12  09:15:00  11997.85  12049.25  11984.80  11998.70  12033.6700   \n",
       "1  2014-03-12  09:20:00  11998.70  12031.40  11967.75  11967.75  12028.0375   \n",
       "2  2014-03-12  09:25:00  11968.05  11990.40  11949.45  11968.85  12023.4075   \n",
       "3  2014-03-12  09:30:00  11968.85  11968.85  11922.90  11938.55  12017.5875   \n",
       "4  2014-03-12  09:35:00  11935.80  11949.80  11928.65  11949.80  12013.0550   \n",
       "\n",
       "       SMA50       SMA 100     50 Dma  \n",
       "0  12064.246  12090.860891  10814.169  \n",
       "1  12061.526  12089.981683  10814.169  \n",
       "2  12058.600  12089.100990  10814.169  \n",
       "3  12054.983  12088.296535  10814.169  \n",
       "4  12051.252  12087.416832  10814.169  "
      ]
     },
     "execution_count": 20,
     "metadata": {},
     "output_type": "execute_result"
    }
   ],
   "source": [
    "nse_data.head()"
   ]
  },
  {
   "cell_type": "code",
   "execution_count": 18,
   "id": "93cb804c",
   "metadata": {},
   "outputs": [
    {
     "data": {
      "text/plain": [
       "Date         2014-03-12\n",
       "Time           15:25:00\n",
       "Open           12025.05\n",
       "High            12040.8\n",
       "Low            12023.05\n",
       "Close           12040.8\n",
       "SMA20         12010.765\n",
       "SMA50         12020.582\n",
       "SMA 100    12025.391089\n",
       "50 Dma        10814.169\n",
       "Name: 74, dtype: object"
      ]
     },
     "execution_count": 18,
     "metadata": {},
     "output_type": "execute_result"
    }
   ],
   "source": [
    "nse_data.iloc[0+74]"
   ]
  },
  {
   "cell_type": "code",
   "execution_count": 25,
   "id": "81089207",
   "metadata": {},
   "outputs": [],
   "source": [
    "nse_data.to_excel(\"Bank Nifty with 50 DMA.xlsx\", index=False)"
   ]
  },
  {
   "cell_type": "markdown",
   "id": "45fd301c",
   "metadata": {},
   "source": [
    " "
   ]
  },
  {
   "cell_type": "markdown",
   "id": "5aa93a74",
   "metadata": {},
   "source": [
    " "
   ]
  },
  {
   "cell_type": "markdown",
   "id": "dd76fcfa",
   "metadata": {},
   "source": [
    " "
   ]
  },
  {
   "cell_type": "markdown",
   "id": "770d5fdd",
   "metadata": {},
   "source": [
    " "
   ]
  },
  {
   "cell_type": "code",
   "execution_count": 26,
   "id": "29502f83",
   "metadata": {},
   "outputs": [],
   "source": [
    "wb = openpyxl.Workbook()\n",
    "\n",
    "ws = wb.active\n",
    "ws.title = \"Summary\"\n",
    "\n",
    "ws.column_dimensions['F'].width = 30\n",
    "ws.column_dimensions['G'].width = 8\n",
    "ws[\"A1\"].value = \"\"\"\n",
    "This excel sheet contains output data gathered from backtesting strategy 2.\n",
    "\"\"\"\n",
    "wb.save('Strategy 2.xlsx')"
   ]
  },
  {
   "cell_type": "markdown",
   "id": "d6b902e0",
   "metadata": {},
   "source": [
    " "
   ]
  },
  {
   "cell_type": "markdown",
   "id": "696ae1b2",
   "metadata": {},
   "source": [
    " "
   ]
  },
  {
   "cell_type": "markdown",
   "id": "36bcd94a",
   "metadata": {},
   "source": [
    " "
   ]
  },
  {
   "cell_type": "markdown",
   "id": "780abb73",
   "metadata": {},
   "source": [
    " "
   ]
  },
  {
   "cell_type": "markdown",
   "id": "b5264f3f",
   "metadata": {},
   "source": [
    "## Execute Trade\n"
   ]
  },
  {
   "cell_type": "code",
   "execution_count": 27,
   "id": "c45c460b",
   "metadata": {},
   "outputs": [],
   "source": [
    "def execute_trade(start_index, end_index):\n",
    "    \"\"\"\n",
    "    End Index in not inclusive.\n",
    "    \n",
    "    \"\"\"\n",
    "    stage = \"prerequsite\"\n",
    "    trade_number = 1\n",
    "    trades = {}\n",
    "    year = nse_data.iloc[start_index][\"Date\"].year\n",
    "\n",
    "    index = start_index\n",
    "    all_profits = []\n",
    "    all_close_values = []\n",
    "    \n",
    "    while index < end_index:    \n",
    "        if stage == \"prerequsite\" and index < end_index:\n",
    "            if nse_data[\"Time\"][index] == dt.time(9,15,0):\n",
    "                previous_open = nse_data[\"Open\"][index]\n",
    "                index += 74 \n",
    "                continue\n",
    "            if nse_data[\"Time\"][index] == dt.time(15,25,0):\n",
    "                previous_close = nse_data[\"Close\"][index]\n",
    "\n",
    "                if previous_close > previous_open:\n",
    "                    current_open = nse_data[\"Open\"][index+1]\n",
    "                    if current_open < previous_close:\n",
    "                        stage = \"buy\"\n",
    "                        previous_day = nse_data[\"Date\"][index]\n",
    "                        index += 1 \n",
    "                        max_high = max(nse_data.iloc[index:index+16][\"High\"])\n",
    "                        index += 16\n",
    "                    else:\n",
    "                        index += 1\n",
    "                else:\n",
    "                    index += 1\n",
    "            else:\n",
    "                if nse_data[\"Time\"][index] != dt.time(9,15,0):\n",
    "                    index += 1\n",
    "                \n",
    "        if stage == \"buy\" and index < end_index:\n",
    "            if all(nse_data[\"Close\"][index] > x for x in [max_high, nse_data[\"SMA50\"][index],nse_data[\"50 Dma\"][index]]):\n",
    "                buy_price = nse_data[\"Close\"][index]\n",
    "                buy_date = nse_data[\"Date\"][index]\n",
    "                buy_time = nse_data[\"Time\"][index]\n",
    "                stage = \"sell\"\n",
    "            index += 1\n",
    "                \n",
    "        if stage == \"sell\" and index < end_index:\n",
    "            if nse_data[\"Close\"][index] < nse_data[\"SMA50\"][index]:\n",
    "            #if nse_data[\"Time\"][index] == dt.time(15,25,0):\n",
    "                sell_price = nse_data[\"Close\"][index] \n",
    "                sell_date = nse_data[\"Date\"][index]\n",
    "                sell_time = nse_data[\"Time\"][index]\n",
    "                stage = \"prerequsite\"\n",
    "                index += 1\n",
    "                current_profit = sell_price - buy_price\n",
    "                all_profits.append(current_profit)\n",
    "                all_close_values.extend([buy_price, sell_price])\n",
    "                #print(previous_open, previous_close, previous_day, max_high, buy_price, sell_price, sell_price-buy_price, buy_date, buy_time, sell_date, sell_time)\n",
    "            else:\n",
    "                index += 1\n",
    "\n",
    "    return (all_profits, trades, year, all_close_values)"
   ]
  },
  {
   "cell_type": "markdown",
   "id": "1e597b19",
   "metadata": {},
   "source": [
    " "
   ]
  },
  {
   "cell_type": "markdown",
   "id": "590c5c47",
   "metadata": {},
   "source": [
    "## Find Parameter value:"
   ]
  },
  {
   "cell_type": "code",
   "execution_count": 28,
   "id": "6cff868e",
   "metadata": {},
   "outputs": [],
   "source": [
    "def find_drawUp(profit_list):\n",
    "    max_drawUp = 0\n",
    "    index = 0\n",
    "    while index < len(cumulative_profit):\n",
    "        positive_sum = 0\n",
    "        negative_sum = 0\n",
    "\n",
    "        if cumulative_profit[index] < 0:\n",
    "            while index < len(cumulative_profit) and cumulative_profit[index] < 0:\n",
    "                negative_sum += cumulative_profit[index]\n",
    "                index += 1\n",
    "        if index < len(cumulative_profit) and cumulative_profit[index] > 0:\n",
    "            while index < len(cumulative_profit) and cumulative_profit[index] > 0:\n",
    "                positive_sum += cumulative_profit[index]\n",
    "                index += 1\n",
    "        \n",
    "        if positive_sum > max_drawUp: \n",
    "            max_drawUp = positive_sum\n",
    "            max_du_through = negative_sum\n",
    "            drawUp_percent = round(positive_sum/(-max_du_through)*100,2) if max_du_through != 0 else \"NA\"\n",
    "            print(max_drawUp, max_du_through, drawUp_percent)\n",
    "    return max_drawUp, drawUp_percent"
   ]
  },
  {
   "cell_type": "markdown",
   "id": "2e438fc8",
   "metadata": {},
   "source": [
    " "
   ]
  },
  {
   "cell_type": "code",
   "execution_count": 29,
   "id": "e82f93cb",
   "metadata": {},
   "outputs": [],
   "source": [
    "def find_drawDown(profit_list):\n",
    "    max_drawDown = 0\n",
    "    index = 0\n",
    "    while index < len(cumulative_profit):\n",
    "        positive_sum = 0\n",
    "        negative_sum = 0\n",
    "        \n",
    "        if cumulative_profit[index] > 0:\n",
    "            while index < len(cumulative_profit) and cumulative_profit[index] > 0:\n",
    "                positive_sum += cumulative_profit[index]\n",
    "                index += 1\n",
    "        if index < len(cumulative_profit) and cumulative_profit[index] < 0:\n",
    "            while index < len(cumulative_profit) and cumulative_profit[index] < 0:\n",
    "                negative_sum += cumulative_profit[index]\n",
    "                index += 1\n",
    "                \n",
    "        if negative_sum < max_drawDown: \n",
    "            max_drawDown = negative_sum\n",
    "            max_dd_peak = positive_sum\n",
    "            drawDown_percent = round(negative_sum/max_dd_peak*100,2) if max_dd_peak != 0 else \"NA\"\n",
    "            print(max_drawDown, max_dd_peak, drawDown_percent)\n",
    "    return max_drawDown, drawDown_percent"
   ]
  },
  {
   "cell_type": "markdown",
   "id": "7174a576",
   "metadata": {},
   "source": [
    " "
   ]
  },
  {
   "cell_type": "code",
   "execution_count": 30,
   "id": "f2a764d7",
   "metadata": {},
   "outputs": [],
   "source": [
    "def save_output_parameters(profit_list, trades, year, all_close_values):\n",
    "    win_trades = list(filter(lambda x: (x > 0), profit_list))\n",
    "    loose_trades = list(filter(lambda x: (x < 0), profit_list))\n",
    "    global cumulative_profit, cumulative_close_value\n",
    "    cumulative_profit.extend(profit_list)\n",
    "    cumulative_close_values.extend(all_close_values)\n",
    "    \n",
    "    try:\n",
    "        ws = wb[str(year)]\n",
    "    except:\n",
    "        wb.create_sheet(str(year))\n",
    "        ws = wb[str(year)]\n",
    "        ws.title = str(year)\n",
    "    ws.column_dimensions['F'].width = 30\n",
    "    ws.column_dimensions['G'].width = 8\n",
    "    \n",
    "    avg_index_val = round(mean(all_close_values),2) if len(all_close_values) != 0 else \"NA\" \n",
    "    ws['f10'], ws['g10'] = \"Averaeg Index Value\", avg_index_val\n",
    "    ws['f11'], ws['g11'] = \"Total Trades\", len(profit_list)\n",
    "    ws['f12'], ws['g12'] = \"Total Win Trades\", len(win_trades)\n",
    "    ws['f13'], ws['g13'] = \"Total Loose Trades\", len(loose_trades)\n",
    "    ws['f14'], ws['g14'] = \"Hit Ratio/ Trade win Ratio\", float(f'{len(win_trades)/len(profit_list)*100:.2f}') if len(profit_list) != 0 else \"NA\"\n",
    "    ws['f15'], ws['g15'] = \"Day win Ratio\", float(f'{len(win_trades)/len(loose_trades)*100:.2f}') if len(loose_trades) != 0 else \"NA\"\n",
    "    ws['f16'], ws['g16'] = \"Gross Profit\", sum(win_trades)\n",
    "    ws['f17'], ws['g17'] = \"Gross Loss\", sum(loose_trades)\n",
    "    ws['f18'], ws['g18'] = \"Net Profit\", sum(win_trades)+sum(loose_trades)\n",
    "    drawUp, drawUp_percentage = find_drawUp(profit_list)\n",
    "    drawDown, drawDown_percentage = find_drawDown(profit_list)\n",
    "    ws['f19'], ws['g19'] = \"Max Draw Up\", drawUp\n",
    "    ws['f20'], ws['g20'] = \"Max Draw Down\", drawDown\n",
    "    ws['f21'], ws['g21'] = \"Draw UP Percentage\", drawUp_percentage\n",
    "    ws['f22'], ws['g22'] = \"Draw Down Percentage\", drawDown_percentage\n",
    "    ws['f23'], ws['g23'] = \"Average Trades\", float(f\"{ws['g18'].value/len(profit_list):.2f}\")  if len(profit_list) != 0 else \"NA\"\n",
    "    ws['f24'], ws['g24'] = \"Average Winning Trade\", float(f'{mean(win_trades):.2f}') if len(win_trades) != 0 else \"NA\"\n",
    "    ws['f25'], ws['g25'] = \"Average Loosing Trade\", float(f'{mean(loose_trades):.2f}') if len(loose_trades) != 0 else \"NA\"\n",
    "    ws['f26'], ws['g26'] = \"Max Return/ Largest Winning Trade\", max(win_trades) if len(win_trades) != 0 else \"NA\"\n",
    "    ws['f27'], ws['g27'] = \"Min Return/ Largest Loosing Trade\", min(loose_trades) if len(loose_trades) != 0 else \"NA\"\n",
    "    ws['f28'], ws['g28'] = \"Risk Reward\", round(ws['g26'].value/(-ws['g27'].value),2) if ws['g26'].value != \"NA\" and ws['g27'].value != \"NA\" else \"NA\"\n",
    "    ws['f29'], ws['g29'] = \"Net Profit %\", round(ws['g18'].value/ws['g10'].value*100,2) if ws['g10'].value != \"NA\" else \"NA\"\n",
    "    ws['f30'], ws['g30'] = \"Return Per Year\", ws['g18'].value\n",
    "    ws['f31'], ws['g31'] = \"Sharpe Ratio\", \"???\"; \n",
    "    wb.save(\"Strategy 2.xlsx\")"
   ]
  },
  {
   "cell_type": "markdown",
   "id": "66385416",
   "metadata": {},
   "source": [
    " "
   ]
  },
  {
   "cell_type": "markdown",
   "id": "f848e905",
   "metadata": {},
   "source": [
    " "
   ]
  },
  {
   "cell_type": "markdown",
   "id": "95cf114c",
   "metadata": {},
   "source": [
    " "
   ]
  },
  {
   "cell_type": "markdown",
   "id": "e96bf514",
   "metadata": {},
   "source": [
    "## Divide Dataset into Years"
   ]
  },
  {
   "cell_type": "code",
   "execution_count": 31,
   "id": "5358d1d4",
   "metadata": {},
   "outputs": [],
   "source": [
    "last_index = 0\n",
    "last_year = nse_data.iloc[0][\"Date\"].year\n",
    "\n",
    "year_start_index_number = [last_index]\n",
    "\n",
    "for index in nse_data.index:\n",
    "    if nse_data.iloc[index][\"Date\"].year > last_year:\n",
    "        last_year = nse_data.iloc[index][\"Date\"].year\n",
    "        year_start_index_number.append(index)"
   ]
  },
  {
   "cell_type": "markdown",
   "id": "3e600a4c",
   "metadata": {},
   "source": [
    " "
   ]
  },
  {
   "cell_type": "markdown",
   "id": "d4a496f3",
   "metadata": {},
   "source": [
    " "
   ]
  },
  {
   "cell_type": "markdown",
   "id": "b807f652",
   "metadata": {},
   "source": [
    " "
   ]
  },
  {
   "cell_type": "markdown",
   "id": "0bbda2ec",
   "metadata": {},
   "source": [
    "## Execute Trade Year on Year"
   ]
  },
  {
   "cell_type": "code",
   "execution_count": 41,
   "id": "5f54f4d1",
   "metadata": {},
   "outputs": [],
   "source": [
    "def plot_returns(returns):\n",
    "    x = range(len(returns))\n",
    "    y = returns\n",
    "    plt.plot(x, y)\n",
    "    # plt.xlabel('')\n",
    "    plt.ylabel('Returns')\n",
    "    plt.title('Returns on Trades')\n",
    "    plt.show()"
   ]
  },
  {
   "cell_type": "code",
   "execution_count": 42,
   "id": "fd7bbfff",
   "metadata": {},
   "outputs": [
    {
     "name": "stdout",
     "output_type": "stream",
     "text": [
      "131.79999999999927 0 NA\n",
      "360.25 -35.20000000000073 1023.44\n",
      "927.6500000000015 -10.299999999999272 9006.31\n",
      "-35.20000000000073 131.79999999999927 -26.71\n",
      "-561.7999999999993 222.0 -253.06\n"
     ]
    },
    {
     "data": {
      "image/png": "[encoded data removed]",
      "text/plain": [
       "<Figure size 432x288 with 1 Axes>"
      ]
     },
     "metadata": {
      "needs_background": "light"
     },
     "output_type": "display_data"
    },
    {
     "name": "stdout",
     "output_type": "stream",
     "text": [
      "131.79999999999927 0 NA\n",
      "360.25 -35.20000000000073 1023.44\n",
      "927.6500000000015 -10.299999999999272 9006.31\n",
      "-35.20000000000073 131.79999999999927 -26.71\n",
      "-561.7999999999993 222.0 -253.06\n"
     ]
    },
    {
     "data": {
      "image/png": "[encoded data removed]",
      "text/plain": [
       "<Figure size 432x288 with 1 Axes>"
      ]
     },
     "metadata": {
      "needs_background": "light"
     },
     "output_type": "display_data"
    },
    {
     "name": "stdout",
     "output_type": "stream",
     "text": [
      "131.79999999999927 0 NA\n",
      "360.25 -35.20000000000073 1023.44\n",
      "927.6500000000015 -10.299999999999272 9006.31\n",
      "-35.20000000000073 131.79999999999927 -26.71\n",
      "-561.7999999999993 222.0 -253.06\n"
     ]
    },
    {
     "data": {
      "image/png": "[encoded data removed]",
      "text/plain": [
       "<Figure size 432x288 with 1 Axes>"
      ]
     },
     "metadata": {
      "needs_background": "light"
     },
     "output_type": "display_data"
    },
    {
     "name": "stdout",
     "output_type": "stream",
     "text": [
      "131.79999999999927 0 NA\n",
      "360.25 -35.20000000000073 1023.44\n",
      "927.6500000000015 -10.299999999999272 9006.31\n",
      "-35.20000000000073 131.79999999999927 -26.71\n",
      "-561.7999999999993 222.0 -253.06\n"
     ]
    },
    {
     "data": {
      "image/png": "[encoded data removed]",
      "text/plain": [
       "<Figure size 432x288 with 1 Axes>"
      ]
     },
     "metadata": {
      "needs_background": "light"
     },
     "output_type": "display_data"
    },
    {
     "name": "stdout",
     "output_type": "stream",
     "text": [
      "131.79999999999927 0 NA\n",
      "360.25 -35.20000000000073 1023.44\n",
      "927.6500000000015 -10.299999999999272 9006.31\n",
      "-35.20000000000073 131.79999999999927 -26.71\n",
      "-561.7999999999993 222.0 -253.06\n"
     ]
    },
    {
     "data": {
      "image/png": "[encoded data removed]",
      "text/plain": [
       "<Figure size 432x288 with 1 Axes>"
      ]
     },
     "metadata": {
      "needs_background": "light"
     },
     "output_type": "display_data"
    },
    {
     "name": "stdout",
     "output_type": "stream",
     "text": [
      "131.79999999999927 0 NA\n",
      "360.25 -35.20000000000073 1023.44\n",
      "927.6500000000015 -10.299999999999272 9006.31\n",
      "-35.20000000000073 131.79999999999927 -26.71\n",
      "-561.7999999999993 222.0 -253.06\n"
     ]
    },
    {
     "data": {
      "image/png": "[encoded data removed]",
      "text/plain": [
       "<Figure size 432x288 with 1 Axes>"
      ]
     },
     "metadata": {
      "needs_background": "light"
     },
     "output_type": "display_data"
    },
    {
     "name": "stdout",
     "output_type": "stream",
     "text": [
      "131.79999999999927 0 NA\n",
      "360.25 -35.20000000000073 1023.44\n",
      "927.6500000000015 -10.299999999999272 9006.31\n",
      "-35.20000000000073 131.79999999999927 -26.71\n",
      "-561.7999999999993 222.0 -253.06\n",
      "-624.4499999999971 8.399999999997817 -7433.93\n"
     ]
    },
    {
     "data": {
      "image/png": "[encoded data removed]",
      "text/plain": [
       "<Figure size 432x288 with 1 Axes>"
      ]
     },
     "metadata": {
      "needs_background": "light"
     },
     "output_type": "display_data"
    },
    {
     "name": "stdout",
     "output_type": "stream",
     "text": [
      "131.79999999999927 0 NA\n",
      "360.25 -35.20000000000073 1023.44\n",
      "927.6500000000015 -10.299999999999272 9006.31\n",
      "1435.7999999999956 -725.3999999999942 197.93\n",
      "-35.20000000000073 131.79999999999927 -26.71\n",
      "-561.7999999999993 222.0 -253.06\n",
      "-725.3999999999942 8.399999999997817 -8635.71\n",
      "-1172.6500000000015 1435.7999999999956 -81.67\n"
     ]
    },
    {
     "data": {
      "image/png": "[encoded data removed]",
      "text/plain": [
       "<Figure size 432x288 with 1 Axes>"
      ]
     },
     "metadata": {
      "needs_background": "light"
     },
     "output_type": "display_data"
    },
    {
     "name": "stdout",
     "output_type": "stream",
     "text": [
      "131.79999999999927 0 NA\n",
      "360.25 -35.20000000000073 1023.44\n",
      "927.6500000000015 -10.299999999999272 9006.31\n",
      "1435.7999999999956 -725.3999999999942 197.93\n",
      "-35.20000000000073 131.79999999999927 -26.71\n",
      "-561.7999999999993 222.0 -253.06\n",
      "-725.3999999999942 8.399999999997817 -8635.71\n",
      "-1172.6500000000015 1435.7999999999956 -81.67\n"
     ]
    },
    {
     "data": {
      "image/png": "[encoded data removed]",
      "text/plain": [
       "<Figure size 432x288 with 1 Axes>"
      ]
     },
     "metadata": {
      "needs_background": "light"
     },
     "output_type": "display_data"
    }
   ],
   "source": [
    "global cumulative_profit, cumulative_close_values\n",
    "cumulative_profit = []\n",
    "cumulative_close_values = []\n",
    "\n",
    "for i in range(len(year_start_index_number)):\n",
    "    start_index = year_start_index_number[i]\n",
    "        if i < len(year_start_index_number)-1:\n",
    "            end_index = year_start_index_number[i+1]\n",
    "    profit_made, trades, year, all_close_values = execute_trade(start_index, end_index)\n",
    "    save_output_parameters(profit_made, trades, year, all_close_values)\n",
    "    plot_returns(profit_made)"
   ]
  },
  {
   "cell_type": "markdown",
   "id": "cc4617ab",
   "metadata": {},
   "source": [
    " "
   ]
  },
  {
   "cell_type": "markdown",
   "id": "52c7abd8",
   "metadata": {},
   "source": [
    " "
   ]
  },
  {
   "cell_type": "markdown",
   "id": "0acfb5d7",
   "metadata": {},
   "source": [
    " "
   ]
  },
  {
   "cell_type": "markdown",
   "id": "ffdb2a06",
   "metadata": {},
   "source": [
    "## Find Summary of all the Years"
   ]
  },
  {
   "cell_type": "code",
   "execution_count": 34,
   "id": "724f57df",
   "metadata": {},
   "outputs": [
    {
     "data": {
      "text/plain": [
       "112"
      ]
     },
     "execution_count": 34,
     "metadata": {},
     "output_type": "execute_result"
    }
   ],
   "source": [
    "len(cumulative_profit)"
   ]
  },
  {
   "cell_type": "code",
   "execution_count": 35,
   "id": "3ef0d2af",
   "metadata": {},
   "outputs": [
    {
     "name": "stdout",
     "output_type": "stream",
     "text": [
      "131.79999999999927 0 NA\n",
      "360.25 -35.20000000000073 1023.44\n",
      "927.6500000000015 -10.299999999999272 9006.31\n",
      "1435.7999999999956 -725.3999999999942 197.93\n",
      "-35.20000000000073 131.79999999999927 -26.71\n",
      "-561.7999999999993 222.0 -253.06\n",
      "-725.3999999999942 8.399999999997817 -8635.71\n",
      "-1172.6500000000015 1435.7999999999956 -81.67\n"
     ]
    }
   ],
   "source": [
    "win_trades = list(filter(lambda x: (x > 0), cumulative_profit))\n",
    "loose_trades = list(filter(lambda x: (x < 0), cumulative_profit))\n",
    "\n",
    "ws = wb[\"Summary\"]\n",
    "\n",
    "avg_index_val = round(mean(cumulative_close_values),2)\n",
    "ws['f10'], ws['g10'] = \"Averaeg Index Value\", avg_index_val\n",
    "ws['f11'], ws['g11'] = \"Total Trades\", len(cumulative_profit)\n",
    "ws['f12'], ws['g12'] = \"Total Win Trades\", len(win_trades)\n",
    "ws['f13'], ws['g13'] = \"Total Loose Trades\", len(loose_trades)\n",
    "ws['f14'], ws['g14'] = \"Hit Ratio/ Trade win Ratio\", float(f'{len(win_trades)/len(cumulative_profit)*100:.2f}') if len(cumulative_profit) != 0 else \"NA\"\n",
    "ws['f15'], ws['g15'] = \"Day win Ratio\", float(f'{len(win_trades)/len(loose_trades)*100:.2f}') if len(loose_trades) != 0 else \"NA\"\n",
    "ws['f16'], ws['g16'] = \"Gross Profit\", sum(win_trades)\n",
    "ws['f17'], ws['g17'] = \"Gross Loss\", sum(loose_trades)\n",
    "ws['f18'], ws['g18'] = \"Net Profit\", sum(win_trades)+sum(loose_trades)\n",
    "drawUp, drawUp_percentage = find_drawUp(cumulative_profit)\n",
    "drawDown, drawDown_percentage = find_drawDown(cumulative_profit)\n",
    "ws['f19'], ws['g19'] = \"Max Draw Up\", drawUp\n",
    "ws['f20'], ws['g20'] = \"Max Draw Down\", drawDown\n",
    "ws['f21'], ws['g21'] = \"Draw UP Percentage\", drawUp_percentage\n",
    "ws['f22'], ws['g22'] = \"Draw Down Percentage\", drawDown_percentage\n",
    "ws['f23'], ws['g23'] = \"Average Trades\", float(f\"{ws['g18'].value/len(cumulative_profit):.2f}\") if len(cumulative_profit) != 0 else \"NA\"\n",
    "ws['f24'], ws['g24'] = \"Average Winning Trade\", float(f'{mean(win_trades):.2f}') if len(win_trades) != 0 else \"NA\"\n",
    "ws['f25'], ws['g25'] = \"Average Loosing Trade\", float(f'{mean(loose_trades):.2f}') if len(loose_trades) != 0 else \"NA\"\n",
    "ws['f26'], ws['g26'] = \"Max Return/ Largest Winning Trade\", max(win_trades) if len(win_trades) != 0 else \"NA\"\n",
    "ws['f27'], ws['g27'] = \"Min Return/ Largest Loosing Trade\", min(loose_trades) if len(loose_trades) != 0 else \"NA\"\n",
    "ws['f28'], ws['g28'] = \"Risk Reward\", round(ws['g26'].value/(-ws['g27'].value),2) if ws['g26'].value != \"NA\" and ws['g27'].value != \"NA\" else \"NA\"\n",
    "ws['f29'], ws['g29'] = \"Net Profit %\", round(ws['g18'].value/ws['g10'].value*100,2) if ws['g10'].value != \"NA\" else \"NA\"\n",
    "ws['f30'], ws['g30'] = \"Sharpe Ratio\", \"???\"\n",
    "\n",
    "wb.save(\"Strategy 2.xlsx\")"
   ]
  },
  {
   "cell_type": "code",
   "execution_count": 38,
   "id": "55546086",
   "metadata": {},
   "outputs": [
    {
     "data": {
      "image/png": "[encoded data removed]",
      "text/plain": [
       "<Figure size 432x288 with 1 Axes>"
      ]
     },
     "metadata": {
      "needs_background": "light"
     },
     "output_type": "display_data"
    }
   ],
   "source": [
    "plot_returns(cumulative_profit)"
   ]
  },
  {
   "cell_type": "code",
   "execution_count": null,
   "id": "5ee82ed7",
   "metadata": {},
   "outputs": [],
   "source": []
  },
  {
   "cell_type": "code",
   "execution_count": null,
   "id": "c54285b0",
   "metadata": {},
   "outputs": [],
   "source": []
  },
  {
   "cell_type": "code",
   "execution_count": null,
   "id": "35a02d9b",
   "metadata": {},
   "outputs": [],
   "source": []
  },
  {
   "cell_type": "code",
   "execution_count": 41,
   "id": "4bd43825",
   "metadata": {},
   "outputs": [],
   "source": [
    "nse_data[\"SMA20\"] = nse_data[\"Close\"].rolling(window=20).mean()\n",
    "nse_data[\"SMA21\"] = nse_data[\"Close\"].rolling(window=21).mean()\n",
    "nse_data[\"SMA34\"] = nse_data[\"Close\"].rolling(window=34).mean()"
   ]
  },
  {
   "cell_type": "code",
   "execution_count": 44,
   "id": "fde8e825",
   "metadata": {},
   "outputs": [
    {
     "data": {
      "text/html": [
       "<div>\n",
       "<style scoped>\n",
       "    .dataframe tbody tr th:only-of-type {\n",
       "        vertical-align: middle;\n",
       "    }\n",
       "\n",
       "    .dataframe tbody tr th {\n",
       "        vertical-align: top;\n",
       "    }\n",
       "\n",
       "    .dataframe thead th {\n",
       "        text-align: right;\n",
       "    }\n",
       "</style>\n",
       "<table border=\"1\" class=\"dataframe\">\n",
       "  <thead>\n",
       "    <tr style=\"text-align: right;\">\n",
       "      <th></th>\n",
       "      <th>Date</th>\n",
       "      <th>Time</th>\n",
       "      <th>Open</th>\n",
       "      <th>High</th>\n",
       "      <th>Low</th>\n",
       "      <th>Close</th>\n",
       "      <th>SMA20</th>\n",
       "      <th>SMA50</th>\n",
       "      <th>SMA 100</th>\n",
       "      <th>50 Dma</th>\n",
       "      <th>SMA21</th>\n",
       "      <th>SMA34</th>\n",
       "    </tr>\n",
       "  </thead>\n",
       "  <tbody>\n",
       "    <tr>\n",
       "      <th>0</th>\n",
       "      <td>2014-03-12</td>\n",
       "      <td>09:15:00</td>\n",
       "      <td>11997.85</td>\n",
       "      <td>12049.25</td>\n",
       "      <td>11984.80</td>\n",
       "      <td>11998.70</td>\n",
       "      <td>-1.0</td>\n",
       "      <td>12064.246</td>\n",
       "      <td>12090.860891</td>\n",
       "      <td>10814.169</td>\n",
       "      <td>-1.0</td>\n",
       "      <td>-1.0</td>\n",
       "    </tr>\n",
       "    <tr>\n",
       "      <th>1</th>\n",
       "      <td>2014-03-12</td>\n",
       "      <td>09:20:00</td>\n",
       "      <td>11998.70</td>\n",
       "      <td>12031.40</td>\n",
       "      <td>11967.75</td>\n",
       "      <td>11967.75</td>\n",
       "      <td>-1.0</td>\n",
       "      <td>12061.526</td>\n",
       "      <td>12089.981683</td>\n",
       "      <td>10814.169</td>\n",
       "      <td>-1.0</td>\n",
       "      <td>-1.0</td>\n",
       "    </tr>\n",
       "    <tr>\n",
       "      <th>2</th>\n",
       "      <td>2014-03-12</td>\n",
       "      <td>09:25:00</td>\n",
       "      <td>11968.05</td>\n",
       "      <td>11990.40</td>\n",
       "      <td>11949.45</td>\n",
       "      <td>11968.85</td>\n",
       "      <td>-1.0</td>\n",
       "      <td>12058.600</td>\n",
       "      <td>12089.100990</td>\n",
       "      <td>10814.169</td>\n",
       "      <td>-1.0</td>\n",
       "      <td>-1.0</td>\n",
       "    </tr>\n",
       "    <tr>\n",
       "      <th>3</th>\n",
       "      <td>2014-03-12</td>\n",
       "      <td>09:30:00</td>\n",
       "      <td>11968.85</td>\n",
       "      <td>11968.85</td>\n",
       "      <td>11922.90</td>\n",
       "      <td>11938.55</td>\n",
       "      <td>-1.0</td>\n",
       "      <td>12054.983</td>\n",
       "      <td>12088.296535</td>\n",
       "      <td>10814.169</td>\n",
       "      <td>-1.0</td>\n",
       "      <td>-1.0</td>\n",
       "    </tr>\n",
       "    <tr>\n",
       "      <th>4</th>\n",
       "      <td>2014-03-12</td>\n",
       "      <td>09:35:00</td>\n",
       "      <td>11935.80</td>\n",
       "      <td>11949.80</td>\n",
       "      <td>11928.65</td>\n",
       "      <td>11949.80</td>\n",
       "      <td>-1.0</td>\n",
       "      <td>12051.252</td>\n",
       "      <td>12087.416832</td>\n",
       "      <td>10814.169</td>\n",
       "      <td>-1.0</td>\n",
       "      <td>-1.0</td>\n",
       "    </tr>\n",
       "  </tbody>\n",
       "</table>\n",
       "</div>"
      ],
      "text/plain": [
       "         Date      Time      Open      High      Low      Close  SMA20  \\\n",
       "0  2014-03-12  09:15:00  11997.85  12049.25  11984.80  11998.70   -1.0   \n",
       "1  2014-03-12  09:20:00  11998.70  12031.40  11967.75  11967.75   -1.0   \n",
       "2  2014-03-12  09:25:00  11968.05  11990.40  11949.45  11968.85   -1.0   \n",
       "3  2014-03-12  09:30:00  11968.85  11968.85  11922.90  11938.55   -1.0   \n",
       "4  2014-03-12  09:35:00  11935.80  11949.80  11928.65  11949.80   -1.0   \n",
       "\n",
       "       SMA50       SMA 100     50 Dma  SMA21  SMA34  \n",
       "0  12064.246  12090.860891  10814.169   -1.0   -1.0  \n",
       "1  12061.526  12089.981683  10814.169   -1.0   -1.0  \n",
       "2  12058.600  12089.100990  10814.169   -1.0   -1.0  \n",
       "3  12054.983  12088.296535  10814.169   -1.0   -1.0  \n",
       "4  12051.252  12087.416832  10814.169   -1.0   -1.0  "
      ]
     },
     "execution_count": 44,
     "metadata": {},
     "output_type": "execute_result"
    }
   ],
   "source": [
    "nse_data = nse_data.fillna(-1)\n",
    "nse_data.head()"
   ]
  },
  {
   "cell_type": "code",
   "execution_count": 45,
   "id": "6ad56956",
   "metadata": {},
   "outputs": [
    {
     "data": {
      "text/html": [
       "<div>\n",
       "<style scoped>\n",
       "    .dataframe tbody tr th:only-of-type {\n",
       "        vertical-align: middle;\n",
       "    }\n",
       "\n",
       "    .dataframe tbody tr th {\n",
       "        vertical-align: top;\n",
       "    }\n",
       "\n",
       "    .dataframe thead th {\n",
       "        text-align: right;\n",
       "    }\n",
       "</style>\n",
       "<table border=\"1\" class=\"dataframe\">\n",
       "  <thead>\n",
       "    <tr style=\"text-align: right;\">\n",
       "      <th></th>\n",
       "      <th>Date</th>\n",
       "      <th>Time</th>\n",
       "      <th>Open</th>\n",
       "      <th>High</th>\n",
       "      <th>Low</th>\n",
       "      <th>Close</th>\n",
       "      <th>SMA20</th>\n",
       "      <th>SMA50</th>\n",
       "      <th>SMA 100</th>\n",
       "      <th>50 Dma</th>\n",
       "      <th>SMA21</th>\n",
       "      <th>SMA34</th>\n",
       "    </tr>\n",
       "  </thead>\n",
       "  <tbody>\n",
       "    <tr>\n",
       "      <th>143744</th>\n",
       "      <td>2022-01-24</td>\n",
       "      <td>15:05:00</td>\n",
       "      <td>36874.30</td>\n",
       "      <td>36946.70</td>\n",
       "      <td>36813.45</td>\n",
       "      <td>36946.70</td>\n",
       "      <td>36725.6400</td>\n",
       "      <td>36968.661</td>\n",
       "      <td>37242.978218</td>\n",
       "      <td>36819.007</td>\n",
       "      <td>36729.009524</td>\n",
       "      <td>36827.233824</td>\n",
       "    </tr>\n",
       "    <tr>\n",
       "      <th>143745</th>\n",
       "      <td>2022-01-24</td>\n",
       "      <td>15:10:00</td>\n",
       "      <td>36946.55</td>\n",
       "      <td>37063.65</td>\n",
       "      <td>36929.50</td>\n",
       "      <td>37038.35</td>\n",
       "      <td>36735.3350</td>\n",
       "      <td>36960.372</td>\n",
       "      <td>37237.150000</td>\n",
       "      <td>36819.007</td>\n",
       "      <td>36740.530952</td>\n",
       "      <td>36829.801471</td>\n",
       "    </tr>\n",
       "    <tr>\n",
       "      <th>143746</th>\n",
       "      <td>2022-01-24</td>\n",
       "      <td>15:15:00</td>\n",
       "      <td>37048.60</td>\n",
       "      <td>37073.95</td>\n",
       "      <td>36990.90</td>\n",
       "      <td>37050.30</td>\n",
       "      <td>36747.5000</td>\n",
       "      <td>36953.933</td>\n",
       "      <td>37231.681188</td>\n",
       "      <td>36819.007</td>\n",
       "      <td>36750.333333</td>\n",
       "      <td>36831.750000</td>\n",
       "    </tr>\n",
       "    <tr>\n",
       "      <th>143747</th>\n",
       "      <td>2022-01-24</td>\n",
       "      <td>15:20:00</td>\n",
       "      <td>37047.80</td>\n",
       "      <td>37062.85</td>\n",
       "      <td>36894.25</td>\n",
       "      <td>36905.65</td>\n",
       "      <td>36751.2025</td>\n",
       "      <td>36944.372</td>\n",
       "      <td>37223.801980</td>\n",
       "      <td>36819.007</td>\n",
       "      <td>36755.030952</td>\n",
       "      <td>36827.005882</td>\n",
       "    </tr>\n",
       "    <tr>\n",
       "      <th>143748</th>\n",
       "      <td>2022-01-24</td>\n",
       "      <td>15:25:00</td>\n",
       "      <td>36902.40</td>\n",
       "      <td>36945.05</td>\n",
       "      <td>36808.15</td>\n",
       "      <td>36834.90</td>\n",
       "      <td>36751.3125</td>\n",
       "      <td>36934.724</td>\n",
       "      <td>37215.664356</td>\n",
       "      <td>36819.007</td>\n",
       "      <td>36755.188095</td>\n",
       "      <td>36819.972059</td>\n",
       "    </tr>\n",
       "  </tbody>\n",
       "</table>\n",
       "</div>"
      ],
      "text/plain": [
       "              Date      Time      Open      High      Low      Close  \\\n",
       "143744  2022-01-24  15:05:00  36874.30  36946.70  36813.45  36946.70   \n",
       "143745  2022-01-24  15:10:00  36946.55  37063.65  36929.50  37038.35   \n",
       "143746  2022-01-24  15:15:00  37048.60  37073.95  36990.90  37050.30   \n",
       "143747  2022-01-24  15:20:00  37047.80  37062.85  36894.25  36905.65   \n",
       "143748  2022-01-24  15:25:00  36902.40  36945.05  36808.15  36834.90   \n",
       "\n",
       "             SMA20      SMA50       SMA 100     50 Dma         SMA21  \\\n",
       "143744  36725.6400  36968.661  37242.978218  36819.007  36729.009524   \n",
       "143745  36735.3350  36960.372  37237.150000  36819.007  36740.530952   \n",
       "143746  36747.5000  36953.933  37231.681188  36819.007  36750.333333   \n",
       "143747  36751.2025  36944.372  37223.801980  36819.007  36755.030952   \n",
       "143748  36751.3125  36934.724  37215.664356  36819.007  36755.188095   \n",
       "\n",
       "               SMA34  \n",
       "143744  36827.233824  \n",
       "143745  36829.801471  \n",
       "143746  36831.750000  \n",
       "143747  36827.005882  \n",
       "143748  36819.972059  "
      ]
     },
     "execution_count": 45,
     "metadata": {},
     "output_type": "execute_result"
    }
   ],
   "source": [
    "nse_data.tail()"
   ]
  },
  {
   "cell_type": "code",
   "execution_count": null,
   "id": "08b37cd9",
   "metadata": {},
   "outputs": [],
   "source": []
  },
  {
   "cell_type": "code",
   "execution_count": null,
   "id": "66bca064",
   "metadata": {},
   "outputs": [],
   "source": []
  },
  {
   "cell_type": "code",
   "execution_count": 21,
   "id": "d583169a",
   "metadata": {},
   "outputs": [],
   "source": [
    "def execute_trade_time_tick(num_ticks):\n",
    "    \n",
    "    stage = \"prerequsite\"\n",
    "    index = 0\n",
    "    all_profits = []\n",
    "    \n",
    "    while index < len(nse_data):    \n",
    "        if stage == \"prerequsite\" and index < len(nse_data):\n",
    "            if nse_data[\"Time\"][index] == dt.time(9,15,0):\n",
    "                previous_open = nse_data[\"Open\"][index]\n",
    "                index += 74 \n",
    "                continue\n",
    "            if nse_data[\"Time\"][index] == dt.time(15,25,0):\n",
    "                previous_close = nse_data[\"Close\"][index]\n",
    "\n",
    "                if previous_close > previous_open:\n",
    "                    current_open = nse_data[\"Open\"][index+1]\n",
    "                    if current_open < previous_close:\n",
    "                        stage = \"buy\"\n",
    "                        previous_day = nse_data[\"Date\"][index]\n",
    "                        index += 1 \n",
    "                        max_high = max(nse_data.iloc[index:index+num_ticks][\"High\"])\n",
    "                        index += num_ticks\n",
    "                    else:\n",
    "                        index += 1\n",
    "                else:\n",
    "                    index += 1\n",
    "            else:\n",
    "                if nse_data[\"Time\"][index] != dt.time(9,15,0):\n",
    "                    index += 1\n",
    "                \n",
    "        if stage == \"buy\" and index < len(nse_data):\n",
    "            if all(nse_data[\"Close\"][index] > x for x in [max_high, nse_data[\"SMA50\"][index],nse_data[\"50 Dma\"][index]]):\n",
    "                buy_price = nse_data[\"Close\"][index]\n",
    "                stage = \"sell\"\n",
    "            index += 1\n",
    "                \n",
    "        if stage == \"sell\" and index < len(nse_data):\n",
    "            if nse_data[\"Close\"][index] < nse_data[\"SMA50\"][index]:\n",
    "                sell_price = nse_data[\"Close\"][index] \n",
    "                stage = \"prerequsite\"\n",
    "                index += 1\n",
    "                current_profit = sell_price - buy_price\n",
    "                all_profits.append(current_profit)\n",
    "            else:\n",
    "                index += 1\n",
    "\n",
    "    return sum(all_profits) "
   ]
  },
  {
   "cell_type": "code",
   "execution_count": null,
   "id": "99a4392f",
   "metadata": {},
   "outputs": [],
   "source": []
  },
  {
   "cell_type": "code",
   "execution_count": 22,
   "id": "206271bb",
   "metadata": {},
   "outputs": [],
   "source": [
    "max_high_hyperp = {}\n",
    "\n",
    "for max_high_tick in [4,16, 22]:\n",
    "    max_high_hyperp[max_high_tick] = execute_trade_time_tick(max_high_tick)"
   ]
  },
  {
   "cell_type": "code",
   "execution_count": 30,
   "id": "8fbb4e22",
   "metadata": {},
   "outputs": [
    {
     "name": "stdout",
     "output_type": "stream",
     "text": [
      "Return when max high considered at 9:30: 4572.45\n",
      "Return when max high considered at 10:30: 4986.2\n",
      "Return when max high considered at 11:00: 4668.15\n"
     ]
    }
   ],
   "source": [
    "max_high_till = [\"9:30\",\"10:30\",\"11:00\"]\n",
    "returns = list(max_high_hyperp.values())\n",
    "for index in range(len(max_high_till)):\n",
    "    print(f\"Return when max high considered at {max_high_till[index]}: {round(returns[index],2)}\")"
   ]
  },
  {
   "cell_type": "code",
   "execution_count": null,
   "id": "322a0691",
   "metadata": {},
   "outputs": [],
   "source": []
  },
  {
   "cell_type": "code",
   "execution_count": null,
   "id": "54778d64",
   "metadata": {},
   "outputs": [],
   "source": []
  },
  {
   "cell_type": "code",
   "execution_count": 34,
   "id": "743d4cf8",
   "metadata": {},
   "outputs": [],
   "source": [
    "def plot_returns_max_high(returns):\n",
    "    x = [\"9:30\",\"10:30\",\"11:00\"]\n",
    "    y = returns\n",
    "    plt.plot(x, y)\n",
    "    # plt.xlabel('')\n",
    "    plt.ylabel('Returns')\n",
    "    plt.title('Best time to Consider Max(High)')\n",
    "    plt.show()"
   ]
  },
  {
   "cell_type": "code",
   "execution_count": 35,
   "id": "63688572",
   "metadata": {},
   "outputs": [
    {
     "data": {
      "image/png": "[encoded data removed]",
      "text/plain": [
       "<Figure size 432x288 with 1 Axes>"
      ]
     },
     "metadata": {
      "needs_background": "light"
     },
     "output_type": "display_data"
    }
   ],
   "source": [
    "plot_returns_max_high(returns)"
   ]
  },
  {
   "cell_type": "code",
   "execution_count": null,
   "id": "18870e34",
   "metadata": {},
   "outputs": [],
   "source": []
  },
  {
   "cell_type": "code",
   "execution_count": null,
   "id": "479b3821",
   "metadata": {},
   "outputs": [],
   "source": []
  },
  {
   "cell_type": "code",
   "execution_count": null,
   "id": "741b23fb",
   "metadata": {},
   "outputs": [],
   "source": []
  },
  {
   "cell_type": "code",
   "execution_count": 38,
   "id": "82296205",
   "metadata": {},
   "outputs": [],
   "source": [
    "def execute_trade_for_sma(num_ticks, sma_value):\n",
    "    \n",
    "    stage = \"prerequsite\"\n",
    "    index = 0\n",
    "    all_profits = []\n",
    "    sma = \"SMA\" + str(sma_value) \n",
    "    \n",
    "    while index < len(nse_data):    \n",
    "        if stage == \"prerequsite\" and index < len(nse_data):\n",
    "            if nse_data[\"Time\"][index] == dt.time(9,15,0):\n",
    "                previous_open = nse_data[\"Open\"][index]\n",
    "                index += 74 \n",
    "                continue\n",
    "            if nse_data[\"Time\"][index] == dt.time(15,25,0):\n",
    "                previous_close = nse_data[\"Close\"][index]\n",
    "\n",
    "                if previous_close > previous_open:\n",
    "                    current_open = nse_data[\"Open\"][index+1]\n",
    "                    if current_open < previous_close:\n",
    "                        stage = \"buy\"\n",
    "                        previous_day = nse_data[\"Date\"][index]\n",
    "                        index += 1 \n",
    "                        max_high = max(nse_data.iloc[index:index+num_ticks][\"High\"])\n",
    "                        index += num_ticks\n",
    "                    else:\n",
    "                        index += 1\n",
    "                else:\n",
    "                    index += 1\n",
    "            else:\n",
    "                if nse_data[\"Time\"][index] != dt.time(9,15,0):\n",
    "                    index += 1\n",
    "                \n",
    "        if stage == \"buy\" and index < len(nse_data):\n",
    "            if all(nse_data[\"Close\"][index] > x for x in [max_high, nse_data[sma][index],nse_data[\"50 Dma\"][index]]):\n",
    "                buy_price = nse_data[\"Close\"][index]\n",
    "                stage = \"sell\"\n",
    "            index += 1\n",
    "                \n",
    "        if stage == \"sell\" and index < len(nse_data):\n",
    "            if nse_data[\"Close\"][index] < nse_data[sma][index]:\n",
    "                sell_price = nse_data[\"Close\"][index] \n",
    "                stage = \"prerequsite\"\n",
    "                index += 1\n",
    "                current_profit = sell_price - buy_price\n",
    "                all_profits.append(current_profit)\n",
    "            else:\n",
    "                index += 1\n",
    "\n",
    "    return sum(all_profits) "
   ]
  },
  {
   "cell_type": "code",
   "execution_count": null,
   "id": "98e6d614",
   "metadata": {},
   "outputs": [],
   "source": []
  },
  {
   "cell_type": "code",
   "execution_count": null,
   "id": "237038b0",
   "metadata": {},
   "outputs": [],
   "source": []
  },
  {
   "cell_type": "code",
   "execution_count": 46,
   "id": "7a3e0abf",
   "metadata": {},
   "outputs": [
    {
     "name": "stdout",
     "output_type": "stream",
     "text": [
      "Completed SMA SMA20: 4366.499999999987\n",
      "Completed SMA SMA21: 4573.299999999974\n",
      "Completed SMA SMA34: 5657.750000000015\n"
     ]
    }
   ],
   "source": [
    "sma_hyperparameter = {}\n",
    "\n",
    "for sma_value in [20,21,34]:\n",
    "    sma_hyperparameter[sma_value] = execute_trade_for_sma(16, sma_value)\n",
    "    print(f\"Completed SMA SMA{sma_value}: {sma_hyperparameter[sma_value]}\")"
   ]
  },
  {
   "cell_type": "code",
   "execution_count": null,
   "id": "64e16acf",
   "metadata": {},
   "outputs": [],
   "source": []
  },
  {
   "cell_type": "code",
   "execution_count": 48,
   "id": "0d12605d",
   "metadata": {},
   "outputs": [],
   "source": [
    "def plot_sma(sma_hp):\n",
    "    x = sma_hp.keys()\n",
    "    y = sma_hp.values()\n",
    "    plt.plot(x, y)\n",
    "    # plt.xlabel('')\n",
    "    plt.ylabel('Returns')\n",
    "    plt.ylabel('SMA Value')\n",
    "    plt.title('Finding Hyperparameter for SMA')\n",
    "    plt.show()"
   ]
  },
  {
   "cell_type": "code",
   "execution_count": 49,
   "id": "3c44088c",
   "metadata": {},
   "outputs": [
    {
     "data": {
      "image/png": "[encoded data removed]",
      "text/plain": [
       "<Figure size 432x288 with 1 Axes>"
      ]
     },
     "metadata": {
      "needs_background": "light"
     },
     "output_type": "display_data"
    }
   ],
   "source": [
    "plot_sma(sma_hyperparameter)"
   ]
  },
  {
   "cell_type": "code",
   "execution_count": null,
   "id": "f406f55f",
   "metadata": {},
   "outputs": [],
   "source": []
  },
  {
   "cell_type": "markdown",
   "id": "1c1a2fe4",
   "metadata": {},
   "source": [
    " "
   ]
  },
  {
   "cell_type": "markdown",
   "id": "0e36592b",
   "metadata": {},
   "source": [
    " "
   ]
  },
  {
   "cell_type": "markdown",
   "id": "0d7cd756",
   "metadata": {},
   "source": [
    " "
   ]
  },
  {
   "cell_type": "markdown",
   "id": "67fa9726",
   "metadata": {},
   "source": [
    " "
   ]
  },
  {
   "cell_type": "markdown",
   "id": "90f97349",
   "metadata": {},
   "source": [
    " "
   ]
  }
 ],
 "metadata": {
  "kernelspec": {
   "display_name": "Python 3 (ipykernel)",
   "language": "python",
   "name": "python3"
  },
  "language_info": {
   "codemirror_mode": {
    "name": "ipython",
    "version": 3
   },
   "file_extension": ".py",
   "mimetype": "text/x-python",
   "name": "python",
   "nbconvert_exporter": "python",
   "pygments_lexer": "ipython3",
   "version": "3.10.1"
  }
 },
 "nbformat": 4,
 "nbformat_minor": 5
}
