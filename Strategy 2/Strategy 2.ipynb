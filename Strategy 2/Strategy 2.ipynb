{
 "cells": [
  {
   "cell_type": "markdown",
   "id": "23b9eb57",
   "metadata": {},
   "source": [
    "# Stock Analysis and Back Testing a Stratergy"
   ]
  },
  {
   "cell_type": "markdown",
   "id": "20436bf2",
   "metadata": {},
   "source": [
    "**Hypothesis:**\n",
    "\n",
    "- Let Previous day close of 3:25 be x.\n",
    "- Let Previous day open at 9:15 be y.\n",
    "- Current day open at 9:15 be z.\n",
    "- Let max(high) from 9:15 to 10:30 for current day be alpha.\n",
    "\n",
    "Pre-requisite:\n",
    "- x > y\n",
    "- z < x\n",
    "- Calculate alpha.\n",
    "\n",
    "If prerequisite is satisified, find a tick which satisfies Buy condition.\n",
    "\n",
    "Buy if:\n",
    "- close of a tick > alpha\n",
    "- close of a tick > sma50 for that tick\n",
    "- close of a tick > dma50 for that day\n",
    "\n",
    "Sell if:\n",
    "- close value of any tick < sma50\n"
   ]
  },
  {
   "cell_type": "markdown",
   "id": "31ddfd74",
   "metadata": {},
   "source": [
    "**Strategy:**\n",
    "\n",
    "Buy if:\n",
    "- Previous day range is positive.\n",
    "- Today is a gap down. \n",
    "- Breaks the high made upto 10.30 \n",
    "- Breakout bar is above 50sma  in dtf and 5 min.\n",
    "\n",
    "Stop loss at:\n",
    "- Breakout candle low for today and if trade is carried over then 50 sma."
   ]
  },
  {
   "cell_type": "markdown",
   "id": "1f42f436",
   "metadata": {},
   "source": [
    " "
   ]
  },
  {
   "cell_type": "markdown",
   "id": "a735e9ac",
   "metadata": {},
   "source": [
    " "
   ]
  },
  {
   "cell_type": "markdown",
   "id": "7df24496",
   "metadata": {},
   "source": [
    " "
   ]
  },
  {
   "cell_type": "markdown",
   "id": "fa10c220",
   "metadata": {},
   "source": [
    "## Import Liabraries "
   ]
  },
  {
   "cell_type": "code",
   "execution_count": 1,
   "id": "e6dc36f8",
   "metadata": {},
   "outputs": [],
   "source": [
    "import pandas as pd\n",
    "import numpy as np\n",
    "import datetime as dt\n",
    "from pandas_datareader import data as pdr\n",
    "import xlsxwriter\n",
    "import openpyxl\n",
    "from statistics import mean"
   ]
  },
  {
   "cell_type": "markdown",
   "id": "002e6b4c",
   "metadata": {},
   "source": [
    " "
   ]
  },
  {
   "cell_type": "markdown",
   "id": "1e4212fe",
   "metadata": {},
   "source": [
    " "
   ]
  },
  {
   "cell_type": "markdown",
   "id": "a46a81a1",
   "metadata": {},
   "source": [
    " "
   ]
  },
  {
   "cell_type": "markdown",
   "id": "5080fa4f",
   "metadata": {},
   "source": [
    " "
   ]
  },
  {
   "cell_type": "markdown",
   "id": "6690c982",
   "metadata": {},
   "source": [
    "## Import Stock Data "
   ]
  },
  {
   "cell_type": "markdown",
   "id": "a62d274e",
   "metadata": {},
   "source": [
    "- The data is stock price of **Bank Nifty**.\n",
    "\n",
    "- We have data of **Open, High, Low, Close, SMA20, SMA50, SMA100**.\n",
    "\n",
    "- The data starts from **July 2011** and goes till **January 2022**.\n",
    "\n",
    "- The data is present of every **5 minute** interval starting from **9:15 am** and goes upto **3:25 pm**. \n",
    "\n",
    "- In total there are **75 intervals** in a day."
   ]
  },
  {
   "cell_type": "markdown",
   "id": "467eb5a4",
   "metadata": {},
   "source": [
    " "
   ]
  },
  {
   "cell_type": "code",
   "execution_count": 76,
   "id": "3c53aa1d",
   "metadata": {},
   "outputs": [],
   "source": [
    "nse_data = pd.read_excel(\"Bank Nifty data 5 min.xlsx\", header = 2)"
   ]
  },
  {
   "cell_type": "code",
   "execution_count": 77,
   "id": "9845a314",
   "metadata": {},
   "outputs": [],
   "source": [
    "nse_data['Date'] = nse_data['Date'].dt.date"
   ]
  },
  {
   "cell_type": "code",
   "execution_count": 78,
   "id": "a83cadf5",
   "metadata": {},
   "outputs": [
    {
     "data": {
      "text/plain": [
       "datetime.date(2011, 7, 29)"
      ]
     },
     "execution_count": 78,
     "metadata": {},
     "output_type": "execute_result"
    }
   ],
   "source": [
    "nse_data.iloc[0][\"Date\"]"
   ]
  },
  {
   "cell_type": "code",
   "execution_count": 79,
   "id": "62213c63",
   "metadata": {},
   "outputs": [
    {
     "data": {
      "text/html": [
       "<div>\n",
       "<style scoped>\n",
       "    .dataframe tbody tr th:only-of-type {\n",
       "        vertical-align: middle;\n",
       "    }\n",
       "\n",
       "    .dataframe tbody tr th {\n",
       "        vertical-align: top;\n",
       "    }\n",
       "\n",
       "    .dataframe thead th {\n",
       "        text-align: right;\n",
       "    }\n",
       "</style>\n",
       "<table border=\"1\" class=\"dataframe\">\n",
       "  <thead>\n",
       "    <tr style=\"text-align: right;\">\n",
       "      <th></th>\n",
       "      <th>Date</th>\n",
       "      <th>Time</th>\n",
       "      <th>Open</th>\n",
       "      <th>High</th>\n",
       "      <th>Low</th>\n",
       "      <th>Close</th>\n",
       "      <th>SMA20</th>\n",
       "      <th>SMA50</th>\n",
       "      <th>SMA 100</th>\n",
       "    </tr>\n",
       "  </thead>\n",
       "  <tbody>\n",
       "    <tr>\n",
       "      <th>0</th>\n",
       "      <td>2011-07-29</td>\n",
       "      <td>09:15:00</td>\n",
       "      <td>10820.65</td>\n",
       "      <td>10820.65</td>\n",
       "      <td>10758.40</td>\n",
       "      <td>10774.20</td>\n",
       "      <td>NaN</td>\n",
       "      <td>NaN</td>\n",
       "      <td>NaN</td>\n",
       "    </tr>\n",
       "    <tr>\n",
       "      <th>1</th>\n",
       "      <td>2011-07-29</td>\n",
       "      <td>09:20:00</td>\n",
       "      <td>10774.20</td>\n",
       "      <td>10812.40</td>\n",
       "      <td>10774.20</td>\n",
       "      <td>10807.95</td>\n",
       "      <td>NaN</td>\n",
       "      <td>NaN</td>\n",
       "      <td>NaN</td>\n",
       "    </tr>\n",
       "    <tr>\n",
       "      <th>2</th>\n",
       "      <td>2011-07-29</td>\n",
       "      <td>09:25:00</td>\n",
       "      <td>10807.95</td>\n",
       "      <td>10837.25</td>\n",
       "      <td>10804.35</td>\n",
       "      <td>10837.25</td>\n",
       "      <td>NaN</td>\n",
       "      <td>NaN</td>\n",
       "      <td>NaN</td>\n",
       "    </tr>\n",
       "    <tr>\n",
       "      <th>3</th>\n",
       "      <td>2011-07-29</td>\n",
       "      <td>09:30:00</td>\n",
       "      <td>10836.05</td>\n",
       "      <td>10891.45</td>\n",
       "      <td>10835.60</td>\n",
       "      <td>10884.80</td>\n",
       "      <td>NaN</td>\n",
       "      <td>NaN</td>\n",
       "      <td>NaN</td>\n",
       "    </tr>\n",
       "    <tr>\n",
       "      <th>4</th>\n",
       "      <td>2011-07-29</td>\n",
       "      <td>09:35:00</td>\n",
       "      <td>10884.80</td>\n",
       "      <td>10892.30</td>\n",
       "      <td>10871.85</td>\n",
       "      <td>10891.65</td>\n",
       "      <td>NaN</td>\n",
       "      <td>NaN</td>\n",
       "      <td>NaN</td>\n",
       "    </tr>\n",
       "  </tbody>\n",
       "</table>\n",
       "</div>"
      ],
      "text/plain": [
       "         Date      Time      Open      High      Low      Close  SMA20  SMA50  \\\n",
       "0  2011-07-29  09:15:00  10820.65  10820.65  10758.40  10774.20    NaN    NaN   \n",
       "1  2011-07-29  09:20:00  10774.20  10812.40  10774.20  10807.95    NaN    NaN   \n",
       "2  2011-07-29  09:25:00  10807.95  10837.25  10804.35  10837.25    NaN    NaN   \n",
       "3  2011-07-29  09:30:00  10836.05  10891.45  10835.60  10884.80    NaN    NaN   \n",
       "4  2011-07-29  09:35:00  10884.80  10892.30  10871.85  10891.65    NaN    NaN   \n",
       "\n",
       "   SMA 100  \n",
       "0      NaN  \n",
       "1      NaN  \n",
       "2      NaN  \n",
       "3      NaN  \n",
       "4      NaN  "
      ]
     },
     "execution_count": 79,
     "metadata": {},
     "output_type": "execute_result"
    }
   ],
   "source": [
    "nse_data.head()"
   ]
  },
  {
   "cell_type": "code",
   "execution_count": 80,
   "id": "412cf58d",
   "metadata": {},
   "outputs": [
    {
     "data": {
      "text/html": [
       "<div>\n",
       "<style scoped>\n",
       "    .dataframe tbody tr th:only-of-type {\n",
       "        vertical-align: middle;\n",
       "    }\n",
       "\n",
       "    .dataframe tbody tr th {\n",
       "        vertical-align: top;\n",
       "    }\n",
       "\n",
       "    .dataframe thead th {\n",
       "        text-align: right;\n",
       "    }\n",
       "</style>\n",
       "<table border=\"1\" class=\"dataframe\">\n",
       "  <thead>\n",
       "    <tr style=\"text-align: right;\">\n",
       "      <th></th>\n",
       "      <th>Date</th>\n",
       "      <th>Time</th>\n",
       "      <th>Open</th>\n",
       "      <th>High</th>\n",
       "      <th>Low</th>\n",
       "      <th>Close</th>\n",
       "      <th>SMA20</th>\n",
       "      <th>SMA50</th>\n",
       "      <th>SMA 100</th>\n",
       "    </tr>\n",
       "  </thead>\n",
       "  <tbody>\n",
       "    <tr>\n",
       "      <th>0</th>\n",
       "      <td>2011-07-29</td>\n",
       "      <td>09:15:00</td>\n",
       "      <td>10820.65</td>\n",
       "      <td>10820.65</td>\n",
       "      <td>10758.40</td>\n",
       "      <td>10774.20</td>\n",
       "      <td>-1.0</td>\n",
       "      <td>-1.0</td>\n",
       "      <td>-1.0</td>\n",
       "    </tr>\n",
       "    <tr>\n",
       "      <th>1</th>\n",
       "      <td>2011-07-29</td>\n",
       "      <td>09:20:00</td>\n",
       "      <td>10774.20</td>\n",
       "      <td>10812.40</td>\n",
       "      <td>10774.20</td>\n",
       "      <td>10807.95</td>\n",
       "      <td>-1.0</td>\n",
       "      <td>-1.0</td>\n",
       "      <td>-1.0</td>\n",
       "    </tr>\n",
       "    <tr>\n",
       "      <th>2</th>\n",
       "      <td>2011-07-29</td>\n",
       "      <td>09:25:00</td>\n",
       "      <td>10807.95</td>\n",
       "      <td>10837.25</td>\n",
       "      <td>10804.35</td>\n",
       "      <td>10837.25</td>\n",
       "      <td>-1.0</td>\n",
       "      <td>-1.0</td>\n",
       "      <td>-1.0</td>\n",
       "    </tr>\n",
       "    <tr>\n",
       "      <th>3</th>\n",
       "      <td>2011-07-29</td>\n",
       "      <td>09:30:00</td>\n",
       "      <td>10836.05</td>\n",
       "      <td>10891.45</td>\n",
       "      <td>10835.60</td>\n",
       "      <td>10884.80</td>\n",
       "      <td>-1.0</td>\n",
       "      <td>-1.0</td>\n",
       "      <td>-1.0</td>\n",
       "    </tr>\n",
       "    <tr>\n",
       "      <th>4</th>\n",
       "      <td>2011-07-29</td>\n",
       "      <td>09:35:00</td>\n",
       "      <td>10884.80</td>\n",
       "      <td>10892.30</td>\n",
       "      <td>10871.85</td>\n",
       "      <td>10891.65</td>\n",
       "      <td>-1.0</td>\n",
       "      <td>-1.0</td>\n",
       "      <td>-1.0</td>\n",
       "    </tr>\n",
       "  </tbody>\n",
       "</table>\n",
       "</div>"
      ],
      "text/plain": [
       "         Date      Time      Open      High      Low      Close  SMA20  SMA50  \\\n",
       "0  2011-07-29  09:15:00  10820.65  10820.65  10758.40  10774.20   -1.0   -1.0   \n",
       "1  2011-07-29  09:20:00  10774.20  10812.40  10774.20  10807.95   -1.0   -1.0   \n",
       "2  2011-07-29  09:25:00  10807.95  10837.25  10804.35  10837.25   -1.0   -1.0   \n",
       "3  2011-07-29  09:30:00  10836.05  10891.45  10835.60  10884.80   -1.0   -1.0   \n",
       "4  2011-07-29  09:35:00  10884.80  10892.30  10871.85  10891.65   -1.0   -1.0   \n",
       "\n",
       "   SMA 100  \n",
       "0     -1.0  \n",
       "1     -1.0  \n",
       "2     -1.0  \n",
       "3     -1.0  \n",
       "4     -1.0  "
      ]
     },
     "execution_count": 80,
     "metadata": {},
     "output_type": "execute_result"
    }
   ],
   "source": [
    "nse_data = nse_data.fillna(-1)\n",
    "nse_data.head()"
   ]
  },
  {
   "cell_type": "code",
   "execution_count": 81,
   "id": "7740fbc8",
   "metadata": {},
   "outputs": [
    {
     "data": {
      "text/html": [
       "<div>\n",
       "<style scoped>\n",
       "    .dataframe tbody tr th:only-of-type {\n",
       "        vertical-align: middle;\n",
       "    }\n",
       "\n",
       "    .dataframe tbody tr th {\n",
       "        vertical-align: top;\n",
       "    }\n",
       "\n",
       "    .dataframe thead th {\n",
       "        text-align: right;\n",
       "    }\n",
       "</style>\n",
       "<table border=\"1\" class=\"dataframe\">\n",
       "  <thead>\n",
       "    <tr style=\"text-align: right;\">\n",
       "      <th></th>\n",
       "      <th>Date</th>\n",
       "      <th>Time</th>\n",
       "      <th>Open</th>\n",
       "      <th>High</th>\n",
       "      <th>Low</th>\n",
       "      <th>Close</th>\n",
       "      <th>SMA20</th>\n",
       "      <th>SMA50</th>\n",
       "      <th>SMA 100</th>\n",
       "    </tr>\n",
       "  </thead>\n",
       "  <tbody>\n",
       "    <tr>\n",
       "      <th>192328</th>\n",
       "      <td>2022-01-24</td>\n",
       "      <td>15:05:00</td>\n",
       "      <td>36874.30</td>\n",
       "      <td>36946.70</td>\n",
       "      <td>36813.45</td>\n",
       "      <td>36946.70</td>\n",
       "      <td>36725.6400</td>\n",
       "      <td>36968.661</td>\n",
       "      <td>37242.978218</td>\n",
       "    </tr>\n",
       "    <tr>\n",
       "      <th>192329</th>\n",
       "      <td>2022-01-24</td>\n",
       "      <td>15:10:00</td>\n",
       "      <td>36946.55</td>\n",
       "      <td>37063.65</td>\n",
       "      <td>36929.50</td>\n",
       "      <td>37038.35</td>\n",
       "      <td>36735.3350</td>\n",
       "      <td>36960.372</td>\n",
       "      <td>37237.150000</td>\n",
       "    </tr>\n",
       "    <tr>\n",
       "      <th>192330</th>\n",
       "      <td>2022-01-24</td>\n",
       "      <td>15:15:00</td>\n",
       "      <td>37048.60</td>\n",
       "      <td>37073.95</td>\n",
       "      <td>36990.90</td>\n",
       "      <td>37050.30</td>\n",
       "      <td>36747.5000</td>\n",
       "      <td>36953.933</td>\n",
       "      <td>37231.681188</td>\n",
       "    </tr>\n",
       "    <tr>\n",
       "      <th>192331</th>\n",
       "      <td>2022-01-24</td>\n",
       "      <td>15:20:00</td>\n",
       "      <td>37047.80</td>\n",
       "      <td>37062.85</td>\n",
       "      <td>36894.25</td>\n",
       "      <td>36905.65</td>\n",
       "      <td>36751.2025</td>\n",
       "      <td>36944.372</td>\n",
       "      <td>37223.801980</td>\n",
       "    </tr>\n",
       "    <tr>\n",
       "      <th>192332</th>\n",
       "      <td>2022-01-24</td>\n",
       "      <td>15:25:00</td>\n",
       "      <td>36902.40</td>\n",
       "      <td>36945.05</td>\n",
       "      <td>36808.15</td>\n",
       "      <td>36834.90</td>\n",
       "      <td>36751.3125</td>\n",
       "      <td>36934.724</td>\n",
       "      <td>37215.664356</td>\n",
       "    </tr>\n",
       "  </tbody>\n",
       "</table>\n",
       "</div>"
      ],
      "text/plain": [
       "              Date      Time      Open      High      Low      Close  \\\n",
       "192328  2022-01-24  15:05:00  36874.30  36946.70  36813.45  36946.70   \n",
       "192329  2022-01-24  15:10:00  36946.55  37063.65  36929.50  37038.35   \n",
       "192330  2022-01-24  15:15:00  37048.60  37073.95  36990.90  37050.30   \n",
       "192331  2022-01-24  15:20:00  37047.80  37062.85  36894.25  36905.65   \n",
       "192332  2022-01-24  15:25:00  36902.40  36945.05  36808.15  36834.90   \n",
       "\n",
       "             SMA20      SMA50       SMA 100  \n",
       "192328  36725.6400  36968.661  37242.978218  \n",
       "192329  36735.3350  36960.372  37237.150000  \n",
       "192330  36747.5000  36953.933  37231.681188  \n",
       "192331  36751.2025  36944.372  37223.801980  \n",
       "192332  36751.3125  36934.724  37215.664356  "
      ]
     },
     "execution_count": 81,
     "metadata": {},
     "output_type": "execute_result"
    }
   ],
   "source": [
    "nse_data.tail()"
   ]
  },
  {
   "cell_type": "code",
   "execution_count": 82,
   "id": "ff5dc67f",
   "metadata": {},
   "outputs": [
    {
     "data": {
      "text/html": [
       "<div>\n",
       "<style scoped>\n",
       "    .dataframe tbody tr th:only-of-type {\n",
       "        vertical-align: middle;\n",
       "    }\n",
       "\n",
       "    .dataframe tbody tr th {\n",
       "        vertical-align: top;\n",
       "    }\n",
       "\n",
       "    .dataframe thead th {\n",
       "        text-align: right;\n",
       "    }\n",
       "</style>\n",
       "<table border=\"1\" class=\"dataframe\">\n",
       "  <thead>\n",
       "    <tr style=\"text-align: right;\">\n",
       "      <th></th>\n",
       "      <th>Open</th>\n",
       "      <th>High</th>\n",
       "      <th>Low</th>\n",
       "      <th>Close</th>\n",
       "      <th>SMA20</th>\n",
       "      <th>SMA50</th>\n",
       "      <th>SMA 100</th>\n",
       "    </tr>\n",
       "  </thead>\n",
       "  <tbody>\n",
       "    <tr>\n",
       "      <th>count</th>\n",
       "      <td>192333.000000</td>\n",
       "      <td>192333.000000</td>\n",
       "      <td>192333.000000</td>\n",
       "      <td>192333.000000</td>\n",
       "      <td>192333.000000</td>\n",
       "      <td>192333.000000</td>\n",
       "      <td>192333.000000</td>\n",
       "    </tr>\n",
       "    <tr>\n",
       "      <th>mean</th>\n",
       "      <td>20697.310681</td>\n",
       "      <td>20713.934408</td>\n",
       "      <td>20679.911383</td>\n",
       "      <td>20697.032113</td>\n",
       "      <td>20694.677328</td>\n",
       "      <td>20690.957457</td>\n",
       "      <td>20684.575638</td>\n",
       "    </tr>\n",
       "    <tr>\n",
       "      <th>std</th>\n",
       "      <td>8219.052185</td>\n",
       "      <td>8224.819853</td>\n",
       "      <td>8212.829251</td>\n",
       "      <td>8218.886333</td>\n",
       "      <td>8220.118405</td>\n",
       "      <td>8222.057737</td>\n",
       "      <td>8225.221458</td>\n",
       "    </tr>\n",
       "    <tr>\n",
       "      <th>min</th>\n",
       "      <td>7772.600000</td>\n",
       "      <td>7801.950000</td>\n",
       "      <td>7766.350000</td>\n",
       "      <td>7772.600000</td>\n",
       "      <td>-1.000000</td>\n",
       "      <td>-1.000000</td>\n",
       "      <td>-1.000000</td>\n",
       "    </tr>\n",
       "    <tr>\n",
       "      <th>25%</th>\n",
       "      <td>12713.500000</td>\n",
       "      <td>12721.650000</td>\n",
       "      <td>12703.900000</td>\n",
       "      <td>12713.250000</td>\n",
       "      <td>12709.005000</td>\n",
       "      <td>12706.930000</td>\n",
       "      <td>12701.710396</td>\n",
       "    </tr>\n",
       "    <tr>\n",
       "      <th>50%</th>\n",
       "      <td>19198.800000</td>\n",
       "      <td>19214.450000</td>\n",
       "      <td>19180.700000</td>\n",
       "      <td>19197.900000</td>\n",
       "      <td>19198.837500</td>\n",
       "      <td>19194.966000</td>\n",
       "      <td>19185.750990</td>\n",
       "    </tr>\n",
       "    <tr>\n",
       "      <th>75%</th>\n",
       "      <td>26863.350000</td>\n",
       "      <td>26877.750000</td>\n",
       "      <td>26846.200000</td>\n",
       "      <td>26862.650000</td>\n",
       "      <td>26864.802500</td>\n",
       "      <td>26870.704000</td>\n",
       "      <td>26873.287624</td>\n",
       "    </tr>\n",
       "    <tr>\n",
       "      <th>max</th>\n",
       "      <td>41729.900000</td>\n",
       "      <td>41827.650000</td>\n",
       "      <td>41600.550000</td>\n",
       "      <td>41722.200000</td>\n",
       "      <td>41556.880000</td>\n",
       "      <td>41367.579000</td>\n",
       "      <td>41231.838614</td>\n",
       "    </tr>\n",
       "  </tbody>\n",
       "</table>\n",
       "</div>"
      ],
      "text/plain": [
       "                Open           High           Low           Close  \\\n",
       "count  192333.000000  192333.000000  192333.000000  192333.000000   \n",
       "mean    20697.310681   20713.934408   20679.911383   20697.032113   \n",
       "std      8219.052185    8224.819853    8212.829251    8218.886333   \n",
       "min      7772.600000    7801.950000    7766.350000    7772.600000   \n",
       "25%     12713.500000   12721.650000   12703.900000   12713.250000   \n",
       "50%     19198.800000   19214.450000   19180.700000   19197.900000   \n",
       "75%     26863.350000   26877.750000   26846.200000   26862.650000   \n",
       "max     41729.900000   41827.650000   41600.550000   41722.200000   \n",
       "\n",
       "               SMA20          SMA50        SMA 100  \n",
       "count  192333.000000  192333.000000  192333.000000  \n",
       "mean    20694.677328   20690.957457   20684.575638  \n",
       "std      8220.118405    8222.057737    8225.221458  \n",
       "min        -1.000000      -1.000000      -1.000000  \n",
       "25%     12709.005000   12706.930000   12701.710396  \n",
       "50%     19198.837500   19194.966000   19185.750990  \n",
       "75%     26864.802500   26870.704000   26873.287624  \n",
       "max     41556.880000   41367.579000   41231.838614  "
      ]
     },
     "execution_count": 82,
     "metadata": {},
     "output_type": "execute_result"
    }
   ],
   "source": [
    "nse_data.describe()"
   ]
  },
  {
   "cell_type": "code",
   "execution_count": 83,
   "id": "ef6a634d",
   "metadata": {},
   "outputs": [
    {
     "data": {
      "text/plain": [
       "2011"
      ]
     },
     "execution_count": 83,
     "metadata": {},
     "output_type": "execute_result"
    }
   ],
   "source": [
    "nse_data.iloc[0][\"Date\"].year"
   ]
  },
  {
   "cell_type": "markdown",
   "id": "3cd90483",
   "metadata": {},
   "source": [
    " "
   ]
  },
  {
   "cell_type": "markdown",
   "id": "2354b1cf",
   "metadata": {},
   "source": [
    " "
   ]
  },
  {
   "cell_type": "markdown",
   "id": "969184a1",
   "metadata": {},
   "source": [
    "## Import Secondary Data"
   ]
  },
  {
   "cell_type": "code",
   "execution_count": 84,
   "id": "dbfe08fc",
   "metadata": {},
   "outputs": [],
   "source": [
    "secondary_data = pd.read_excel(\"Data BN.xlsm\", usecols = [\"Date\", \"50 Dma\"])"
   ]
  },
  {
   "cell_type": "code",
   "execution_count": 85,
   "id": "ff20ac78",
   "metadata": {},
   "outputs": [],
   "source": [
    "secondary_data['Date'] = secondary_data['Date'].dt.date"
   ]
  },
  {
   "cell_type": "code",
   "execution_count": 86,
   "id": "54db157c",
   "metadata": {},
   "outputs": [
    {
     "data": {
      "text/html": [
       "<div>\n",
       "<style scoped>\n",
       "    .dataframe tbody tr th:only-of-type {\n",
       "        vertical-align: middle;\n",
       "    }\n",
       "\n",
       "    .dataframe tbody tr th {\n",
       "        vertical-align: top;\n",
       "    }\n",
       "\n",
       "    .dataframe thead th {\n",
       "        text-align: right;\n",
       "    }\n",
       "</style>\n",
       "<table border=\"1\" class=\"dataframe\">\n",
       "  <thead>\n",
       "    <tr style=\"text-align: right;\">\n",
       "      <th></th>\n",
       "      <th>Date</th>\n",
       "      <th>50 Dma</th>\n",
       "    </tr>\n",
       "  </thead>\n",
       "  <tbody>\n",
       "    <tr>\n",
       "      <th>0</th>\n",
       "      <td>2014-01-01</td>\n",
       "      <td>NaN</td>\n",
       "    </tr>\n",
       "    <tr>\n",
       "      <th>1</th>\n",
       "      <td>2014-01-02</td>\n",
       "      <td>NaN</td>\n",
       "    </tr>\n",
       "    <tr>\n",
       "      <th>2</th>\n",
       "      <td>2014-01-03</td>\n",
       "      <td>NaN</td>\n",
       "    </tr>\n",
       "    <tr>\n",
       "      <th>3</th>\n",
       "      <td>2014-01-06</td>\n",
       "      <td>NaN</td>\n",
       "    </tr>\n",
       "    <tr>\n",
       "      <th>4</th>\n",
       "      <td>2014-01-07</td>\n",
       "      <td>NaN</td>\n",
       "    </tr>\n",
       "  </tbody>\n",
       "</table>\n",
       "</div>"
      ],
      "text/plain": [
       "         Date  50 Dma\n",
       "0  2014-01-01     NaN\n",
       "1  2014-01-02     NaN\n",
       "2  2014-01-03     NaN\n",
       "3  2014-01-06     NaN\n",
       "4  2014-01-07     NaN"
      ]
     },
     "execution_count": 86,
     "metadata": {},
     "output_type": "execute_result"
    }
   ],
   "source": [
    "secondary_data.head()"
   ]
  },
  {
   "cell_type": "code",
   "execution_count": 87,
   "id": "a55d5e01",
   "metadata": {},
   "outputs": [
    {
     "data": {
      "text/html": [
       "<div>\n",
       "<style scoped>\n",
       "    .dataframe tbody tr th:only-of-type {\n",
       "        vertical-align: middle;\n",
       "    }\n",
       "\n",
       "    .dataframe tbody tr th {\n",
       "        vertical-align: top;\n",
       "    }\n",
       "\n",
       "    .dataframe thead th {\n",
       "        text-align: right;\n",
       "    }\n",
       "</style>\n",
       "<table border=\"1\" class=\"dataframe\">\n",
       "  <thead>\n",
       "    <tr style=\"text-align: right;\">\n",
       "      <th></th>\n",
       "      <th>Date</th>\n",
       "      <th>50 Dma</th>\n",
       "    </tr>\n",
       "  </thead>\n",
       "  <tbody>\n",
       "    <tr>\n",
       "      <th>2021</th>\n",
       "      <td>2022-03-07</td>\n",
       "      <td>37225.998</td>\n",
       "    </tr>\n",
       "    <tr>\n",
       "      <th>2022</th>\n",
       "      <td>2022-03-08</td>\n",
       "      <td>37192.019</td>\n",
       "    </tr>\n",
       "    <tr>\n",
       "      <th>2023</th>\n",
       "      <td>2022-03-09</td>\n",
       "      <td>37167.170</td>\n",
       "    </tr>\n",
       "    <tr>\n",
       "      <th>2024</th>\n",
       "      <td>2022-03-10</td>\n",
       "      <td>37153.006</td>\n",
       "    </tr>\n",
       "    <tr>\n",
       "      <th>2025</th>\n",
       "      <td>2022-03-11</td>\n",
       "      <td>37143.023</td>\n",
       "    </tr>\n",
       "  </tbody>\n",
       "</table>\n",
       "</div>"
      ],
      "text/plain": [
       "            Date     50 Dma\n",
       "2021  2022-03-07  37225.998\n",
       "2022  2022-03-08  37192.019\n",
       "2023  2022-03-09  37167.170\n",
       "2024  2022-03-10  37153.006\n",
       "2025  2022-03-11  37143.023"
      ]
     },
     "execution_count": 87,
     "metadata": {},
     "output_type": "execute_result"
    }
   ],
   "source": [
    "secondary_data.tail()"
   ]
  },
  {
   "cell_type": "markdown",
   "id": "d657359e",
   "metadata": {},
   "source": [
    " "
   ]
  },
  {
   "cell_type": "code",
   "execution_count": 88,
   "id": "9e71317f",
   "metadata": {},
   "outputs": [],
   "source": [
    "nse_data = pd.merge(nse_data, secondary_data, on=['Date'])"
   ]
  },
  {
   "cell_type": "code",
   "execution_count": 89,
   "id": "04917a0a",
   "metadata": {},
   "outputs": [
    {
     "data": {
      "text/html": [
       "<div>\n",
       "<style scoped>\n",
       "    .dataframe tbody tr th:only-of-type {\n",
       "        vertical-align: middle;\n",
       "    }\n",
       "\n",
       "    .dataframe tbody tr th {\n",
       "        vertical-align: top;\n",
       "    }\n",
       "\n",
       "    .dataframe thead th {\n",
       "        text-align: right;\n",
       "    }\n",
       "</style>\n",
       "<table border=\"1\" class=\"dataframe\">\n",
       "  <thead>\n",
       "    <tr style=\"text-align: right;\">\n",
       "      <th></th>\n",
       "      <th>Date</th>\n",
       "      <th>Time</th>\n",
       "      <th>Open</th>\n",
       "      <th>High</th>\n",
       "      <th>Low</th>\n",
       "      <th>Close</th>\n",
       "      <th>SMA20</th>\n",
       "      <th>SMA50</th>\n",
       "      <th>SMA 100</th>\n",
       "      <th>50 Dma</th>\n",
       "    </tr>\n",
       "  </thead>\n",
       "  <tbody>\n",
       "    <tr>\n",
       "      <th>0</th>\n",
       "      <td>2014-01-01</td>\n",
       "      <td>09:15:00</td>\n",
       "      <td>11418.90</td>\n",
       "      <td>11432.55</td>\n",
       "      <td>11388.00</td>\n",
       "      <td>11388.00</td>\n",
       "      <td>11368.1750</td>\n",
       "      <td>11362.309</td>\n",
       "      <td>11365.808911</td>\n",
       "      <td>NaN</td>\n",
       "    </tr>\n",
       "    <tr>\n",
       "      <th>1</th>\n",
       "      <td>2014-01-01</td>\n",
       "      <td>09:20:00</td>\n",
       "      <td>11390.75</td>\n",
       "      <td>11390.75</td>\n",
       "      <td>11361.00</td>\n",
       "      <td>11375.60</td>\n",
       "      <td>11368.6725</td>\n",
       "      <td>11362.511</td>\n",
       "      <td>11365.739604</td>\n",
       "      <td>NaN</td>\n",
       "    </tr>\n",
       "    <tr>\n",
       "      <th>2</th>\n",
       "      <td>2014-01-01</td>\n",
       "      <td>09:25:00</td>\n",
       "      <td>11375.60</td>\n",
       "      <td>11391.55</td>\n",
       "      <td>11373.55</td>\n",
       "      <td>11391.55</td>\n",
       "      <td>11369.8850</td>\n",
       "      <td>11363.107</td>\n",
       "      <td>11365.784158</td>\n",
       "      <td>NaN</td>\n",
       "    </tr>\n",
       "    <tr>\n",
       "      <th>3</th>\n",
       "      <td>2014-01-01</td>\n",
       "      <td>09:30:00</td>\n",
       "      <td>11391.55</td>\n",
       "      <td>11392.95</td>\n",
       "      <td>11381.10</td>\n",
       "      <td>11385.00</td>\n",
       "      <td>11370.8225</td>\n",
       "      <td>11363.794</td>\n",
       "      <td>11365.911386</td>\n",
       "      <td>NaN</td>\n",
       "    </tr>\n",
       "    <tr>\n",
       "      <th>4</th>\n",
       "      <td>2014-01-01</td>\n",
       "      <td>09:35:00</td>\n",
       "      <td>11385.00</td>\n",
       "      <td>11388.85</td>\n",
       "      <td>11377.75</td>\n",
       "      <td>11377.75</td>\n",
       "      <td>11371.5300</td>\n",
       "      <td>11364.071</td>\n",
       "      <td>11365.981188</td>\n",
       "      <td>NaN</td>\n",
       "    </tr>\n",
       "  </tbody>\n",
       "</table>\n",
       "</div>"
      ],
      "text/plain": [
       "         Date      Time      Open      High      Low      Close       SMA20  \\\n",
       "0  2014-01-01  09:15:00  11418.90  11432.55  11388.00  11388.00  11368.1750   \n",
       "1  2014-01-01  09:20:00  11390.75  11390.75  11361.00  11375.60  11368.6725   \n",
       "2  2014-01-01  09:25:00  11375.60  11391.55  11373.55  11391.55  11369.8850   \n",
       "3  2014-01-01  09:30:00  11391.55  11392.95  11381.10  11385.00  11370.8225   \n",
       "4  2014-01-01  09:35:00  11385.00  11388.85  11377.75  11377.75  11371.5300   \n",
       "\n",
       "       SMA50       SMA 100  50 Dma  \n",
       "0  11362.309  11365.808911     NaN  \n",
       "1  11362.511  11365.739604     NaN  \n",
       "2  11363.107  11365.784158     NaN  \n",
       "3  11363.794  11365.911386     NaN  \n",
       "4  11364.071  11365.981188     NaN  "
      ]
     },
     "execution_count": 89,
     "metadata": {},
     "output_type": "execute_result"
    }
   ],
   "source": [
    "nse_data.head()"
   ]
  },
  {
   "cell_type": "code",
   "execution_count": 90,
   "id": "8cde4794",
   "metadata": {},
   "outputs": [
    {
     "data": {
      "text/html": [
       "<div>\n",
       "<style scoped>\n",
       "    .dataframe tbody tr th:only-of-type {\n",
       "        vertical-align: middle;\n",
       "    }\n",
       "\n",
       "    .dataframe tbody tr th {\n",
       "        vertical-align: top;\n",
       "    }\n",
       "\n",
       "    .dataframe thead th {\n",
       "        text-align: right;\n",
       "    }\n",
       "</style>\n",
       "<table border=\"1\" class=\"dataframe\">\n",
       "  <thead>\n",
       "    <tr style=\"text-align: right;\">\n",
       "      <th></th>\n",
       "      <th>Date</th>\n",
       "      <th>Time</th>\n",
       "      <th>Open</th>\n",
       "      <th>High</th>\n",
       "      <th>Low</th>\n",
       "      <th>Close</th>\n",
       "      <th>SMA20</th>\n",
       "      <th>SMA50</th>\n",
       "      <th>SMA 100</th>\n",
       "      <th>50 Dma</th>\n",
       "    </tr>\n",
       "  </thead>\n",
       "  <tbody>\n",
       "    <tr>\n",
       "      <th>147419</th>\n",
       "      <td>2022-01-24</td>\n",
       "      <td>15:05:00</td>\n",
       "      <td>36874.30</td>\n",
       "      <td>36946.70</td>\n",
       "      <td>36813.45</td>\n",
       "      <td>36946.70</td>\n",
       "      <td>36725.6400</td>\n",
       "      <td>36968.661</td>\n",
       "      <td>37242.978218</td>\n",
       "      <td>36819.007</td>\n",
       "    </tr>\n",
       "    <tr>\n",
       "      <th>147420</th>\n",
       "      <td>2022-01-24</td>\n",
       "      <td>15:10:00</td>\n",
       "      <td>36946.55</td>\n",
       "      <td>37063.65</td>\n",
       "      <td>36929.50</td>\n",
       "      <td>37038.35</td>\n",
       "      <td>36735.3350</td>\n",
       "      <td>36960.372</td>\n",
       "      <td>37237.150000</td>\n",
       "      <td>36819.007</td>\n",
       "    </tr>\n",
       "    <tr>\n",
       "      <th>147421</th>\n",
       "      <td>2022-01-24</td>\n",
       "      <td>15:15:00</td>\n",
       "      <td>37048.60</td>\n",
       "      <td>37073.95</td>\n",
       "      <td>36990.90</td>\n",
       "      <td>37050.30</td>\n",
       "      <td>36747.5000</td>\n",
       "      <td>36953.933</td>\n",
       "      <td>37231.681188</td>\n",
       "      <td>36819.007</td>\n",
       "    </tr>\n",
       "    <tr>\n",
       "      <th>147422</th>\n",
       "      <td>2022-01-24</td>\n",
       "      <td>15:20:00</td>\n",
       "      <td>37047.80</td>\n",
       "      <td>37062.85</td>\n",
       "      <td>36894.25</td>\n",
       "      <td>36905.65</td>\n",
       "      <td>36751.2025</td>\n",
       "      <td>36944.372</td>\n",
       "      <td>37223.801980</td>\n",
       "      <td>36819.007</td>\n",
       "    </tr>\n",
       "    <tr>\n",
       "      <th>147423</th>\n",
       "      <td>2022-01-24</td>\n",
       "      <td>15:25:00</td>\n",
       "      <td>36902.40</td>\n",
       "      <td>36945.05</td>\n",
       "      <td>36808.15</td>\n",
       "      <td>36834.90</td>\n",
       "      <td>36751.3125</td>\n",
       "      <td>36934.724</td>\n",
       "      <td>37215.664356</td>\n",
       "      <td>36819.007</td>\n",
       "    </tr>\n",
       "  </tbody>\n",
       "</table>\n",
       "</div>"
      ],
      "text/plain": [
       "              Date      Time      Open      High      Low      Close  \\\n",
       "147419  2022-01-24  15:05:00  36874.30  36946.70  36813.45  36946.70   \n",
       "147420  2022-01-24  15:10:00  36946.55  37063.65  36929.50  37038.35   \n",
       "147421  2022-01-24  15:15:00  37048.60  37073.95  36990.90  37050.30   \n",
       "147422  2022-01-24  15:20:00  37047.80  37062.85  36894.25  36905.65   \n",
       "147423  2022-01-24  15:25:00  36902.40  36945.05  36808.15  36834.90   \n",
       "\n",
       "             SMA20      SMA50       SMA 100     50 Dma  \n",
       "147419  36725.6400  36968.661  37242.978218  36819.007  \n",
       "147420  36735.3350  36960.372  37237.150000  36819.007  \n",
       "147421  36747.5000  36953.933  37231.681188  36819.007  \n",
       "147422  36751.2025  36944.372  37223.801980  36819.007  \n",
       "147423  36751.3125  36934.724  37215.664356  36819.007  "
      ]
     },
     "execution_count": 90,
     "metadata": {},
     "output_type": "execute_result"
    }
   ],
   "source": [
    "nse_data.tail()"
   ]
  },
  {
   "cell_type": "code",
   "execution_count": 91,
   "id": "ba9e1ed0",
   "metadata": {},
   "outputs": [
    {
     "data": {
      "text/html": [
       "<div>\n",
       "<style scoped>\n",
       "    .dataframe tbody tr th:only-of-type {\n",
       "        vertical-align: middle;\n",
       "    }\n",
       "\n",
       "    .dataframe tbody tr th {\n",
       "        vertical-align: top;\n",
       "    }\n",
       "\n",
       "    .dataframe thead th {\n",
       "        text-align: right;\n",
       "    }\n",
       "</style>\n",
       "<table border=\"1\" class=\"dataframe\">\n",
       "  <thead>\n",
       "    <tr style=\"text-align: right;\">\n",
       "      <th></th>\n",
       "      <th>Date</th>\n",
       "      <th>Time</th>\n",
       "      <th>Open</th>\n",
       "      <th>High</th>\n",
       "      <th>Low</th>\n",
       "      <th>Close</th>\n",
       "      <th>SMA20</th>\n",
       "      <th>SMA50</th>\n",
       "      <th>SMA 100</th>\n",
       "      <th>50 Dma</th>\n",
       "    </tr>\n",
       "  </thead>\n",
       "  <tbody>\n",
       "    <tr>\n",
       "      <th>108276</th>\n",
       "      <td>2019-12-18</td>\n",
       "      <td>10:30:00</td>\n",
       "      <td>32051.70</td>\n",
       "      <td>32070.05</td>\n",
       "      <td>32050.80</td>\n",
       "      <td>32070.05</td>\n",
       "      <td>32109.6400</td>\n",
       "      <td>32138.682</td>\n",
       "      <td>32130.121782</td>\n",
       "      <td>30533.150</td>\n",
       "    </tr>\n",
       "    <tr>\n",
       "      <th>92589</th>\n",
       "      <td>2019-02-06</td>\n",
       "      <td>09:20:00</td>\n",
       "      <td>27319.60</td>\n",
       "      <td>27377.45</td>\n",
       "      <td>27309.20</td>\n",
       "      <td>27361.45</td>\n",
       "      <td>27279.8775</td>\n",
       "      <td>27294.153</td>\n",
       "      <td>27233.000000</td>\n",
       "      <td>27049.496</td>\n",
       "    </tr>\n",
       "    <tr>\n",
       "      <th>72821</th>\n",
       "      <td>2018-01-10</td>\n",
       "      <td>12:00:00</td>\n",
       "      <td>25552.65</td>\n",
       "      <td>25575.45</td>\n",
       "      <td>25549.50</td>\n",
       "      <td>25562.40</td>\n",
       "      <td>25601.1400</td>\n",
       "      <td>25650.442</td>\n",
       "      <td>25663.475248</td>\n",
       "      <td>25464.617</td>\n",
       "    </tr>\n",
       "    <tr>\n",
       "      <th>138827</th>\n",
       "      <td>2021-08-09</td>\n",
       "      <td>11:35:00</td>\n",
       "      <td>36033.95</td>\n",
       "      <td>36062.55</td>\n",
       "      <td>36032.20</td>\n",
       "      <td>36052.80</td>\n",
       "      <td>36036.8825</td>\n",
       "      <td>35927.657</td>\n",
       "      <td>35895.044554</td>\n",
       "      <td>35151.171</td>\n",
       "    </tr>\n",
       "    <tr>\n",
       "      <th>99997</th>\n",
       "      <td>2019-07-03</td>\n",
       "      <td>14:10:00</td>\n",
       "      <td>31449.35</td>\n",
       "      <td>31450.40</td>\n",
       "      <td>31411.40</td>\n",
       "      <td>31426.85</td>\n",
       "      <td>31430.8850</td>\n",
       "      <td>31377.530</td>\n",
       "      <td>31319.742574</td>\n",
       "      <td>30407.604</td>\n",
       "    </tr>\n",
       "    <tr>\n",
       "      <th>45560</th>\n",
       "      <td>2016-07-21</td>\n",
       "      <td>15:05:00</td>\n",
       "      <td>18683.05</td>\n",
       "      <td>18694.95</td>\n",
       "      <td>18670.10</td>\n",
       "      <td>18690.95</td>\n",
       "      <td>18765.9425</td>\n",
       "      <td>18829.181</td>\n",
       "      <td>18894.778218</td>\n",
       "      <td>17708.717</td>\n",
       "    </tr>\n",
       "    <tr>\n",
       "      <th>24081</th>\n",
       "      <td>2015-05-26</td>\n",
       "      <td>12:25:00</td>\n",
       "      <td>18305.95</td>\n",
       "      <td>18305.95</td>\n",
       "      <td>18288.85</td>\n",
       "      <td>18295.55</td>\n",
       "      <td>18312.4875</td>\n",
       "      <td>18308.398</td>\n",
       "      <td>18358.122277</td>\n",
       "      <td>18373.898</td>\n",
       "    </tr>\n",
       "    <tr>\n",
       "      <th>145186</th>\n",
       "      <td>2021-12-14</td>\n",
       "      <td>10:15:00</td>\n",
       "      <td>36660.15</td>\n",
       "      <td>36660.15</td>\n",
       "      <td>36581.50</td>\n",
       "      <td>36585.00</td>\n",
       "      <td>36776.1825</td>\n",
       "      <td>36949.559</td>\n",
       "      <td>37164.741089</td>\n",
       "      <td>38237.333</td>\n",
       "    </tr>\n",
       "    <tr>\n",
       "      <th>29866</th>\n",
       "      <td>2015-09-10</td>\n",
       "      <td>13:15:00</td>\n",
       "      <td>16430.25</td>\n",
       "      <td>16440.60</td>\n",
       "      <td>16410.50</td>\n",
       "      <td>16430.55</td>\n",
       "      <td>16374.1425</td>\n",
       "      <td>16320.336</td>\n",
       "      <td>16495.786634</td>\n",
       "      <td>18124.196</td>\n",
       "    </tr>\n",
       "    <tr>\n",
       "      <th>22059</th>\n",
       "      <td>2015-04-16</td>\n",
       "      <td>12:40:00</td>\n",
       "      <td>18557.60</td>\n",
       "      <td>18557.60</td>\n",
       "      <td>18536.20</td>\n",
       "      <td>18548.25</td>\n",
       "      <td>18571.2150</td>\n",
       "      <td>18614.777</td>\n",
       "      <td>18799.377228</td>\n",
       "      <td>18917.988</td>\n",
       "    </tr>\n",
       "  </tbody>\n",
       "</table>\n",
       "</div>"
      ],
      "text/plain": [
       "              Date      Time      Open      High      Low      Close  \\\n",
       "108276  2019-12-18  10:30:00  32051.70  32070.05  32050.80  32070.05   \n",
       "92589   2019-02-06  09:20:00  27319.60  27377.45  27309.20  27361.45   \n",
       "72821   2018-01-10  12:00:00  25552.65  25575.45  25549.50  25562.40   \n",
       "138827  2021-08-09  11:35:00  36033.95  36062.55  36032.20  36052.80   \n",
       "99997   2019-07-03  14:10:00  31449.35  31450.40  31411.40  31426.85   \n",
       "45560   2016-07-21  15:05:00  18683.05  18694.95  18670.10  18690.95   \n",
       "24081   2015-05-26  12:25:00  18305.95  18305.95  18288.85  18295.55   \n",
       "145186  2021-12-14  10:15:00  36660.15  36660.15  36581.50  36585.00   \n",
       "29866   2015-09-10  13:15:00  16430.25  16440.60  16410.50  16430.55   \n",
       "22059   2015-04-16  12:40:00  18557.60  18557.60  18536.20  18548.25   \n",
       "\n",
       "             SMA20      SMA50       SMA 100     50 Dma  \n",
       "108276  32109.6400  32138.682  32130.121782  30533.150  \n",
       "92589   27279.8775  27294.153  27233.000000  27049.496  \n",
       "72821   25601.1400  25650.442  25663.475248  25464.617  \n",
       "138827  36036.8825  35927.657  35895.044554  35151.171  \n",
       "99997   31430.8850  31377.530  31319.742574  30407.604  \n",
       "45560   18765.9425  18829.181  18894.778218  17708.717  \n",
       "24081   18312.4875  18308.398  18358.122277  18373.898  \n",
       "145186  36776.1825  36949.559  37164.741089  38237.333  \n",
       "29866   16374.1425  16320.336  16495.786634  18124.196  \n",
       "22059   18571.2150  18614.777  18799.377228  18917.988  "
      ]
     },
     "execution_count": 91,
     "metadata": {},
     "output_type": "execute_result"
    }
   ],
   "source": [
    "nse_data.sample(10)"
   ]
  },
  {
   "cell_type": "code",
   "execution_count": 92,
   "id": "7e8c4d5d",
   "metadata": {},
   "outputs": [
    {
     "data": {
      "text/html": [
       "<div>\n",
       "<style scoped>\n",
       "    .dataframe tbody tr th:only-of-type {\n",
       "        vertical-align: middle;\n",
       "    }\n",
       "\n",
       "    .dataframe tbody tr th {\n",
       "        vertical-align: top;\n",
       "    }\n",
       "\n",
       "    .dataframe thead th {\n",
       "        text-align: right;\n",
       "    }\n",
       "</style>\n",
       "<table border=\"1\" class=\"dataframe\">\n",
       "  <thead>\n",
       "    <tr style=\"text-align: right;\">\n",
       "      <th></th>\n",
       "      <th>Date</th>\n",
       "      <th>Time</th>\n",
       "      <th>Open</th>\n",
       "      <th>High</th>\n",
       "      <th>Low</th>\n",
       "      <th>Close</th>\n",
       "      <th>SMA20</th>\n",
       "      <th>SMA50</th>\n",
       "      <th>SMA 100</th>\n",
       "      <th>50 Dma</th>\n",
       "    </tr>\n",
       "  </thead>\n",
       "  <tbody>\n",
       "    <tr>\n",
       "      <th>5000</th>\n",
       "      <td>2014-04-07</td>\n",
       "      <td>09:50:00</td>\n",
       "      <td>12591.95</td>\n",
       "      <td>12593.05</td>\n",
       "      <td>12580.15</td>\n",
       "      <td>12581.40</td>\n",
       "      <td>12564.1550</td>\n",
       "      <td>12576.920</td>\n",
       "      <td>12558.912871</td>\n",
       "      <td>11289.266</td>\n",
       "    </tr>\n",
       "    <tr>\n",
       "      <th>5001</th>\n",
       "      <td>2014-04-07</td>\n",
       "      <td>09:55:00</td>\n",
       "      <td>12581.40</td>\n",
       "      <td>12585.85</td>\n",
       "      <td>12565.20</td>\n",
       "      <td>12571.90</td>\n",
       "      <td>12565.2350</td>\n",
       "      <td>12576.327</td>\n",
       "      <td>12559.021287</td>\n",
       "      <td>11289.266</td>\n",
       "    </tr>\n",
       "    <tr>\n",
       "      <th>5002</th>\n",
       "      <td>2014-04-07</td>\n",
       "      <td>10:00:00</td>\n",
       "      <td>12571.90</td>\n",
       "      <td>12582.35</td>\n",
       "      <td>12568.05</td>\n",
       "      <td>12570.95</td>\n",
       "      <td>12566.0375</td>\n",
       "      <td>12575.680</td>\n",
       "      <td>12559.120792</td>\n",
       "      <td>11289.266</td>\n",
       "    </tr>\n",
       "    <tr>\n",
       "      <th>5003</th>\n",
       "      <td>2014-04-07</td>\n",
       "      <td>10:05:00</td>\n",
       "      <td>12570.95</td>\n",
       "      <td>12578.90</td>\n",
       "      <td>12561.30</td>\n",
       "      <td>12576.25</td>\n",
       "      <td>12567.4925</td>\n",
       "      <td>12575.389</td>\n",
       "      <td>12559.247525</td>\n",
       "      <td>11289.266</td>\n",
       "    </tr>\n",
       "    <tr>\n",
       "      <th>5004</th>\n",
       "      <td>2014-04-07</td>\n",
       "      <td>10:10:00</td>\n",
       "      <td>12576.25</td>\n",
       "      <td>12577.05</td>\n",
       "      <td>12562.95</td>\n",
       "      <td>12565.85</td>\n",
       "      <td>12568.4625</td>\n",
       "      <td>12574.929</td>\n",
       "      <td>12559.362376</td>\n",
       "      <td>11289.266</td>\n",
       "    </tr>\n",
       "    <tr>\n",
       "      <th>5005</th>\n",
       "      <td>2014-04-07</td>\n",
       "      <td>10:15:00</td>\n",
       "      <td>12565.85</td>\n",
       "      <td>12567.00</td>\n",
       "      <td>12528.45</td>\n",
       "      <td>12528.45</td>\n",
       "      <td>12567.3200</td>\n",
       "      <td>12573.523</td>\n",
       "      <td>12559.054950</td>\n",
       "      <td>11289.266</td>\n",
       "    </tr>\n",
       "    <tr>\n",
       "      <th>5006</th>\n",
       "      <td>2014-04-07</td>\n",
       "      <td>10:20:00</td>\n",
       "      <td>12531.95</td>\n",
       "      <td>12557.60</td>\n",
       "      <td>12531.95</td>\n",
       "      <td>12552.05</td>\n",
       "      <td>12567.8100</td>\n",
       "      <td>12572.636</td>\n",
       "      <td>12558.823762</td>\n",
       "      <td>11289.266</td>\n",
       "    </tr>\n",
       "    <tr>\n",
       "      <th>5007</th>\n",
       "      <td>2014-04-07</td>\n",
       "      <td>10:25:00</td>\n",
       "      <td>12552.05</td>\n",
       "      <td>12552.60</td>\n",
       "      <td>12522.25</td>\n",
       "      <td>12525.25</td>\n",
       "      <td>12567.5925</td>\n",
       "      <td>12570.967</td>\n",
       "      <td>12558.376238</td>\n",
       "      <td>11289.266</td>\n",
       "    </tr>\n",
       "    <tr>\n",
       "      <th>5008</th>\n",
       "      <td>2014-04-07</td>\n",
       "      <td>10:30:00</td>\n",
       "      <td>12525.25</td>\n",
       "      <td>12536.45</td>\n",
       "      <td>12514.45</td>\n",
       "      <td>12536.45</td>\n",
       "      <td>12567.8175</td>\n",
       "      <td>12569.476</td>\n",
       "      <td>12558.132178</td>\n",
       "      <td>11289.266</td>\n",
       "    </tr>\n",
       "    <tr>\n",
       "      <th>5009</th>\n",
       "      <td>2014-04-07</td>\n",
       "      <td>10:35:00</td>\n",
       "      <td>12536.45</td>\n",
       "      <td>12538.15</td>\n",
       "      <td>12505.30</td>\n",
       "      <td>12516.55</td>\n",
       "      <td>12566.7500</td>\n",
       "      <td>12567.908</td>\n",
       "      <td>12558.038614</td>\n",
       "      <td>11289.266</td>\n",
       "    </tr>\n",
       "  </tbody>\n",
       "</table>\n",
       "</div>"
      ],
      "text/plain": [
       "            Date      Time      Open      High      Low      Close  \\\n",
       "5000  2014-04-07  09:50:00  12591.95  12593.05  12580.15  12581.40   \n",
       "5001  2014-04-07  09:55:00  12581.40  12585.85  12565.20  12571.90   \n",
       "5002  2014-04-07  10:00:00  12571.90  12582.35  12568.05  12570.95   \n",
       "5003  2014-04-07  10:05:00  12570.95  12578.90  12561.30  12576.25   \n",
       "5004  2014-04-07  10:10:00  12576.25  12577.05  12562.95  12565.85   \n",
       "5005  2014-04-07  10:15:00  12565.85  12567.00  12528.45  12528.45   \n",
       "5006  2014-04-07  10:20:00  12531.95  12557.60  12531.95  12552.05   \n",
       "5007  2014-04-07  10:25:00  12552.05  12552.60  12522.25  12525.25   \n",
       "5008  2014-04-07  10:30:00  12525.25  12536.45  12514.45  12536.45   \n",
       "5009  2014-04-07  10:35:00  12536.45  12538.15  12505.30  12516.55   \n",
       "\n",
       "           SMA20      SMA50       SMA 100     50 Dma  \n",
       "5000  12564.1550  12576.920  12558.912871  11289.266  \n",
       "5001  12565.2350  12576.327  12559.021287  11289.266  \n",
       "5002  12566.0375  12575.680  12559.120792  11289.266  \n",
       "5003  12567.4925  12575.389  12559.247525  11289.266  \n",
       "5004  12568.4625  12574.929  12559.362376  11289.266  \n",
       "5005  12567.3200  12573.523  12559.054950  11289.266  \n",
       "5006  12567.8100  12572.636  12558.823762  11289.266  \n",
       "5007  12567.5925  12570.967  12558.376238  11289.266  \n",
       "5008  12567.8175  12569.476  12558.132178  11289.266  \n",
       "5009  12566.7500  12567.908  12558.038614  11289.266  "
      ]
     },
     "execution_count": 92,
     "metadata": {},
     "output_type": "execute_result"
    }
   ],
   "source": [
    "nse_data.iloc[5000:5010]"
   ]
  },
  {
   "cell_type": "code",
   "execution_count": 95,
   "id": "96410c8b",
   "metadata": {},
   "outputs": [],
   "source": [
    "nse_data.dropna(inplace=True)"
   ]
  },
  {
   "cell_type": "code",
   "execution_count": 96,
   "id": "9d8d794e",
   "metadata": {},
   "outputs": [
    {
     "data": {
      "text/html": [
       "<div>\n",
       "<style scoped>\n",
       "    .dataframe tbody tr th:only-of-type {\n",
       "        vertical-align: middle;\n",
       "    }\n",
       "\n",
       "    .dataframe tbody tr th {\n",
       "        vertical-align: top;\n",
       "    }\n",
       "\n",
       "    .dataframe thead th {\n",
       "        text-align: right;\n",
       "    }\n",
       "</style>\n",
       "<table border=\"1\" class=\"dataframe\">\n",
       "  <thead>\n",
       "    <tr style=\"text-align: right;\">\n",
       "      <th></th>\n",
       "      <th>Date</th>\n",
       "      <th>Time</th>\n",
       "      <th>Open</th>\n",
       "      <th>High</th>\n",
       "      <th>Low</th>\n",
       "      <th>Close</th>\n",
       "      <th>SMA20</th>\n",
       "      <th>SMA50</th>\n",
       "      <th>SMA 100</th>\n",
       "      <th>50 Dma</th>\n",
       "    </tr>\n",
       "  </thead>\n",
       "  <tbody>\n",
       "    <tr>\n",
       "      <th>3675</th>\n",
       "      <td>2014-03-12</td>\n",
       "      <td>09:15:00</td>\n",
       "      <td>11997.85</td>\n",
       "      <td>12049.25</td>\n",
       "      <td>11984.80</td>\n",
       "      <td>11998.70</td>\n",
       "      <td>12033.6700</td>\n",
       "      <td>12064.246</td>\n",
       "      <td>12090.860891</td>\n",
       "      <td>10814.169</td>\n",
       "    </tr>\n",
       "    <tr>\n",
       "      <th>3676</th>\n",
       "      <td>2014-03-12</td>\n",
       "      <td>09:20:00</td>\n",
       "      <td>11998.70</td>\n",
       "      <td>12031.40</td>\n",
       "      <td>11967.75</td>\n",
       "      <td>11967.75</td>\n",
       "      <td>12028.0375</td>\n",
       "      <td>12061.526</td>\n",
       "      <td>12089.981683</td>\n",
       "      <td>10814.169</td>\n",
       "    </tr>\n",
       "    <tr>\n",
       "      <th>3677</th>\n",
       "      <td>2014-03-12</td>\n",
       "      <td>09:25:00</td>\n",
       "      <td>11968.05</td>\n",
       "      <td>11990.40</td>\n",
       "      <td>11949.45</td>\n",
       "      <td>11968.85</td>\n",
       "      <td>12023.4075</td>\n",
       "      <td>12058.600</td>\n",
       "      <td>12089.100990</td>\n",
       "      <td>10814.169</td>\n",
       "    </tr>\n",
       "    <tr>\n",
       "      <th>3678</th>\n",
       "      <td>2014-03-12</td>\n",
       "      <td>09:30:00</td>\n",
       "      <td>11968.85</td>\n",
       "      <td>11968.85</td>\n",
       "      <td>11922.90</td>\n",
       "      <td>11938.55</td>\n",
       "      <td>12017.5875</td>\n",
       "      <td>12054.983</td>\n",
       "      <td>12088.296535</td>\n",
       "      <td>10814.169</td>\n",
       "    </tr>\n",
       "    <tr>\n",
       "      <th>3679</th>\n",
       "      <td>2014-03-12</td>\n",
       "      <td>09:35:00</td>\n",
       "      <td>11935.80</td>\n",
       "      <td>11949.80</td>\n",
       "      <td>11928.65</td>\n",
       "      <td>11949.80</td>\n",
       "      <td>12013.0550</td>\n",
       "      <td>12051.252</td>\n",
       "      <td>12087.416832</td>\n",
       "      <td>10814.169</td>\n",
       "    </tr>\n",
       "  </tbody>\n",
       "</table>\n",
       "</div>"
      ],
      "text/plain": [
       "            Date      Time      Open      High      Low      Close  \\\n",
       "3675  2014-03-12  09:15:00  11997.85  12049.25  11984.80  11998.70   \n",
       "3676  2014-03-12  09:20:00  11998.70  12031.40  11967.75  11967.75   \n",
       "3677  2014-03-12  09:25:00  11968.05  11990.40  11949.45  11968.85   \n",
       "3678  2014-03-12  09:30:00  11968.85  11968.85  11922.90  11938.55   \n",
       "3679  2014-03-12  09:35:00  11935.80  11949.80  11928.65  11949.80   \n",
       "\n",
       "           SMA20      SMA50       SMA 100     50 Dma  \n",
       "3675  12033.6700  12064.246  12090.860891  10814.169  \n",
       "3676  12028.0375  12061.526  12089.981683  10814.169  \n",
       "3677  12023.4075  12058.600  12089.100990  10814.169  \n",
       "3678  12017.5875  12054.983  12088.296535  10814.169  \n",
       "3679  12013.0550  12051.252  12087.416832  10814.169  "
      ]
     },
     "execution_count": 96,
     "metadata": {},
     "output_type": "execute_result"
    }
   ],
   "source": [
    "nse_data.head()"
   ]
  },
  {
   "cell_type": "code",
   "execution_count": 97,
   "id": "4b472ed7",
   "metadata": {},
   "outputs": [
    {
     "data": {
      "text/html": [
       "<div>\n",
       "<style scoped>\n",
       "    .dataframe tbody tr th:only-of-type {\n",
       "        vertical-align: middle;\n",
       "    }\n",
       "\n",
       "    .dataframe tbody tr th {\n",
       "        vertical-align: top;\n",
       "    }\n",
       "\n",
       "    .dataframe thead th {\n",
       "        text-align: right;\n",
       "    }\n",
       "</style>\n",
       "<table border=\"1\" class=\"dataframe\">\n",
       "  <thead>\n",
       "    <tr style=\"text-align: right;\">\n",
       "      <th></th>\n",
       "      <th>Date</th>\n",
       "      <th>Time</th>\n",
       "      <th>Open</th>\n",
       "      <th>High</th>\n",
       "      <th>Low</th>\n",
       "      <th>Close</th>\n",
       "      <th>SMA20</th>\n",
       "      <th>SMA50</th>\n",
       "      <th>SMA 100</th>\n",
       "      <th>50 Dma</th>\n",
       "    </tr>\n",
       "  </thead>\n",
       "  <tbody>\n",
       "    <tr>\n",
       "      <th>147419</th>\n",
       "      <td>2022-01-24</td>\n",
       "      <td>15:05:00</td>\n",
       "      <td>36874.30</td>\n",
       "      <td>36946.70</td>\n",
       "      <td>36813.45</td>\n",
       "      <td>36946.70</td>\n",
       "      <td>36725.6400</td>\n",
       "      <td>36968.661</td>\n",
       "      <td>37242.978218</td>\n",
       "      <td>36819.007</td>\n",
       "    </tr>\n",
       "    <tr>\n",
       "      <th>147420</th>\n",
       "      <td>2022-01-24</td>\n",
       "      <td>15:10:00</td>\n",
       "      <td>36946.55</td>\n",
       "      <td>37063.65</td>\n",
       "      <td>36929.50</td>\n",
       "      <td>37038.35</td>\n",
       "      <td>36735.3350</td>\n",
       "      <td>36960.372</td>\n",
       "      <td>37237.150000</td>\n",
       "      <td>36819.007</td>\n",
       "    </tr>\n",
       "    <tr>\n",
       "      <th>147421</th>\n",
       "      <td>2022-01-24</td>\n",
       "      <td>15:15:00</td>\n",
       "      <td>37048.60</td>\n",
       "      <td>37073.95</td>\n",
       "      <td>36990.90</td>\n",
       "      <td>37050.30</td>\n",
       "      <td>36747.5000</td>\n",
       "      <td>36953.933</td>\n",
       "      <td>37231.681188</td>\n",
       "      <td>36819.007</td>\n",
       "    </tr>\n",
       "    <tr>\n",
       "      <th>147422</th>\n",
       "      <td>2022-01-24</td>\n",
       "      <td>15:20:00</td>\n",
       "      <td>37047.80</td>\n",
       "      <td>37062.85</td>\n",
       "      <td>36894.25</td>\n",
       "      <td>36905.65</td>\n",
       "      <td>36751.2025</td>\n",
       "      <td>36944.372</td>\n",
       "      <td>37223.801980</td>\n",
       "      <td>36819.007</td>\n",
       "    </tr>\n",
       "    <tr>\n",
       "      <th>147423</th>\n",
       "      <td>2022-01-24</td>\n",
       "      <td>15:25:00</td>\n",
       "      <td>36902.40</td>\n",
       "      <td>36945.05</td>\n",
       "      <td>36808.15</td>\n",
       "      <td>36834.90</td>\n",
       "      <td>36751.3125</td>\n",
       "      <td>36934.724</td>\n",
       "      <td>37215.664356</td>\n",
       "      <td>36819.007</td>\n",
       "    </tr>\n",
       "  </tbody>\n",
       "</table>\n",
       "</div>"
      ],
      "text/plain": [
       "              Date      Time      Open      High      Low      Close  \\\n",
       "147419  2022-01-24  15:05:00  36874.30  36946.70  36813.45  36946.70   \n",
       "147420  2022-01-24  15:10:00  36946.55  37063.65  36929.50  37038.35   \n",
       "147421  2022-01-24  15:15:00  37048.60  37073.95  36990.90  37050.30   \n",
       "147422  2022-01-24  15:20:00  37047.80  37062.85  36894.25  36905.65   \n",
       "147423  2022-01-24  15:25:00  36902.40  36945.05  36808.15  36834.90   \n",
       "\n",
       "             SMA20      SMA50       SMA 100     50 Dma  \n",
       "147419  36725.6400  36968.661  37242.978218  36819.007  \n",
       "147420  36735.3350  36960.372  37237.150000  36819.007  \n",
       "147421  36747.5000  36953.933  37231.681188  36819.007  \n",
       "147422  36751.2025  36944.372  37223.801980  36819.007  \n",
       "147423  36751.3125  36934.724  37215.664356  36819.007  "
      ]
     },
     "execution_count": 97,
     "metadata": {},
     "output_type": "execute_result"
    }
   ],
   "source": [
    "nse_data.tail()"
   ]
  },
  {
   "cell_type": "code",
   "execution_count": 98,
   "id": "29214308",
   "metadata": {},
   "outputs": [],
   "source": [
    "nse_data.reset_index(drop=True, inplace=True)"
   ]
  },
  {
   "cell_type": "code",
   "execution_count": 99,
   "id": "dbaee151",
   "metadata": {},
   "outputs": [
    {
     "data": {
      "text/html": [
       "<div>\n",
       "<style scoped>\n",
       "    .dataframe tbody tr th:only-of-type {\n",
       "        vertical-align: middle;\n",
       "    }\n",
       "\n",
       "    .dataframe tbody tr th {\n",
       "        vertical-align: top;\n",
       "    }\n",
       "\n",
       "    .dataframe thead th {\n",
       "        text-align: right;\n",
       "    }\n",
       "</style>\n",
       "<table border=\"1\" class=\"dataframe\">\n",
       "  <thead>\n",
       "    <tr style=\"text-align: right;\">\n",
       "      <th></th>\n",
       "      <th>Date</th>\n",
       "      <th>Time</th>\n",
       "      <th>Open</th>\n",
       "      <th>High</th>\n",
       "      <th>Low</th>\n",
       "      <th>Close</th>\n",
       "      <th>SMA20</th>\n",
       "      <th>SMA50</th>\n",
       "      <th>SMA 100</th>\n",
       "      <th>50 Dma</th>\n",
       "    </tr>\n",
       "  </thead>\n",
       "  <tbody>\n",
       "    <tr>\n",
       "      <th>0</th>\n",
       "      <td>2014-03-12</td>\n",
       "      <td>09:15:00</td>\n",
       "      <td>11997.85</td>\n",
       "      <td>12049.25</td>\n",
       "      <td>11984.80</td>\n",
       "      <td>11998.70</td>\n",
       "      <td>12033.6700</td>\n",
       "      <td>12064.246</td>\n",
       "      <td>12090.860891</td>\n",
       "      <td>10814.169</td>\n",
       "    </tr>\n",
       "    <tr>\n",
       "      <th>1</th>\n",
       "      <td>2014-03-12</td>\n",
       "      <td>09:20:00</td>\n",
       "      <td>11998.70</td>\n",
       "      <td>12031.40</td>\n",
       "      <td>11967.75</td>\n",
       "      <td>11967.75</td>\n",
       "      <td>12028.0375</td>\n",
       "      <td>12061.526</td>\n",
       "      <td>12089.981683</td>\n",
       "      <td>10814.169</td>\n",
       "    </tr>\n",
       "    <tr>\n",
       "      <th>2</th>\n",
       "      <td>2014-03-12</td>\n",
       "      <td>09:25:00</td>\n",
       "      <td>11968.05</td>\n",
       "      <td>11990.40</td>\n",
       "      <td>11949.45</td>\n",
       "      <td>11968.85</td>\n",
       "      <td>12023.4075</td>\n",
       "      <td>12058.600</td>\n",
       "      <td>12089.100990</td>\n",
       "      <td>10814.169</td>\n",
       "    </tr>\n",
       "    <tr>\n",
       "      <th>3</th>\n",
       "      <td>2014-03-12</td>\n",
       "      <td>09:30:00</td>\n",
       "      <td>11968.85</td>\n",
       "      <td>11968.85</td>\n",
       "      <td>11922.90</td>\n",
       "      <td>11938.55</td>\n",
       "      <td>12017.5875</td>\n",
       "      <td>12054.983</td>\n",
       "      <td>12088.296535</td>\n",
       "      <td>10814.169</td>\n",
       "    </tr>\n",
       "    <tr>\n",
       "      <th>4</th>\n",
       "      <td>2014-03-12</td>\n",
       "      <td>09:35:00</td>\n",
       "      <td>11935.80</td>\n",
       "      <td>11949.80</td>\n",
       "      <td>11928.65</td>\n",
       "      <td>11949.80</td>\n",
       "      <td>12013.0550</td>\n",
       "      <td>12051.252</td>\n",
       "      <td>12087.416832</td>\n",
       "      <td>10814.169</td>\n",
       "    </tr>\n",
       "  </tbody>\n",
       "</table>\n",
       "</div>"
      ],
      "text/plain": [
       "         Date      Time      Open      High      Low      Close       SMA20  \\\n",
       "0  2014-03-12  09:15:00  11997.85  12049.25  11984.80  11998.70  12033.6700   \n",
       "1  2014-03-12  09:20:00  11998.70  12031.40  11967.75  11967.75  12028.0375   \n",
       "2  2014-03-12  09:25:00  11968.05  11990.40  11949.45  11968.85  12023.4075   \n",
       "3  2014-03-12  09:30:00  11968.85  11968.85  11922.90  11938.55  12017.5875   \n",
       "4  2014-03-12  09:35:00  11935.80  11949.80  11928.65  11949.80  12013.0550   \n",
       "\n",
       "       SMA50       SMA 100     50 Dma  \n",
       "0  12064.246  12090.860891  10814.169  \n",
       "1  12061.526  12089.981683  10814.169  \n",
       "2  12058.600  12089.100990  10814.169  \n",
       "3  12054.983  12088.296535  10814.169  \n",
       "4  12051.252  12087.416832  10814.169  "
      ]
     },
     "execution_count": 99,
     "metadata": {},
     "output_type": "execute_result"
    }
   ],
   "source": [
    "nse_data.head()"
   ]
  },
  {
   "cell_type": "code",
   "execution_count": 109,
   "id": "8f2f7e36",
   "metadata": {},
   "outputs": [
    {
     "data": {
      "text/plain": [
       "Date         2014-03-12\n",
       "Time           15:25:00\n",
       "Open           12025.05\n",
       "High            12040.8\n",
       "Low            12023.05\n",
       "Close           12040.8\n",
       "SMA20         12010.765\n",
       "SMA50         12020.582\n",
       "SMA 100    12025.391089\n",
       "50 Dma        10814.169\n",
       "Name: 74, dtype: object"
      ]
     },
     "execution_count": 109,
     "metadata": {},
     "output_type": "execute_result"
    }
   ],
   "source": [
    "nse_data.iloc[0+74]"
   ]
  },
  {
   "cell_type": "code",
   "execution_count": 101,
   "id": "80966a79",
   "metadata": {},
   "outputs": [],
   "source": [
    "nse_data.to_excel(\"Bank Nifty with 50 DMA.xlsx\", index=False)"
   ]
  },
  {
   "cell_type": "markdown",
   "id": "f631a980",
   "metadata": {},
   "source": [
    " "
   ]
  },
  {
   "cell_type": "markdown",
   "id": "b685bdb7",
   "metadata": {},
   "source": [
    " "
   ]
  },
  {
   "cell_type": "markdown",
   "id": "85a52d2a",
   "metadata": {},
   "source": [
    " "
   ]
  },
  {
   "cell_type": "markdown",
   "id": "a3cf48e1",
   "metadata": {},
   "source": [
    " "
   ]
  },
  {
   "cell_type": "code",
   "execution_count": 103,
   "id": "8cf52213",
   "metadata": {},
   "outputs": [],
   "source": [
    "wb = openpyxl.Workbook()\n",
    "\n",
    "ws = wb.active\n",
    "ws.title = \"Summary\"\n",
    "\n",
    "ws.column_dimensions['F'].width = 30\n",
    "ws.column_dimensions['G'].width = 8\n",
    "ws[\"A1\"].value = \"\"\"\n",
    "This excel sheet contains output data gathered from backtesting strategy 2.\n",
    "\"\"\"\n",
    "wb.save('Strategy 2.xlsx')"
   ]
  },
  {
   "cell_type": "markdown",
   "id": "79d37d03",
   "metadata": {},
   "source": [
    "## 1. Find the number of days where it satisfies the prerequsite."
   ]
  },
  {
   "cell_type": "code",
   "execution_count": 104,
   "id": "96557b06",
   "metadata": {},
   "outputs": [
    {
     "data": {
      "text/plain": [
       "143749"
      ]
     },
     "execution_count": 104,
     "metadata": {},
     "output_type": "execute_result"
    }
   ],
   "source": [
    "len(nse_data.index)"
   ]
  },
  {
   "cell_type": "code",
   "execution_count": 222,
   "id": "98983014",
   "metadata": {},
   "outputs": [
    {
     "data": {
      "text/plain": [
       "Date         2014-03-12\n",
       "Time           09:15:00\n",
       "Open           11997.85\n",
       "High           12049.25\n",
       "Low             11984.8\n",
       "Close           11998.7\n",
       "SMA20          12033.67\n",
       "SMA50         12064.246\n",
       "SMA 100    12090.860891\n",
       "50 Dma        10814.169\n",
       "Name: 0, dtype: object"
      ]
     },
     "execution_count": 222,
     "metadata": {},
     "output_type": "execute_result"
    }
   ],
   "source": [
    "nse_data.iloc[0,:]"
   ]
  },
  {
   "cell_type": "code",
   "execution_count": 165,
   "id": "077ac710",
   "metadata": {},
   "outputs": [
    {
     "name": "stdout",
     "output_type": "stream",
     "text": [
      "12142.9\n"
     ]
    }
   ],
   "source": [
    "index = 0\n",
    "max_high = max(nse_data.iloc[index:index+16][\"High\"])\n",
    "print(max_high)"
   ]
  },
  {
   "cell_type": "code",
   "execution_count": 178,
   "id": "01786f1d",
   "metadata": {
    "scrolled": false
   },
   "outputs": [
    {
     "data": {
      "text/plain": [
       "<function list.index(value, start=0, stop=9223372036854775807, /)>"
      ]
     },
     "execution_count": 178,
     "metadata": {},
     "output_type": "execute_result"
    }
   ],
   "source": [
    "[nse_data.loc[(nse_data['Time'] == dt.time(11,15,0)) & (nse_data['Date'] == dt.date(2015, 10, 12))]].index"
   ]
  },
  {
   "cell_type": "code",
   "execution_count": 245,
   "id": "825ad334",
   "metadata": {},
   "outputs": [],
   "source": [
    "def num_days_buy_condition_true(stage):\n",
    "    condition_satisfied = condition_not_satisfied = 0\n",
    "    index = 0\n",
    "    all_profits = []\n",
    "    while index < len(nse_data.index):\n",
    "        \n",
    "        if stage == \"prerequsite\":\n",
    "            if nse_data[\"Time\"][index] == dt.time(9,15,0):\n",
    "                previous_open = nse_data[\"Open\"][index]\n",
    "                index += 74 \n",
    "                continue\n",
    "            if nse_data[\"Time\"][index] == dt.time(15,25,0):\n",
    "                previous_close = nse_data[\"Close\"][index]\n",
    "\n",
    "                if previous_close > previous_open:\n",
    "                    current_open = nse_data[\"Open\"][index+1]\n",
    "                    if current_open < previous_close:\n",
    "                        stage = \"buy\"\n",
    "                        previous_day = nse_data[\"Date\"][index]\n",
    "                        index += 1 \n",
    "                        max_high = max(nse_data.iloc[index:index+16][\"High\"])\n",
    "                        index += 16\n",
    "                    else:\n",
    "                        index += 1\n",
    "                else:\n",
    "                    index += 1\n",
    "            else:\n",
    "                if nse_data[\"Time\"][index] != dt.time(9,15,0):\n",
    "                    index += 1\n",
    "            \n",
    "            \"\"\"\n",
    "            Figure out what to do when in prereq. stage and tick not in start or end row.\n",
    "            Index increment should be such that it goes to next days 9:15 tick.\n",
    "            \"\"\"      \n",
    "        if stage == \"buy\":\n",
    "            if all(nse_data[\"Close\"][index] > x for x in [max_high, nse_data[\"SMA50\"][index],nse_data[\"50 Dma\"][index]]):\n",
    "                buy_price = nse_data[\"Close\"][index]\n",
    "                buy_date = nse_data[\"Date\"][index]\n",
    "                buy_time = nse_data[\"Time\"][index]\n",
    "                stage = \"sell\"\n",
    "            index += 1\n",
    "                \n",
    "        if stage == \"sell\":\n",
    "            if nse_data[\"Close\"][index] < nse_data[\"SMA50\"][index]:\n",
    "            #if nse_data[\"Time\"][index] == dt.time(15,25,0):\n",
    "                sell_price = nse_data[\"Close\"][index] \n",
    "                sell_date = nse_data[\"Date\"][index]\n",
    "                sell_time = nse_data[\"Time\"][index]\n",
    "                stage = \"prerequsite\"\n",
    "                index += 1\n",
    "                current_profit = sell_price - buy_price\n",
    "                all_profits.append(current_profit)\n",
    "                #print(previous_open, previous_close, previous_day, max_high, buy_price, sell_price, sell_price-buy_price, buy_date, buy_time, sell_date, sell_time)\n",
    "            else:\n",
    "                index += 1\n",
    "    return all_profits"
   ]
  },
  {
   "cell_type": "code",
   "execution_count": 246,
   "id": "69610972",
   "metadata": {},
   "outputs": [],
   "source": [
    "all_profits = num_days_buy_condition_true(\"prerequsite\")"
   ]
  },
  {
   "cell_type": "code",
   "execution_count": 247,
   "id": "4b75a579",
   "metadata": {},
   "outputs": [
    {
     "data": {
      "text/plain": [
       "105"
      ]
     },
     "execution_count": 247,
     "metadata": {},
     "output_type": "execute_result"
    }
   ],
   "source": [
    "len(all_profits)"
   ]
  },
  {
   "cell_type": "code",
   "execution_count": 249,
   "id": "f6ff91ee",
   "metadata": {},
   "outputs": [
    {
     "data": {
      "text/plain": [
       "4986.20000000001"
      ]
     },
     "execution_count": 249,
     "metadata": {},
     "output_type": "execute_result"
    }
   ],
   "source": [
    "sum(all_profits)"
   ]
  },
  {
   "cell_type": "code",
   "execution_count": 250,
   "id": "a7b3582b",
   "metadata": {},
   "outputs": [
    {
     "data": {
      "text/plain": [
       "1344.7999999999956"
      ]
     },
     "execution_count": 250,
     "metadata": {},
     "output_type": "execute_result"
    }
   ],
   "source": [
    "max(all_profits)"
   ]
  },
  {
   "cell_type": "code",
   "execution_count": 251,
   "id": "398ec950",
   "metadata": {},
   "outputs": [
    {
     "data": {
      "text/plain": [
       "-632.6500000000015"
      ]
     },
     "execution_count": 251,
     "metadata": {},
     "output_type": "execute_result"
    }
   ],
   "source": [
    "min(all_profits)"
   ]
  },
  {
   "cell_type": "code",
   "execution_count": null,
   "id": "d2af2582",
   "metadata": {},
   "outputs": [],
   "source": [
    "condition_satisfied, condition_not_satisfied = num_days_buy_condition_true()\n",
    "print(\"Number of days condition was satisfied: \" + str(condition_satisfied))\n",
    "print(\"Number of days condition was not satisfied: \" + str(condition_not_satisfied))\n",
    "\n",
    "\n",
    "ws[\"a2\"] = \"Number of days condition was satisfied: \" + str(condition_satisfied)\n",
    "ws[\"a3\"] = \"Number of days condition was not satisfied: \" + str(condition_not_satisfied)\n",
    "wb.save(\"strategy1.xlsx\")"
   ]
  },
  {
   "cell_type": "markdown",
   "id": "f66d925a",
   "metadata": {},
   "source": [
    " "
   ]
  },
  {
   "cell_type": "markdown",
   "id": "ad0244a8",
   "metadata": {},
   "source": [
    " ### Inference: This tells us that there were 146 days where the stock price of BANK NIFTY was on rise throughout the day.\n",
    " \n",
    " i.e. The price of stock at any point of time on that day was greater than the SMA50 (average of price of the last 50 points)"
   ]
  },
  {
   "cell_type": "markdown",
   "id": "1c43f5c3",
   "metadata": {},
   "source": [
    " "
   ]
  },
  {
   "cell_type": "markdown",
   "id": "ec86df82",
   "metadata": {},
   "source": [
    " "
   ]
  },
  {
   "cell_type": "markdown",
   "id": "0189c5ac",
   "metadata": {},
   "source": [
    " "
   ]
  },
  {
   "cell_type": "markdown",
   "id": "d4a297db",
   "metadata": {},
   "source": [
    " "
   ]
  },
  {
   "cell_type": "markdown",
   "id": "a0b02691",
   "metadata": {},
   "source": [
    "## 2. Find the number of days where all 75 ticks had close value less than SMA50 "
   ]
  },
  {
   "cell_type": "code",
   "execution_count": null,
   "id": "a280b231",
   "metadata": {},
   "outputs": [],
   "source": [
    "def num_days_stock_declining():\n",
    "    condition_satisfied = condition_not_satisfied = 0\n",
    "\n",
    "    for index in nse_data.index:\n",
    "        if nse_data[\"Time\"][index] == dt.time(9,15,0):\n",
    "            counter = 0\n",
    "\n",
    "        if nse_data[\"Close\"][index] <= nse_data[\"SMA50\"][index]:\n",
    "            counter += 1\n",
    "        else:\n",
    "            counter = -1\n",
    "\n",
    "        if nse_data[\"Time\"][index] == dt.time(15,25,0):\n",
    "            if counter == 75:\n",
    "                # all 75 ticks satisfied the condition\n",
    "                condition_satisfied += 1\n",
    "            else:\n",
    "                # condition failed\n",
    "                condition_not_satisfied += 1\n",
    "                \n",
    "    return condition_satisfied, condition_not_satisfied"
   ]
  },
  {
   "cell_type": "code",
   "execution_count": null,
   "id": "cc1cbde6",
   "metadata": {},
   "outputs": [],
   "source": [
    "condition_satisfied, condition_not_satisfied = num_days_stock_declining()\n",
    "print(\"Number of days condition was satisfied: \" + str(condition_satisfied))\n",
    "print(\"Number of days condition was not satisfied: \" + str(condition_not_satisfied))"
   ]
  },
  {
   "cell_type": "markdown",
   "id": "a33c9d55",
   "metadata": {},
   "source": [
    " ### Inference: This tells us that there were 105 days where the stock price of BANK NIFTY was on fall throughout the day.\n",
    " \n",
    " i.e. The price of stock at any point of time on that day was lower than the SMA50 (average of price of the last 50 points)"
   ]
  },
  {
   "cell_type": "markdown",
   "id": "097a2632",
   "metadata": {},
   "source": [
    " "
   ]
  },
  {
   "cell_type": "markdown",
   "id": "843679ac",
   "metadata": {},
   "source": [
    " "
   ]
  },
  {
   "cell_type": "markdown",
   "id": "8e5d6e6b",
   "metadata": {},
   "source": [
    " "
   ]
  },
  {
   "cell_type": "markdown",
   "id": "bb3d47a8",
   "metadata": {},
   "source": [
    " "
   ]
  },
  {
   "cell_type": "markdown",
   "id": "021756b6",
   "metadata": {},
   "source": [
    " "
   ]
  },
  {
   "cell_type": "markdown",
   "id": "d1e8d967",
   "metadata": {},
   "source": [
    "## 3. Buy the Stock at the end of the day when the Price is at rice and Sell when it starts to decline.\n",
    "\n",
    "\n",
    "Stratergy:\n",
    "- Buy at 3:25 pm on the day when all 75 ticks had close value greater than the SMA50.\n",
    "- Sell at the first instant when the close value is less than the SMA50.\n",
    "- Find out the money made or lost with this stratergy over last 10 year.\n",
    "\n"
   ]
  },
  {
   "cell_type": "code",
   "execution_count": null,
   "id": "de06f283",
   "metadata": {},
   "outputs": [],
   "source": [
    "def execute_trade(start_index, end_index):\n",
    "    \"\"\"\n",
    "    End Index in not inclusive.\n",
    "    \n",
    "    \"\"\"\n",
    "    buying_mode = True\n",
    "    profit_made_sma50 = []\n",
    "    trade_number = 1\n",
    "    trades = {}\n",
    "    year = nse_data.iloc[start_index][\"Date\"].year\n",
    "\n",
    "    for index in range(start_index, end_index):\n",
    "        if buying_mode == True:    \n",
    "            if nse_data[\"Time\"][index] == dt.time(9,15,0):\n",
    "                counter = 0\n",
    "\n",
    "            if nse_data[\"Close\"][index] >= nse_data[\"SMA50\"][index]:\n",
    "                counter += 1\n",
    "            else:\n",
    "                counter = -1\n",
    "\n",
    "            if nse_data[\"Time\"][index] == dt.time(15,25,0):\n",
    "                if counter == 75:\n",
    "                    # all 75 ticks satisfied the condition\n",
    "                    # trigger buy\n",
    "                    buy_price = nse_data[\"Close\"][index]\n",
    "                    buying_mode = False\n",
    "                    trades[f\"Trade {trade_number} Buy\"] = nse_data.iloc[index:index+1,[0,1,5,7]]\n",
    "                    continue\n",
    "\n",
    "        if buying_mode == False:\n",
    "            #print(nse_data.iloc[index:index+1,[0,1, 5,7]])\n",
    "            if nse_data[\"Close\"][index] < nse_data[\"SMA50\"][index]:\n",
    "                trades[f\"Trade {trade_number} Sell\"] = nse_data.iloc[index:index+1,[0,1,5,7]]\n",
    "                selling_price = nse_data[\"Close\"][index]\n",
    "                profit_made = selling_price - buy_price\n",
    "                trades[f\"Trade {trade_number} Profit\"] = profit_made\n",
    "                trade_number += 1\n",
    "                profit_made_sma50.append(profit_made)\n",
    "                buying_mode = True\n",
    "    return (profit_made_sma50, trades, year)"
   ]
  },
  {
   "cell_type": "markdown",
   "id": "db6d4a1b",
   "metadata": {},
   "source": [
    " "
   ]
  },
  {
   "cell_type": "markdown",
   "id": "0ebdc814",
   "metadata": {},
   "source": [
    "## 4. Find number of years:"
   ]
  },
  {
   "cell_type": "code",
   "execution_count": null,
   "id": "2ffb754f",
   "metadata": {},
   "outputs": [],
   "source": [
    "def save_output_parameters(profit_list, trades, year):\n",
    "    win_trades = list(filter(lambda x: (x > 0), profit_list))\n",
    "    loose_trades = list(filter(lambda x: (x < 0), profit_list))\n",
    "    global cumulative_profit\n",
    "    cumulative_profit.extend(profit_list)\n",
    "    \n",
    "    try:\n",
    "        ws = wb[str(year)]\n",
    "    except:\n",
    "        wb.create_sheet(str(year))\n",
    "        ws = wb[str(year)]\n",
    "        ws.title = str(year)\n",
    "    ws.column_dimensions['F'].width = 30\n",
    "    ws.column_dimensions['G'].width = 8\n",
    "    \n",
    "    ws['f11'], ws['g11'] = \"Total Trades\", len(profit_list)\n",
    "    ws['f12'], ws['g12'] = \"Total Win Trades\", len(win_trades)\n",
    "    ws['f13'], ws['g13'] = \"Total Loose Trades\", len(loose_trades)\n",
    "    ws['f14'], ws['g14'] = \"Hit Ratio/ Trade win Ratio\", float(f'{len(win_trades)/len(profit_list)*100:.2f}') if len(profit_list) != 0 else \"NA\"\n",
    "    ws['f15'], ws['g15'] = \"Day win Ratio\", float(f'{len(win_trades)/len(loose_trades)*100:.2f}') if len(loose_trades) != 0 else \"NA\"\n",
    "    ws['f16'], ws['g16'] = \"Gross Profit\", sum(win_trades)\n",
    "    ws['f17'], ws['g17'] = \"Gross Loss\", sum(loose_trades)\n",
    "    ws['f18'], ws['g18'] = \"Net Profit\", sum(win_trades)+sum(loose_trades)\n",
    "    ws['f19'], ws['g19'] = \"Max Draw Up\", \"???\"\n",
    "    ws['f20'], ws['g20'] = \"Max Draw Down\", \"???\"\n",
    "    ws['f21'], ws['g21'] = \"Average Trades\", float(f\"{ws['g18'].value/len(profit_list):.2f}\")  if len(profit_list) != 0 else \"NA\"\n",
    "    ws['f22'], ws['g22'] = \"Average Winning Trade\", float(f'{mean(win_trades):.2f}') if len(win_trades) != 0 else \"NA\"\n",
    "    ws['f23'], ws['g23'] = \"Average Loosing Trade\", float(f'{mean(loose_trades):.2f}') if len(loose_trades) != 0 else \"NA\"\n",
    "    ws['f24'], ws['g24'] = \"Risk Reward\", \"???\"\n",
    "    ws['f25'], ws['g25'] = \"Max Return/ Largest Winning Trade\", max(win_trades) if len(win_trades) != 0 else \"NA\"\n",
    "    ws['f26'], ws['g26'] = \"Min Return/ Largest Loosing Trade\", min(loose_trades) if len(loose_trades) != 0 else \"NA\"\n",
    "    ws['f27'], ws['g27'] = \"Net Profit %\", \"???\"\n",
    "    ws['f28'], ws['g28'] = \"Return Per Year\", ws['g18'].value\n",
    "    ws['f29'], ws['g29'] = \"Sharpe Ratio\", \"???\"\n",
    "    wb.save(\"strategy1.xlsx\")"
   ]
  },
  {
   "cell_type": "code",
   "execution_count": null,
   "id": "50752e1f",
   "metadata": {},
   "outputs": [],
   "source": [
    "last_index = 0\n",
    "last_year = nse_data.iloc[0][\"Date\"].year\n",
    "\n",
    "year_start_index_number = [last_index]\n",
    "\n",
    "for index in nse_data.index:\n",
    "    if nse_data.iloc[index][\"Date\"].year > last_year:\n",
    "        last_year = nse_data.iloc[index][\"Date\"].year\n",
    "        year_start_index_number.append(index)"
   ]
  },
  {
   "cell_type": "code",
   "execution_count": null,
   "id": "808b6b13",
   "metadata": {},
   "outputs": [],
   "source": [
    "global cumulative_profit\n",
    "cumulative_profit = []\n",
    "for i in range(len(year_start_index_number)):\n",
    "    start_index = year_start_index_number[i]\n",
    "    if i < len(year_start_index_number)-1:\n",
    "        end_index = year_start_index_number[i+1]\n",
    "    profit_made, trades, year = execute_trade(start_index, end_index)\n",
    "    save_output_parameters(profit_made, trades, year)"
   ]
  },
  {
   "cell_type": "code",
   "execution_count": null,
   "id": "0e704637",
   "metadata": {},
   "outputs": [],
   "source": [
    "len(cumulative_profit)"
   ]
  },
  {
   "cell_type": "code",
   "execution_count": null,
   "id": "762ee67d",
   "metadata": {},
   "outputs": [],
   "source": [
    "win_trades = list(filter(lambda x: (x > 0), cumulative_profit))\n",
    "loose_trades = list(filter(lambda x: (x < 0), cumulative_profit))\n",
    "\n",
    "ws = wb[\"Summary\"]\n",
    "\n",
    "ws['f11'], ws['g11'] = \"Total Trades\", len(cumulative_profit)\n",
    "ws['f12'], ws['g12'] = \"Total Win Trades\", len(win_trades)\n",
    "ws['f13'], ws['g13'] = \"Total Loose Trades\", len(loose_trades)\n",
    "ws['f14'], ws['g14'] = \"Hit Ratio/ Trade win Ratio\", float(f'{len(win_trades)/len(cumulative_profit)*100:.2f}') if len(cumulative_profit) != 0 else \"NA\"\n",
    "ws['f15'], ws['g15'] = \"Day win Ratio\", float(f'{len(win_trades)/len(loose_trades)*100:.2f}') if len(loose_trades) != 0 else \"NA\"\n",
    "ws['f16'], ws['g16'] = \"Gross Profit\", sum(win_trades)\n",
    "ws['f17'], ws['g17'] = \"Gross Loss\", sum(loose_trades)\n",
    "ws['f18'], ws['g18'] = \"Net Profit\", sum(win_trades)+sum(loose_trades)\n",
    "ws['f19'], ws['g19'] = \"Max Draw Up\", \"???\"\n",
    "ws['f20'], ws['g20'] = \"Max Draw Down\", \"???\"\n",
    "ws['f21'], ws['g21'] = \"Average Trades\", float(f\"{ws['g18'].value/len(cumulative_profit):.2f}\") if len(cumulative_profit) != 0 else \"NA\"\n",
    "ws['f22'], ws['g22'] = \"Average Winning Trade\", float(f'{mean(win_trades):.2f}') if len(win_trades) != 0 else \"NA\"\n",
    "ws['f23'], ws['g23'] = \"Average Loosing Trade\", float(f'{mean(loose_trades):.2f}') if len(loose_trades) != 0 else \"NA\"\n",
    "ws['f24'], ws['g24'] = \"Risk Reward\", \"???\"\n",
    "ws['f25'], ws['g25'] = \"Max Return/ Largest Winning Trade\", max(win_trades) if len(win_trades) != 0 else \"NA\"\n",
    "ws['f26'], ws['g26'] = \"Min Return/ Largest Loosing Trade\", min(loose_trades) if len(loose_trades) != 0 else \"NA\"\n",
    "ws['f27'], ws['g27'] = \"Net Profit %\", \"???\"\n",
    "ws['f28'], ws['g28'] = \"Sharpe Ratio\", \"???\"\n",
    "wb.save(\"strategy1.xlsx\")"
   ]
  },
  {
   "cell_type": "markdown",
   "id": "44c5daf5",
   "metadata": {},
   "source": [
    " "
   ]
  },
  {
   "cell_type": "markdown",
   "id": "e0760baa",
   "metadata": {},
   "source": [
    " "
   ]
  },
  {
   "cell_type": "markdown",
   "id": "14885e02",
   "metadata": {},
   "source": [
    " "
   ]
  },
  {
   "cell_type": "markdown",
   "id": "0db25a5e",
   "metadata": {},
   "source": [
    " "
   ]
  },
  {
   "cell_type": "markdown",
   "id": "6735cdef",
   "metadata": {},
   "source": [
    " "
   ]
  }
 ],
 "metadata": {
  "kernelspec": {
   "display_name": "Python 3 (ipykernel)",
   "language": "python",
   "name": "python3"
  },
  "language_info": {
   "codemirror_mode": {
    "name": "ipython",
    "version": 3
   },
   "file_extension": ".py",
   "mimetype": "text/x-python",
   "name": "python",
   "nbconvert_exporter": "python",
   "pygments_lexer": "ipython3",
   "version": "3.10.1"
  }
 },
 "nbformat": 4,
 "nbformat_minor": 5
}
