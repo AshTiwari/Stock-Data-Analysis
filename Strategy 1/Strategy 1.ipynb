{
 "cells": [
  {
   "cell_type": "markdown",
   "id": "dc4d66c6",
   "metadata": {},
   "source": [
    "# Stock Analysis and Back Testing a Stratergy"
   ]
  },
  {
   "cell_type": "markdown",
   "id": "86c45448",
   "metadata": {},
   "source": [
    "**Hypothesis:**\n",
    "\n",
    "If all 75 ticks in a day is above 50 SMA, Trigger buy @ 3:25 pm. Stop Loss at first instance of close below 50 sma."
   ]
  },
  {
   "cell_type": "markdown",
   "id": "082c6ed9",
   "metadata": {},
   "source": [
    "**Strategy:**\n",
    "\n",
    "If the stock price is on rise throughout the day, trigger buy at the end of the day. Hold on to the stock till it is in increasing phase. Exit the stock when it shows the sign of decline.\n",
    "\n",
    "Not to exit at first decline but instead if it goes lower than the average of last 50 instances."
   ]
  },
  {
   "cell_type": "markdown",
   "id": "270a9b29",
   "metadata": {},
   "source": [
    " "
   ]
  },
  {
   "cell_type": "markdown",
   "id": "0872fd1b",
   "metadata": {},
   "source": [
    " "
   ]
  },
  {
   "cell_type": "markdown",
   "id": "2ff6b1c5",
   "metadata": {},
   "source": [
    " "
   ]
  },
  {
   "cell_type": "markdown",
   "id": "9f6b2011",
   "metadata": {},
   "source": [
    "## Import Liabraries "
   ]
  },
  {
   "cell_type": "code",
   "execution_count": 1,
   "id": "a92c5b52",
   "metadata": {},
   "outputs": [],
   "source": [
    "import pandas as pd\n",
    "import numpy as np\n",
    "import datetime as dt\n",
    "from pandas_datareader import data as pdr\n",
    "import matplotlib.pyplot as plt\n",
    "import xlsxwriter\n",
    "import openpyxl\n",
    "from statistics import mean"
   ]
  },
  {
   "cell_type": "markdown",
   "id": "4d12eb95",
   "metadata": {},
   "source": [
    " "
   ]
  },
  {
   "cell_type": "markdown",
   "id": "8fcdefe3",
   "metadata": {},
   "source": [
    " "
   ]
  },
  {
   "cell_type": "markdown",
   "id": "4b2528cc",
   "metadata": {},
   "source": [
    " "
   ]
  },
  {
   "cell_type": "markdown",
   "id": "8196e857",
   "metadata": {},
   "source": [
    " "
   ]
  },
  {
   "cell_type": "markdown",
   "id": "c7cc4c7a",
   "metadata": {},
   "source": [
    "## Import Stock Data "
   ]
  },
  {
   "cell_type": "markdown",
   "id": "cc95821d",
   "metadata": {},
   "source": [
    "- The data is stock price of **Bank Nifty**.\n",
    "\n",
    "- We have data of **Open, High, Low, Close, SMA20, SMA50, SMA100**.\n",
    "\n",
    "- The data starts from **July 2011** and goes till **January 2022**.\n",
    "\n",
    "- The data is present of every **5 minute** interval starting from **9:15 am** and goes upto **3:25 pm**. \n",
    "\n",
    "- In total there are **75 intervals** in a day."
   ]
  },
  {
   "cell_type": "markdown",
   "id": "352c57b2",
   "metadata": {},
   "source": [
    " "
   ]
  },
  {
   "cell_type": "code",
   "execution_count": 2,
   "id": "930c62ed",
   "metadata": {},
   "outputs": [],
   "source": [
    "nse_data = pd.read_excel(\"Bank Nifty data 5 min.xlsx\", header = 2)"
   ]
  },
  {
   "cell_type": "code",
   "execution_count": 3,
   "id": "1b2cd6ab",
   "metadata": {},
   "outputs": [
    {
     "data": {
      "text/html": [
       "<div>\n",
       "<style scoped>\n",
       "    .dataframe tbody tr th:only-of-type {\n",
       "        vertical-align: middle;\n",
       "    }\n",
       "\n",
       "    .dataframe tbody tr th {\n",
       "        vertical-align: top;\n",
       "    }\n",
       "\n",
       "    .dataframe thead th {\n",
       "        text-align: right;\n",
       "    }\n",
       "</style>\n",
       "<table border=\"1\" class=\"dataframe\">\n",
       "  <thead>\n",
       "    <tr style=\"text-align: right;\">\n",
       "      <th></th>\n",
       "      <th>Date</th>\n",
       "      <th>Time</th>\n",
       "      <th>Open</th>\n",
       "      <th>High</th>\n",
       "      <th>Low</th>\n",
       "      <th>Close</th>\n",
       "      <th>SMA20</th>\n",
       "      <th>SMA50</th>\n",
       "      <th>SMA 100</th>\n",
       "    </tr>\n",
       "  </thead>\n",
       "  <tbody>\n",
       "    <tr>\n",
       "      <th>0</th>\n",
       "      <td>2011-07-29</td>\n",
       "      <td>09:15:00</td>\n",
       "      <td>10820.65</td>\n",
       "      <td>10820.65</td>\n",
       "      <td>10758.40</td>\n",
       "      <td>10774.20</td>\n",
       "      <td>NaN</td>\n",
       "      <td>NaN</td>\n",
       "      <td>NaN</td>\n",
       "    </tr>\n",
       "    <tr>\n",
       "      <th>1</th>\n",
       "      <td>2011-07-29</td>\n",
       "      <td>09:20:00</td>\n",
       "      <td>10774.20</td>\n",
       "      <td>10812.40</td>\n",
       "      <td>10774.20</td>\n",
       "      <td>10807.95</td>\n",
       "      <td>NaN</td>\n",
       "      <td>NaN</td>\n",
       "      <td>NaN</td>\n",
       "    </tr>\n",
       "    <tr>\n",
       "      <th>2</th>\n",
       "      <td>2011-07-29</td>\n",
       "      <td>09:25:00</td>\n",
       "      <td>10807.95</td>\n",
       "      <td>10837.25</td>\n",
       "      <td>10804.35</td>\n",
       "      <td>10837.25</td>\n",
       "      <td>NaN</td>\n",
       "      <td>NaN</td>\n",
       "      <td>NaN</td>\n",
       "    </tr>\n",
       "    <tr>\n",
       "      <th>3</th>\n",
       "      <td>2011-07-29</td>\n",
       "      <td>09:30:00</td>\n",
       "      <td>10836.05</td>\n",
       "      <td>10891.45</td>\n",
       "      <td>10835.60</td>\n",
       "      <td>10884.80</td>\n",
       "      <td>NaN</td>\n",
       "      <td>NaN</td>\n",
       "      <td>NaN</td>\n",
       "    </tr>\n",
       "    <tr>\n",
       "      <th>4</th>\n",
       "      <td>2011-07-29</td>\n",
       "      <td>09:35:00</td>\n",
       "      <td>10884.80</td>\n",
       "      <td>10892.30</td>\n",
       "      <td>10871.85</td>\n",
       "      <td>10891.65</td>\n",
       "      <td>NaN</td>\n",
       "      <td>NaN</td>\n",
       "      <td>NaN</td>\n",
       "    </tr>\n",
       "  </tbody>\n",
       "</table>\n",
       "</div>"
      ],
      "text/plain": [
       "        Date      Time      Open      High      Low      Close  SMA20  SMA50  \\\n",
       "0 2011-07-29  09:15:00  10820.65  10820.65  10758.40  10774.20    NaN    NaN   \n",
       "1 2011-07-29  09:20:00  10774.20  10812.40  10774.20  10807.95    NaN    NaN   \n",
       "2 2011-07-29  09:25:00  10807.95  10837.25  10804.35  10837.25    NaN    NaN   \n",
       "3 2011-07-29  09:30:00  10836.05  10891.45  10835.60  10884.80    NaN    NaN   \n",
       "4 2011-07-29  09:35:00  10884.80  10892.30  10871.85  10891.65    NaN    NaN   \n",
       "\n",
       "   SMA 100  \n",
       "0      NaN  \n",
       "1      NaN  \n",
       "2      NaN  \n",
       "3      NaN  \n",
       "4      NaN  "
      ]
     },
     "execution_count": 3,
     "metadata": {},
     "output_type": "execute_result"
    }
   ],
   "source": [
    "nse_data.head()"
   ]
  },
  {
   "cell_type": "code",
   "execution_count": 4,
   "id": "949747e1",
   "metadata": {},
   "outputs": [
    {
     "data": {
      "text/html": [
       "<div>\n",
       "<style scoped>\n",
       "    .dataframe tbody tr th:only-of-type {\n",
       "        vertical-align: middle;\n",
       "    }\n",
       "\n",
       "    .dataframe tbody tr th {\n",
       "        vertical-align: top;\n",
       "    }\n",
       "\n",
       "    .dataframe thead th {\n",
       "        text-align: right;\n",
       "    }\n",
       "</style>\n",
       "<table border=\"1\" class=\"dataframe\">\n",
       "  <thead>\n",
       "    <tr style=\"text-align: right;\">\n",
       "      <th></th>\n",
       "      <th>Date</th>\n",
       "      <th>Time</th>\n",
       "      <th>Open</th>\n",
       "      <th>High</th>\n",
       "      <th>Low</th>\n",
       "      <th>Close</th>\n",
       "      <th>SMA20</th>\n",
       "      <th>SMA50</th>\n",
       "      <th>SMA 100</th>\n",
       "    </tr>\n",
       "  </thead>\n",
       "  <tbody>\n",
       "    <tr>\n",
       "      <th>0</th>\n",
       "      <td>2011-07-29</td>\n",
       "      <td>09:15:00</td>\n",
       "      <td>10820.65</td>\n",
       "      <td>10820.65</td>\n",
       "      <td>10758.40</td>\n",
       "      <td>10774.20</td>\n",
       "      <td>-1.0</td>\n",
       "      <td>-1.0</td>\n",
       "      <td>-1.0</td>\n",
       "    </tr>\n",
       "    <tr>\n",
       "      <th>1</th>\n",
       "      <td>2011-07-29</td>\n",
       "      <td>09:20:00</td>\n",
       "      <td>10774.20</td>\n",
       "      <td>10812.40</td>\n",
       "      <td>10774.20</td>\n",
       "      <td>10807.95</td>\n",
       "      <td>-1.0</td>\n",
       "      <td>-1.0</td>\n",
       "      <td>-1.0</td>\n",
       "    </tr>\n",
       "    <tr>\n",
       "      <th>2</th>\n",
       "      <td>2011-07-29</td>\n",
       "      <td>09:25:00</td>\n",
       "      <td>10807.95</td>\n",
       "      <td>10837.25</td>\n",
       "      <td>10804.35</td>\n",
       "      <td>10837.25</td>\n",
       "      <td>-1.0</td>\n",
       "      <td>-1.0</td>\n",
       "      <td>-1.0</td>\n",
       "    </tr>\n",
       "    <tr>\n",
       "      <th>3</th>\n",
       "      <td>2011-07-29</td>\n",
       "      <td>09:30:00</td>\n",
       "      <td>10836.05</td>\n",
       "      <td>10891.45</td>\n",
       "      <td>10835.60</td>\n",
       "      <td>10884.80</td>\n",
       "      <td>-1.0</td>\n",
       "      <td>-1.0</td>\n",
       "      <td>-1.0</td>\n",
       "    </tr>\n",
       "    <tr>\n",
       "      <th>4</th>\n",
       "      <td>2011-07-29</td>\n",
       "      <td>09:35:00</td>\n",
       "      <td>10884.80</td>\n",
       "      <td>10892.30</td>\n",
       "      <td>10871.85</td>\n",
       "      <td>10891.65</td>\n",
       "      <td>-1.0</td>\n",
       "      <td>-1.0</td>\n",
       "      <td>-1.0</td>\n",
       "    </tr>\n",
       "  </tbody>\n",
       "</table>\n",
       "</div>"
      ],
      "text/plain": [
       "        Date      Time      Open      High      Low      Close  SMA20  SMA50  \\\n",
       "0 2011-07-29  09:15:00  10820.65  10820.65  10758.40  10774.20   -1.0   -1.0   \n",
       "1 2011-07-29  09:20:00  10774.20  10812.40  10774.20  10807.95   -1.0   -1.0   \n",
       "2 2011-07-29  09:25:00  10807.95  10837.25  10804.35  10837.25   -1.0   -1.0   \n",
       "3 2011-07-29  09:30:00  10836.05  10891.45  10835.60  10884.80   -1.0   -1.0   \n",
       "4 2011-07-29  09:35:00  10884.80  10892.30  10871.85  10891.65   -1.0   -1.0   \n",
       "\n",
       "   SMA 100  \n",
       "0     -1.0  \n",
       "1     -1.0  \n",
       "2     -1.0  \n",
       "3     -1.0  \n",
       "4     -1.0  "
      ]
     },
     "execution_count": 4,
     "metadata": {},
     "output_type": "execute_result"
    }
   ],
   "source": [
    "nse_data = nse_data.fillna(-1)\n",
    "nse_data.head()"
   ]
  },
  {
   "cell_type": "code",
   "execution_count": 5,
   "id": "9858a291",
   "metadata": {},
   "outputs": [
    {
     "data": {
      "text/html": [
       "<div>\n",
       "<style scoped>\n",
       "    .dataframe tbody tr th:only-of-type {\n",
       "        vertical-align: middle;\n",
       "    }\n",
       "\n",
       "    .dataframe tbody tr th {\n",
       "        vertical-align: top;\n",
       "    }\n",
       "\n",
       "    .dataframe thead th {\n",
       "        text-align: right;\n",
       "    }\n",
       "</style>\n",
       "<table border=\"1\" class=\"dataframe\">\n",
       "  <thead>\n",
       "    <tr style=\"text-align: right;\">\n",
       "      <th></th>\n",
       "      <th>Date</th>\n",
       "      <th>Time</th>\n",
       "      <th>Open</th>\n",
       "      <th>High</th>\n",
       "      <th>Low</th>\n",
       "      <th>Close</th>\n",
       "      <th>SMA20</th>\n",
       "      <th>SMA50</th>\n",
       "      <th>SMA 100</th>\n",
       "    </tr>\n",
       "  </thead>\n",
       "  <tbody>\n",
       "    <tr>\n",
       "      <th>192328</th>\n",
       "      <td>2022-01-24</td>\n",
       "      <td>15:05:00</td>\n",
       "      <td>36874.30</td>\n",
       "      <td>36946.70</td>\n",
       "      <td>36813.45</td>\n",
       "      <td>36946.70</td>\n",
       "      <td>36725.6400</td>\n",
       "      <td>36968.661</td>\n",
       "      <td>37242.978218</td>\n",
       "    </tr>\n",
       "    <tr>\n",
       "      <th>192329</th>\n",
       "      <td>2022-01-24</td>\n",
       "      <td>15:10:00</td>\n",
       "      <td>36946.55</td>\n",
       "      <td>37063.65</td>\n",
       "      <td>36929.50</td>\n",
       "      <td>37038.35</td>\n",
       "      <td>36735.3350</td>\n",
       "      <td>36960.372</td>\n",
       "      <td>37237.150000</td>\n",
       "    </tr>\n",
       "    <tr>\n",
       "      <th>192330</th>\n",
       "      <td>2022-01-24</td>\n",
       "      <td>15:15:00</td>\n",
       "      <td>37048.60</td>\n",
       "      <td>37073.95</td>\n",
       "      <td>36990.90</td>\n",
       "      <td>37050.30</td>\n",
       "      <td>36747.5000</td>\n",
       "      <td>36953.933</td>\n",
       "      <td>37231.681188</td>\n",
       "    </tr>\n",
       "    <tr>\n",
       "      <th>192331</th>\n",
       "      <td>2022-01-24</td>\n",
       "      <td>15:20:00</td>\n",
       "      <td>37047.80</td>\n",
       "      <td>37062.85</td>\n",
       "      <td>36894.25</td>\n",
       "      <td>36905.65</td>\n",
       "      <td>36751.2025</td>\n",
       "      <td>36944.372</td>\n",
       "      <td>37223.801980</td>\n",
       "    </tr>\n",
       "    <tr>\n",
       "      <th>192332</th>\n",
       "      <td>2022-01-24</td>\n",
       "      <td>15:25:00</td>\n",
       "      <td>36902.40</td>\n",
       "      <td>36945.05</td>\n",
       "      <td>36808.15</td>\n",
       "      <td>36834.90</td>\n",
       "      <td>36751.3125</td>\n",
       "      <td>36934.724</td>\n",
       "      <td>37215.664356</td>\n",
       "    </tr>\n",
       "  </tbody>\n",
       "</table>\n",
       "</div>"
      ],
      "text/plain": [
       "             Date      Time      Open      High      Low      Close  \\\n",
       "192328 2022-01-24  15:05:00  36874.30  36946.70  36813.45  36946.70   \n",
       "192329 2022-01-24  15:10:00  36946.55  37063.65  36929.50  37038.35   \n",
       "192330 2022-01-24  15:15:00  37048.60  37073.95  36990.90  37050.30   \n",
       "192331 2022-01-24  15:20:00  37047.80  37062.85  36894.25  36905.65   \n",
       "192332 2022-01-24  15:25:00  36902.40  36945.05  36808.15  36834.90   \n",
       "\n",
       "             SMA20      SMA50       SMA 100  \n",
       "192328  36725.6400  36968.661  37242.978218  \n",
       "192329  36735.3350  36960.372  37237.150000  \n",
       "192330  36747.5000  36953.933  37231.681188  \n",
       "192331  36751.2025  36944.372  37223.801980  \n",
       "192332  36751.3125  36934.724  37215.664356  "
      ]
     },
     "execution_count": 5,
     "metadata": {},
     "output_type": "execute_result"
    }
   ],
   "source": [
    "nse_data.tail()"
   ]
  },
  {
   "cell_type": "code",
   "execution_count": 6,
   "id": "fad18d5c",
   "metadata": {},
   "outputs": [
    {
     "data": {
      "text/html": [
       "<div>\n",
       "<style scoped>\n",
       "    .dataframe tbody tr th:only-of-type {\n",
       "        vertical-align: middle;\n",
       "    }\n",
       "\n",
       "    .dataframe tbody tr th {\n",
       "        vertical-align: top;\n",
       "    }\n",
       "\n",
       "    .dataframe thead th {\n",
       "        text-align: right;\n",
       "    }\n",
       "</style>\n",
       "<table border=\"1\" class=\"dataframe\">\n",
       "  <thead>\n",
       "    <tr style=\"text-align: right;\">\n",
       "      <th></th>\n",
       "      <th>Open</th>\n",
       "      <th>High</th>\n",
       "      <th>Low</th>\n",
       "      <th>Close</th>\n",
       "      <th>SMA20</th>\n",
       "      <th>SMA50</th>\n",
       "      <th>SMA 100</th>\n",
       "    </tr>\n",
       "  </thead>\n",
       "  <tbody>\n",
       "    <tr>\n",
       "      <th>count</th>\n",
       "      <td>192333.000000</td>\n",
       "      <td>192333.000000</td>\n",
       "      <td>192333.000000</td>\n",
       "      <td>192333.000000</td>\n",
       "      <td>192333.000000</td>\n",
       "      <td>192333.000000</td>\n",
       "      <td>192333.000000</td>\n",
       "    </tr>\n",
       "    <tr>\n",
       "      <th>mean</th>\n",
       "      <td>20697.310681</td>\n",
       "      <td>20713.934408</td>\n",
       "      <td>20679.911383</td>\n",
       "      <td>20697.032113</td>\n",
       "      <td>20694.677328</td>\n",
       "      <td>20690.957457</td>\n",
       "      <td>20684.575638</td>\n",
       "    </tr>\n",
       "    <tr>\n",
       "      <th>std</th>\n",
       "      <td>8219.052185</td>\n",
       "      <td>8224.819853</td>\n",
       "      <td>8212.829251</td>\n",
       "      <td>8218.886333</td>\n",
       "      <td>8220.118405</td>\n",
       "      <td>8222.057737</td>\n",
       "      <td>8225.221458</td>\n",
       "    </tr>\n",
       "    <tr>\n",
       "      <th>min</th>\n",
       "      <td>7772.600000</td>\n",
       "      <td>7801.950000</td>\n",
       "      <td>7766.350000</td>\n",
       "      <td>7772.600000</td>\n",
       "      <td>-1.000000</td>\n",
       "      <td>-1.000000</td>\n",
       "      <td>-1.000000</td>\n",
       "    </tr>\n",
       "    <tr>\n",
       "      <th>25%</th>\n",
       "      <td>12713.500000</td>\n",
       "      <td>12721.650000</td>\n",
       "      <td>12703.900000</td>\n",
       "      <td>12713.250000</td>\n",
       "      <td>12709.005000</td>\n",
       "      <td>12706.930000</td>\n",
       "      <td>12701.710396</td>\n",
       "    </tr>\n",
       "    <tr>\n",
       "      <th>50%</th>\n",
       "      <td>19198.800000</td>\n",
       "      <td>19214.450000</td>\n",
       "      <td>19180.700000</td>\n",
       "      <td>19197.900000</td>\n",
       "      <td>19198.837500</td>\n",
       "      <td>19194.966000</td>\n",
       "      <td>19185.750990</td>\n",
       "    </tr>\n",
       "    <tr>\n",
       "      <th>75%</th>\n",
       "      <td>26863.350000</td>\n",
       "      <td>26877.750000</td>\n",
       "      <td>26846.200000</td>\n",
       "      <td>26862.650000</td>\n",
       "      <td>26864.802500</td>\n",
       "      <td>26870.704000</td>\n",
       "      <td>26873.287624</td>\n",
       "    </tr>\n",
       "    <tr>\n",
       "      <th>max</th>\n",
       "      <td>41729.900000</td>\n",
       "      <td>41827.650000</td>\n",
       "      <td>41600.550000</td>\n",
       "      <td>41722.200000</td>\n",
       "      <td>41556.880000</td>\n",
       "      <td>41367.579000</td>\n",
       "      <td>41231.838614</td>\n",
       "    </tr>\n",
       "  </tbody>\n",
       "</table>\n",
       "</div>"
      ],
      "text/plain": [
       "                Open           High           Low           Close  \\\n",
       "count  192333.000000  192333.000000  192333.000000  192333.000000   \n",
       "mean    20697.310681   20713.934408   20679.911383   20697.032113   \n",
       "std      8219.052185    8224.819853    8212.829251    8218.886333   \n",
       "min      7772.600000    7801.950000    7766.350000    7772.600000   \n",
       "25%     12713.500000   12721.650000   12703.900000   12713.250000   \n",
       "50%     19198.800000   19214.450000   19180.700000   19197.900000   \n",
       "75%     26863.350000   26877.750000   26846.200000   26862.650000   \n",
       "max     41729.900000   41827.650000   41600.550000   41722.200000   \n",
       "\n",
       "               SMA20          SMA50        SMA 100  \n",
       "count  192333.000000  192333.000000  192333.000000  \n",
       "mean    20694.677328   20690.957457   20684.575638  \n",
       "std      8220.118405    8222.057737    8225.221458  \n",
       "min        -1.000000      -1.000000      -1.000000  \n",
       "25%     12709.005000   12706.930000   12701.710396  \n",
       "50%     19198.837500   19194.966000   19185.750990  \n",
       "75%     26864.802500   26870.704000   26873.287624  \n",
       "max     41556.880000   41367.579000   41231.838614  "
      ]
     },
     "execution_count": 6,
     "metadata": {},
     "output_type": "execute_result"
    }
   ],
   "source": [
    "nse_data.describe()"
   ]
  },
  {
   "cell_type": "code",
   "execution_count": 7,
   "id": "7f51ce5b",
   "metadata": {},
   "outputs": [
    {
     "data": {
      "text/plain": [
       "2011"
      ]
     },
     "execution_count": 7,
     "metadata": {},
     "output_type": "execute_result"
    }
   ],
   "source": [
    "nse_data.iloc[0][\"Date\"].year"
   ]
  },
  {
   "cell_type": "markdown",
   "id": "629ab2f6",
   "metadata": {},
   "source": [
    " "
   ]
  },
  {
   "cell_type": "markdown",
   "id": "3ba80031",
   "metadata": {},
   "source": [
    " "
   ]
  },
  {
   "cell_type": "markdown",
   "id": "951a2936",
   "metadata": {},
   "source": [
    " "
   ]
  },
  {
   "cell_type": "markdown",
   "id": "e20b938e",
   "metadata": {},
   "source": [
    " "
   ]
  },
  {
   "cell_type": "code",
   "execution_count": 8,
   "id": "aa81a566",
   "metadata": {},
   "outputs": [],
   "source": [
    "wb = openpyxl.Workbook()\n",
    "\n",
    "#wb.create_sheet(\"Summary\")\n",
    "#ws = wb[\"Summary\"]\n",
    "ws = wb.active\n",
    "ws.title = \"Summary\"\n",
    "\n",
    "ws.column_dimensions['F'].width = 30\n",
    "ws.column_dimensions['G'].width = 8\n",
    "ws[\"A1\"].value = \"\"\"\n",
    "This excel sheet contains output data gathered from backtesting strategy 1.\n",
    "\"\"\"\n",
    "wb.save('Strategy 1.xlsx')"
   ]
  },
  {
   "cell_type": "markdown",
   "id": "129c3fc0",
   "metadata": {},
   "source": [
    "workbook = xlsxwriter.Workbook('strategy1.xlsx')\n",
    "worksheet = workbook.add_worksheet()\n",
    " \n",
    "content = \"\"\"\n",
    "This excel sheet contains output data gathered from backtesting strategy 1. \n",
    "\"\"\"\n",
    "\n",
    "worksheet.write(0,0, content)\n",
    "worksheet.write(0,0, \"1\")\n",
    "workbook.close()"
   ]
  },
  {
   "cell_type": "markdown",
   "id": "6affb4db",
   "metadata": {},
   "source": [
    "## Find the number of days where all 75 ticks had close value greater than SMA50 "
   ]
  },
  {
   "cell_type": "code",
   "execution_count": 9,
   "id": "175a5a95",
   "metadata": {},
   "outputs": [],
   "source": [
    "def num_days_buy_condition_true():\n",
    "    condition_satisfied = condition_not_satisfied = 0\n",
    "\n",
    "    for index in nse_data.index:\n",
    "        if nse_data[\"Time\"][index] == dt.time(9,15,0):\n",
    "            counter = 0\n",
    "\n",
    "        if nse_data[\"Close\"][index] >= nse_data[\"SMA50\"][index]:\n",
    "            counter += 1\n",
    "        else:\n",
    "            counter = -1\n",
    "\n",
    "        if nse_data[\"Time\"][index] == dt.time(15,25,0):\n",
    "            if counter == 75:\n",
    "                # all 75 ticks satisfied the condition\n",
    "                condition_satisfied += 1\n",
    "            else:\n",
    "                # condition failed\n",
    "                condition_not_satisfied += 1\n",
    "                \n",
    "    return condition_satisfied, condition_not_satisfied"
   ]
  },
  {
   "cell_type": "code",
   "execution_count": 10,
   "id": "c4f82e47",
   "metadata": {},
   "outputs": [
    {
     "name": "stdout",
     "output_type": "stream",
     "text": [
      "Number of days condition was satisfied: 146\n",
      "Number of days condition was not satisfied: 2416\n"
     ]
    }
   ],
   "source": [
    "condition_satisfied, condition_not_satisfied = num_days_buy_condition_true()\n",
    "print(\"Number of days condition was satisfied: \" + str(condition_satisfied))\n",
    "print(\"Number of days condition was not satisfied: \" + str(condition_not_satisfied))\n",
    "\n",
    "\n",
    "#ws[\"a2\"] = \"Number of days condition was satisfied: \" + str(condition_satisfied)\n",
    "#ws[\"a3\"] = \"Number of days condition was not satisfied: \" + str(condition_not_satisfied)\n",
    "#wb.save(\"Strategy 1.xlsx\")"
   ]
  },
  {
   "cell_type": "markdown",
   "id": "9d888ac8",
   "metadata": {},
   "source": [
    " "
   ]
  },
  {
   "cell_type": "markdown",
   "id": "ba4e7375",
   "metadata": {},
   "source": [
    " ### Inference: This tells us that there were 146 days where the stock price of BANK NIFTY was on rise throughout the day.\n",
    " \n",
    " i.e. The price of stock at any point of time on that day was greater than the SMA50 (average of price of the last 50 points)"
   ]
  },
  {
   "cell_type": "markdown",
   "id": "67454339",
   "metadata": {},
   "source": [
    " "
   ]
  },
  {
   "cell_type": "markdown",
   "id": "1c8bf60c",
   "metadata": {},
   "source": [
    " "
   ]
  },
  {
   "cell_type": "markdown",
   "id": "73fc655a",
   "metadata": {},
   "source": [
    " "
   ]
  },
  {
   "cell_type": "markdown",
   "id": "9a7ea433",
   "metadata": {},
   "source": [
    " "
   ]
  },
  {
   "cell_type": "markdown",
   "id": "1a243103",
   "metadata": {},
   "source": [
    "## Find the number of days where all 75 ticks had close value less than SMA50 "
   ]
  },
  {
   "cell_type": "code",
   "execution_count": 11,
   "id": "b79f4939",
   "metadata": {},
   "outputs": [],
   "source": [
    "def num_days_stock_declining():\n",
    "    condition_satisfied = condition_not_satisfied = 0\n",
    "\n",
    "    for index in nse_data.index:\n",
    "        if nse_data[\"Time\"][index] == dt.time(9,15,0):\n",
    "            counter = 0\n",
    "\n",
    "        if nse_data[\"Close\"][index] <= nse_data[\"SMA50\"][index]:\n",
    "            counter += 1\n",
    "        else:\n",
    "            counter = -1\n",
    "\n",
    "        if nse_data[\"Time\"][index] == dt.time(15,25,0):\n",
    "            if counter == 75:\n",
    "                # all 75 ticks satisfied the condition\n",
    "                condition_satisfied += 1\n",
    "            else:\n",
    "                # condition failed\n",
    "                condition_not_satisfied += 1\n",
    "                \n",
    "    return condition_satisfied, condition_not_satisfied"
   ]
  },
  {
   "cell_type": "code",
   "execution_count": 12,
   "id": "2589c4af",
   "metadata": {},
   "outputs": [
    {
     "name": "stdout",
     "output_type": "stream",
     "text": [
      "Number of days condition was satisfied: 105\n",
      "Number of days condition was not satisfied: 2457\n"
     ]
    }
   ],
   "source": [
    "condition_satisfied, condition_not_satisfied = num_days_stock_declining()\n",
    "print(\"Number of days condition was satisfied: \" + str(condition_satisfied))\n",
    "print(\"Number of days condition was not satisfied: \" + str(condition_not_satisfied))"
   ]
  },
  {
   "cell_type": "markdown",
   "id": "36e715b3",
   "metadata": {},
   "source": [
    " ### Inference: This tells us that there were 105 days where the stock price of BANK NIFTY was on fall throughout the day.\n",
    " \n",
    " i.e. The price of stock at any point of time on that day was lower than the SMA50 (average of price of the last 50 points)"
   ]
  },
  {
   "cell_type": "markdown",
   "id": "795f5c7c",
   "metadata": {},
   "source": [
    " "
   ]
  },
  {
   "cell_type": "markdown",
   "id": "d7d88d95",
   "metadata": {},
   "source": [
    " "
   ]
  },
  {
   "cell_type": "markdown",
   "id": "a94cca8d",
   "metadata": {},
   "source": [
    " "
   ]
  },
  {
   "cell_type": "markdown",
   "id": "1ccfd5cf",
   "metadata": {},
   "source": [
    " "
   ]
  },
  {
   "cell_type": "markdown",
   "id": "d01934f4",
   "metadata": {},
   "source": [
    " "
   ]
  },
  {
   "cell_type": "markdown",
   "id": "b7559525",
   "metadata": {},
   "source": [
    "## Buy the Stock at the end of the day when the Price is at rice and Sell when it starts to decline.\n",
    "\n",
    "\n",
    "Stratergy:\n",
    "- Buy at 3:25 pm on the day when all 75 ticks had close value greater than the SMA50.\n",
    "- Sell at the first instant when the close value is less than the SMA50.\n",
    "- Find out the money made or lost with this stratergy over last 10 year.\n",
    "\n"
   ]
  },
  {
   "cell_type": "code",
   "execution_count": 13,
   "id": "36828599",
   "metadata": {},
   "outputs": [],
   "source": [
    "def execute_trade(start_index, end_index):\n",
    "    \"\"\"\n",
    "    End Index in not inclusive.\n",
    "    \n",
    "    \"\"\"\n",
    "    buying_mode = True\n",
    "    profit_made_sma50 = []\n",
    "    trade_number = 1\n",
    "    trades = {}\n",
    "    all_close_values = []\n",
    "    year = nse_data.iloc[start_index][\"Date\"].year\n",
    "\n",
    "    for index in range(start_index, end_index):\n",
    "        if buying_mode == True:    \n",
    "            if nse_data[\"Time\"][index] == dt.time(9,15,0):\n",
    "                counter = 0\n",
    "\n",
    "            if nse_data[\"Close\"][index] >= nse_data[\"SMA50\"][index]:\n",
    "                counter += 1\n",
    "            else:\n",
    "                counter = -1\n",
    "\n",
    "            if nse_data[\"Time\"][index] == dt.time(15,25,0):\n",
    "                if counter == 75:\n",
    "                    # all 75 ticks satisfied the condition\n",
    "                    # trigger buy\n",
    "                    buy_price = nse_data[\"Close\"][index]\n",
    "                    buying_mode = False\n",
    "                    trades[f\"Trade {trade_number} Buy\"] = nse_data.iloc[index:index+1,[0,1,5,7]]\n",
    "                    continue\n",
    "\n",
    "        if buying_mode == False:\n",
    "            #print(nse_data.iloc[index:index+1,[0,1, 5,7]])\n",
    "            if nse_data[\"Close\"][index] < nse_data[\"SMA50\"][index]:\n",
    "                trades[f\"Trade {trade_number} Sell\"] = nse_data.iloc[index:index+1,[0,1,5,7]]\n",
    "                selling_price = nse_data[\"Close\"][index]\n",
    "                profit_made = selling_price - buy_price\n",
    "                trades[f\"Trade {trade_number} Profit\"] = profit_made\n",
    "                trade_number += 1\n",
    "                profit_made_sma50.append(profit_made)\n",
    "                all_close_values.extend([buy_price, selling_price])\n",
    "                buying_mode = True\n",
    "                \n",
    "    return (profit_made_sma50, trades, year, all_close_values)"
   ]
  },
  {
   "cell_type": "markdown",
   "id": "fa748b99",
   "metadata": {},
   "source": [
    " "
   ]
  },
  {
   "cell_type": "markdown",
   "id": "9542d787",
   "metadata": {},
   "source": [
    "## Find Parameter Value:"
   ]
  },
  {
   "cell_type": "code",
   "execution_count": 14,
   "id": "18d386fa",
   "metadata": {},
   "outputs": [],
   "source": [
    "def find_drawUp(profit_list):\n",
    "    max_drawUp = 0\n",
    "    index = 0\n",
    "    while index < len(cumulative_profit):\n",
    "        positive_sum = 0\n",
    "        negative_sum = 0\n",
    "\n",
    "        if cumulative_profit[index] < 0:\n",
    "            while index < len(cumulative_profit) and cumulative_profit[index] < 0:\n",
    "                negative_sum += cumulative_profit[index]\n",
    "                index += 1\n",
    "        if index < len(cumulative_profit) and cumulative_profit[index] > 0:\n",
    "            while index < len(cumulative_profit) and cumulative_profit[index] > 0:\n",
    "                positive_sum += cumulative_profit[index]\n",
    "                index += 1\n",
    "        \n",
    "        if positive_sum > max_drawUp: \n",
    "            max_drawUp = positive_sum\n",
    "            max_du_through = negative_sum\n",
    "            drawUp_percent = round(positive_sum/(-max_du_through)*100,2) if max_du_through != 0 else \"NA\"\n",
    "            # print(max_drawUp, max_du_through, drawUp_percent)\n",
    "    return max_drawUp, drawUp_percent"
   ]
  },
  {
   "cell_type": "markdown",
   "id": "5b2e5caa",
   "metadata": {},
   "source": [
    " "
   ]
  },
  {
   "cell_type": "code",
   "execution_count": 15,
   "id": "075b9663",
   "metadata": {},
   "outputs": [],
   "source": [
    "def find_drawDown(profit_list):\n",
    "    max_drawDown = 0\n",
    "    index = 0\n",
    "    while index < len(cumulative_profit):\n",
    "        positive_sum = 0\n",
    "        negative_sum = 0\n",
    "        \n",
    "        if cumulative_profit[index] > 0:\n",
    "            while index < len(cumulative_profit) and cumulative_profit[index] > 0:\n",
    "                positive_sum += cumulative_profit[index]\n",
    "                index += 1\n",
    "        if index < len(cumulative_profit) and cumulative_profit[index] < 0:\n",
    "            while index < len(cumulative_profit) and cumulative_profit[index] < 0:\n",
    "                negative_sum += cumulative_profit[index]\n",
    "                index += 1\n",
    "                \n",
    "        if negative_sum < max_drawDown: \n",
    "            max_drawDown = negative_sum\n",
    "            max_dd_peak = positive_sum\n",
    "            drawDown_percent = round(negative_sum/max_dd_peak*100,2) if max_dd_peak != 0 else \"NA\"\n",
    "            # print(max_drawDown, max_dd_peak, drawDown_percent)\n",
    "    return max_drawDown, drawDown_percent"
   ]
  },
  {
   "cell_type": "markdown",
   "id": "044b09f4",
   "metadata": {},
   "source": [
    " "
   ]
  },
  {
   "cell_type": "code",
   "execution_count": 16,
   "id": "0d1d9cfa",
   "metadata": {},
   "outputs": [],
   "source": [
    "def save_output_parameters(profit_list, trades, year, all_close_values):\n",
    "    win_trades = list(filter(lambda x: (x > 0), profit_list))\n",
    "    loose_trades = list(filter(lambda x: (x < 0), profit_list))\n",
    "    global cumulative_profit, cumulative_close_value\n",
    "    cumulative_profit.extend(profit_list)\n",
    "    cumulative_close_values.extend(all_close_values)\n",
    "    \n",
    "    try:\n",
    "        ws = wb[str(year)]\n",
    "    except:\n",
    "        wb.create_sheet(str(year))\n",
    "        ws = wb[str(year)]\n",
    "        ws.title = str(year)\n",
    "    ws.column_dimensions['F'].width = 30\n",
    "    ws.column_dimensions['G'].width = 8\n",
    "    \n",
    "    avg_index_val = round(mean(all_close_values),2) if len(all_close_values) != 0 else \"NA\" \n",
    "    ws['f10'], ws['g10'] = \"Averaeg Index Value\", avg_index_val\n",
    "    ws['f11'], ws['g11'] = \"Total Trades\", len(profit_list)\n",
    "    ws['f12'], ws['g12'] = \"Total Win Trades\", len(win_trades)\n",
    "    ws['f13'], ws['g13'] = \"Total Loose Trades\", len(loose_trades)\n",
    "    ws['f14'], ws['g14'] = \"Hit Ratio/ Trade win Ratio\", float(f'{len(win_trades)/len(profit_list)*100:.2f}') if len(profit_list) != 0 else \"NA\"\n",
    "    ws['f15'], ws['g15'] = \"Day win Ratio\", float(f'{len(win_trades)/len(loose_trades)*100:.2f}') if len(loose_trades) != 0 else \"NA\"\n",
    "    ws['f16'], ws['g16'] = \"Gross Profit\", sum(win_trades)\n",
    "    ws['f17'], ws['g17'] = \"Gross Loss\", sum(loose_trades)\n",
    "    ws['f18'], ws['g18'] = \"Net Profit\", sum(win_trades)+sum(loose_trades)\n",
    "    drawUp, drawUp_percentage = find_drawUp(profit_list)\n",
    "    drawDown, drawDown_percentage = find_drawDown(profit_list)\n",
    "    ws['f19'], ws['g19'] = \"Max Draw Up\", drawUp\n",
    "    ws['f20'], ws['g20'] = \"Max Draw Down\", drawDown\n",
    "    ws['f21'], ws['g21'] = \"Draw UP Percentage\", drawUp_percentage\n",
    "    ws['f22'], ws['g22'] = \"Draw Down Percentage\", drawDown_percentage\n",
    "    ws['f23'], ws['g23'] = \"Average Trades\", float(f\"{ws['g18'].value/len(profit_list):.2f}\")  if len(profit_list) != 0 else \"NA\"\n",
    "    ws['f24'], ws['g24'] = \"Average Winning Trade\", float(f'{mean(win_trades):.2f}') if len(win_trades) != 0 else \"NA\"\n",
    "    ws['f25'], ws['g25'] = \"Average Loosing Trade\", float(f'{mean(loose_trades):.2f}') if len(loose_trades) != 0 else \"NA\"\n",
    "    ws['f26'], ws['g26'] = \"Max Return/ Largest Winning Trade\", max(win_trades) if len(win_trades) != 0 else \"NA\"\n",
    "    ws['f27'], ws['g27'] = \"Min Return/ Largest Loosing Trade\", min(loose_trades) if len(loose_trades) != 0 else \"NA\"\n",
    "    ws['f28'], ws['g28'] = \"Risk Reward\", round(ws['g26'].value/(-ws['g27'].value),2) if ws['g26'].value != \"NA\" and ws['g27'].value != \"NA\" else \"NA\"\n",
    "    ws['f29'], ws['g29'] = \"Net Profit %\", round(ws['g18'].value/ws['g10'].value*100,2) if ws['g10'].value != \"NA\" else \"NA\"\n",
    "    ws['f30'], ws['g30'] = \"Return Per Year\", ws['g18'].value\n",
    "    ws['f31'], ws['g31'] = \"Sharpe Ratio\", \"???\"; \n",
    "    wb.save(\"Strategy 1.xlsx\")"
   ]
  },
  {
   "cell_type": "markdown",
   "id": "e40b39bb",
   "metadata": {},
   "source": [
    " "
   ]
  },
  {
   "cell_type": "markdown",
   "id": "3c2ab546",
   "metadata": {},
   "source": [
    " "
   ]
  },
  {
   "cell_type": "markdown",
   "id": "daa5049c",
   "metadata": {},
   "source": [
    " "
   ]
  },
  {
   "cell_type": "markdown",
   "id": "d2fdeab4",
   "metadata": {},
   "source": [
    " "
   ]
  },
  {
   "cell_type": "markdown",
   "id": "cebbb6e3",
   "metadata": {},
   "source": [
    " "
   ]
  },
  {
   "cell_type": "markdown",
   "id": "e3785e46",
   "metadata": {},
   "source": [
    " ## Divide Dataset into Years"
   ]
  },
  {
   "cell_type": "code",
   "execution_count": 17,
   "id": "a68d4d3f",
   "metadata": {},
   "outputs": [],
   "source": [
    "last_index = 0\n",
    "last_year = nse_data.iloc[0][\"Date\"].year\n",
    "\n",
    "year_start_index_number = [last_index]\n",
    "\n",
    "for index in nse_data.index:\n",
    "    if nse_data.iloc[index][\"Date\"].year > last_year:\n",
    "        last_year = nse_data.iloc[index][\"Date\"].year\n",
    "        year_start_index_number.append(index)"
   ]
  },
  {
   "cell_type": "markdown",
   "id": "757c1a75",
   "metadata": {},
   "source": [
    " "
   ]
  },
  {
   "cell_type": "markdown",
   "id": "7ef9a181",
   "metadata": {},
   "source": [
    " "
   ]
  },
  {
   "cell_type": "markdown",
   "id": "de75822e",
   "metadata": {},
   "source": [
    " "
   ]
  },
  {
   "cell_type": "markdown",
   "id": "cfd86f6a",
   "metadata": {},
   "source": [
    " "
   ]
  },
  {
   "cell_type": "markdown",
   "id": "389a9f12",
   "metadata": {},
   "source": [
    " ## Execute Trade Year on Year"
   ]
  },
  {
   "cell_type": "code",
   "execution_count": 18,
   "id": "d8021455",
   "metadata": {},
   "outputs": [],
   "source": [
    "def plot_returns(returns):\n",
    "    x = range(len(returns))\n",
    "    y = [round(x,2) for x in returns]\n",
    "    plt.plot(x, y)\n",
    "    # plt.xlabel('')\n",
    "    plt.ylabel('Returns')\n",
    "    plt.xlabel('Number of Trades')\n",
    "    plt.title('Returns on Trades')\n",
    "    plt.show()"
   ]
  },
  {
   "cell_type": "code",
   "execution_count": 19,
   "id": "b7c58bd3",
   "metadata": {},
   "outputs": [
    {
     "name": "stdout",
     "output_type": "stream",
     "text": [
      "Year: 2011\n"
     ]
    },
    {
     "data": {
      "image/png": "[encoded data removed]",
      "text/plain": [
       "<Figure size 432x288 with 1 Axes>"
      ]
     },
     "metadata": {
      "needs_background": "light"
     },
     "output_type": "display_data"
    },
    {
     "name": "stdout",
     "output_type": "stream",
     "text": [
      "Year: 2012\n"
     ]
    },
    {
     "data": {
      "image/png": "[encoded data removed]",
      "text/plain": [
       "<Figure size 432x288 with 1 Axes>"
      ]
     },
     "metadata": {
      "needs_background": "light"
     },
     "output_type": "display_data"
    },
    {
     "name": "stdout",
     "output_type": "stream",
     "text": [
      "Year: 2013\n"
     ]
    },
    {
     "data": {
      "image/png": "[encoded data removed]",
      "text/plain": [
       "<Figure size 432x288 with 1 Axes>"
      ]
     },
     "metadata": {
      "needs_background": "light"
     },
     "output_type": "display_data"
    },
    {
     "name": "stdout",
     "output_type": "stream",
     "text": [
      "Year: 2014\n"
     ]
    },
    {
     "data": {
      "image/png": "[encoded data removed]",
      "text/plain": [
       "<Figure size 432x288 with 1 Axes>"
      ]
     },
     "metadata": {
      "needs_background": "light"
     },
     "output_type": "display_data"
    },
    {
     "name": "stdout",
     "output_type": "stream",
     "text": [
      "Year: 2015\n"
     ]
    },
    {
     "data": {
      "image/png": "[encoded data removed]",
      "text/plain": [
       "<Figure size 432x288 with 1 Axes>"
      ]
     },
     "metadata": {
      "needs_background": "light"
     },
     "output_type": "display_data"
    },
    {
     "name": "stdout",
     "output_type": "stream",
     "text": [
      "Year: 2016\n"
     ]
    },
    {
     "data": {
      "image/png": "[encoded data removed]",
      "text/plain": [
       "<Figure size 432x288 with 1 Axes>"
      ]
     },
     "metadata": {
      "needs_background": "light"
     },
     "output_type": "display_data"
    },
    {
     "name": "stdout",
     "output_type": "stream",
     "text": [
      "Year: 2017\n"
     ]
    },
    {
     "data": {
      "image/png": "[encoded data removed]",
      "text/plain": [
       "<Figure size 432x288 with 1 Axes>"
      ]
     },
     "metadata": {
      "needs_background": "light"
     },
     "output_type": "display_data"
    },
    {
     "name": "stdout",
     "output_type": "stream",
     "text": [
      "Year: 2018\n"
     ]
    },
    {
     "data": {
      "image/png": "[encoded data removed]",
      "text/plain": [
       "<Figure size 432x288 with 1 Axes>"
      ]
     },
     "metadata": {
      "needs_background": "light"
     },
     "output_type": "display_data"
    },
    {
     "name": "stdout",
     "output_type": "stream",
     "text": [
      "Year: 2019\n"
     ]
    },
    {
     "data": {
      "image/png": "[encoded data removed]",
      "text/plain": [
       "<Figure size 432x288 with 1 Axes>"
      ]
     },
     "metadata": {
      "needs_background": "light"
     },
     "output_type": "display_data"
    },
    {
     "name": "stdout",
     "output_type": "stream",
     "text": [
      "Year: 2020\n"
     ]
    },
    {
     "data": {
      "image/png": "[encoded data removed]",
      "text/plain": [
       "<Figure size 432x288 with 1 Axes>"
      ]
     },
     "metadata": {
      "needs_background": "light"
     },
     "output_type": "display_data"
    },
    {
     "name": "stdout",
     "output_type": "stream",
     "text": [
      "Year: 2021\n"
     ]
    },
    {
     "data": {
      "image/png": "[encoded data removed]",
      "text/plain": [
       "<Figure size 432x288 with 1 Axes>"
      ]
     },
     "metadata": {
      "needs_background": "light"
     },
     "output_type": "display_data"
    },
    {
     "name": "stdout",
     "output_type": "stream",
     "text": [
      "Year: 2022\n"
     ]
    },
    {
     "data": {
      "image/png": "[encoded data removed]",
      "text/plain": [
       "<Figure size 432x288 with 1 Axes>"
      ]
     },
     "metadata": {
      "needs_background": "light"
     },
     "output_type": "display_data"
    }
   ],
   "source": [
    "global cumulative_profit, cumulative_close_values\n",
    "cumulative_profit = []\n",
    "cumulative_close_values = []\n",
    "\n",
    "for i in range(len(year_start_index_number)):\n",
    "    start_index = year_start_index_number[i]\n",
    "    if i < len(year_start_index_number)-1:\n",
    "        end_index = year_start_index_number[i+1]\n",
    "    profit_made, trades, year, all_close_values = execute_trade(start_index, end_index)\n",
    "    save_output_parameters(profit_made, trades, year, all_close_values)\n",
    "    print(f\"Year: {year}\")\n",
    "    plot_returns(profit_made)"
   ]
  },
  {
   "cell_type": "markdown",
   "id": "4d803c1e",
   "metadata": {},
   "source": [
    " "
   ]
  },
  {
   "cell_type": "markdown",
   "id": "5ef3524d",
   "metadata": {},
   "source": [
    " "
   ]
  },
  {
   "cell_type": "markdown",
   "id": "2bf9a698",
   "metadata": {},
   "source": [
    " "
   ]
  },
  {
   "cell_type": "markdown",
   "id": "d6bd421d",
   "metadata": {},
   "source": [
    " "
   ]
  },
  {
   "cell_type": "markdown",
   "id": "87625feb",
   "metadata": {},
   "source": [
    " ## Find Summary of All the Years"
   ]
  },
  {
   "cell_type": "code",
   "execution_count": 20,
   "id": "29e27606",
   "metadata": {},
   "outputs": [
    {
     "data": {
      "text/plain": [
       "129"
      ]
     },
     "execution_count": 20,
     "metadata": {},
     "output_type": "execute_result"
    }
   ],
   "source": [
    "len(cumulative_profit)"
   ]
  },
  {
   "cell_type": "code",
   "execution_count": 21,
   "id": "488119ca",
   "metadata": {},
   "outputs": [],
   "source": [
    "win_trades = list(filter(lambda x: (x > 0), cumulative_profit))\n",
    "loose_trades = list(filter(lambda x: (x < 0), cumulative_profit))\n",
    "\n",
    "ws = wb[\"Summary\"]\n",
    "\n",
    "avg_index_val = round(mean(cumulative_close_values),2)\n",
    "ws['f10'], ws['g10'] = \"Averaeg Index Value\", avg_index_val\n",
    "ws['f11'], ws['g11'] = \"Total Trades\", len(cumulative_profit)\n",
    "ws['f12'], ws['g12'] = \"Total Win Trades\", len(win_trades)\n",
    "ws['f13'], ws['g13'] = \"Total Loose Trades\", len(loose_trades)\n",
    "ws['f14'], ws['g14'] = \"Hit Ratio/ Trade win Ratio\", float(f'{len(win_trades)/len(cumulative_profit)*100:.2f}') if len(cumulative_profit) != 0 else \"NA\"\n",
    "ws['f15'], ws['g15'] = \"Day win Ratio\", float(f'{len(win_trades)/len(loose_trades)*100:.2f}') if len(loose_trades) != 0 else \"NA\"\n",
    "ws['f16'], ws['g16'] = \"Gross Profit\", sum(win_trades)\n",
    "ws['f17'], ws['g17'] = \"Gross Loss\", sum(loose_trades)\n",
    "ws['f18'], ws['g18'] = \"Net Profit\", sum(win_trades)+sum(loose_trades)\n",
    "drawUp, drawUp_percentage = find_drawUp(cumulative_profit)\n",
    "drawDown, drawDown_percentage = find_drawDown(cumulative_profit)\n",
    "ws['f19'], ws['g19'] = \"Max Draw Up\", drawUp\n",
    "ws['f20'], ws['g20'] = \"Max Draw Down\", drawDown\n",
    "ws['f21'], ws['g21'] = \"Draw UP Percentage\", drawUp_percentage\n",
    "ws['f22'], ws['g22'] = \"Draw Down Percentage\", drawDown_percentage\n",
    "ws['f23'], ws['g23'] = \"Average Trades\", float(f\"{ws['g18'].value/len(cumulative_profit):.2f}\") if len(cumulative_profit) != 0 else \"NA\"\n",
    "ws['f24'], ws['g24'] = \"Average Winning Trade\", float(f'{mean(win_trades):.2f}') if len(win_trades) != 0 else \"NA\"\n",
    "ws['f25'], ws['g25'] = \"Average Loosing Trade\", float(f'{mean(loose_trades):.2f}') if len(loose_trades) != 0 else \"NA\"\n",
    "ws['f26'], ws['g26'] = \"Max Return/ Largest Winning Trade\", max(win_trades) if len(win_trades) != 0 else \"NA\"\n",
    "ws['f27'], ws['g27'] = \"Min Return/ Largest Loosing Trade\", min(loose_trades) if len(loose_trades) != 0 else \"NA\"\n",
    "ws['f28'], ws['g28'] = \"Risk Reward\", round(ws['g26'].value/(-ws['g27'].value),2) if ws['g26'].value != \"NA\" and ws['g27'].value != \"NA\" else \"NA\"\n",
    "ws['f29'], ws['g29'] = \"Net Profit %\", round(ws['g18'].value/ws['g10'].value*100,2) if ws['g10'].value != \"NA\" else \"NA\"\n",
    "ws['f30'], ws['g30'] = \"Sharpe Ratio\", \"???\"\n",
    "\n",
    "wb.save(\"Strategy 1.xlsx\")"
   ]
  },
  {
   "cell_type": "code",
   "execution_count": 22,
   "id": "d685f653",
   "metadata": {},
   "outputs": [
    {
     "data": {
      "image/png": "[encoded data removed]",
      "text/plain": [
       "<Figure size 432x288 with 1 Axes>"
      ]
     },
     "metadata": {
      "needs_background": "light"
     },
     "output_type": "display_data"
    }
   ],
   "source": [
    "plot_returns(cumulative_profit)"
   ]
  },
  {
   "cell_type": "markdown",
   "id": "ffde6007",
   "metadata": {},
   "source": [
    " "
   ]
  },
  {
   "cell_type": "markdown",
   "id": "9fad5541",
   "metadata": {},
   "source": [
    " "
   ]
  },
  {
   "cell_type": "markdown",
   "id": "3fa2c247",
   "metadata": {},
   "source": [
    " "
   ]
  },
  {
   "cell_type": "markdown",
   "id": "8959d165",
   "metadata": {},
   "source": [
    " "
   ]
  },
  {
   "cell_type": "markdown",
   "id": "82064bc1",
   "metadata": {},
   "source": [
    " "
   ]
  },
  {
   "cell_type": "markdown",
   "id": "5479ecc8",
   "metadata": {},
   "source": [
    "## Finding Hyperparameter"
   ]
  },
  {
   "cell_type": "code",
   "execution_count": 23,
   "id": "07d64fb6",
   "metadata": {},
   "outputs": [
    {
     "data": {
      "text/html": [
       "<div>\n",
       "<style scoped>\n",
       "    .dataframe tbody tr th:only-of-type {\n",
       "        vertical-align: middle;\n",
       "    }\n",
       "\n",
       "    .dataframe tbody tr th {\n",
       "        vertical-align: top;\n",
       "    }\n",
       "\n",
       "    .dataframe thead th {\n",
       "        text-align: right;\n",
       "    }\n",
       "</style>\n",
       "<table border=\"1\" class=\"dataframe\">\n",
       "  <thead>\n",
       "    <tr style=\"text-align: right;\">\n",
       "      <th></th>\n",
       "      <th>Date</th>\n",
       "      <th>Time</th>\n",
       "      <th>Open</th>\n",
       "      <th>High</th>\n",
       "      <th>Low</th>\n",
       "      <th>Close</th>\n",
       "      <th>SMA20</th>\n",
       "      <th>SMA50</th>\n",
       "      <th>SMA 100</th>\n",
       "    </tr>\n",
       "  </thead>\n",
       "  <tbody>\n",
       "    <tr>\n",
       "      <th>0</th>\n",
       "      <td>2011-07-29</td>\n",
       "      <td>09:15:00</td>\n",
       "      <td>10820.65</td>\n",
       "      <td>10820.65</td>\n",
       "      <td>10758.40</td>\n",
       "      <td>10774.20</td>\n",
       "      <td>-1.0</td>\n",
       "      <td>-1.0</td>\n",
       "      <td>-1.0</td>\n",
       "    </tr>\n",
       "    <tr>\n",
       "      <th>1</th>\n",
       "      <td>2011-07-29</td>\n",
       "      <td>09:20:00</td>\n",
       "      <td>10774.20</td>\n",
       "      <td>10812.40</td>\n",
       "      <td>10774.20</td>\n",
       "      <td>10807.95</td>\n",
       "      <td>-1.0</td>\n",
       "      <td>-1.0</td>\n",
       "      <td>-1.0</td>\n",
       "    </tr>\n",
       "    <tr>\n",
       "      <th>2</th>\n",
       "      <td>2011-07-29</td>\n",
       "      <td>09:25:00</td>\n",
       "      <td>10807.95</td>\n",
       "      <td>10837.25</td>\n",
       "      <td>10804.35</td>\n",
       "      <td>10837.25</td>\n",
       "      <td>-1.0</td>\n",
       "      <td>-1.0</td>\n",
       "      <td>-1.0</td>\n",
       "    </tr>\n",
       "    <tr>\n",
       "      <th>3</th>\n",
       "      <td>2011-07-29</td>\n",
       "      <td>09:30:00</td>\n",
       "      <td>10836.05</td>\n",
       "      <td>10891.45</td>\n",
       "      <td>10835.60</td>\n",
       "      <td>10884.80</td>\n",
       "      <td>-1.0</td>\n",
       "      <td>-1.0</td>\n",
       "      <td>-1.0</td>\n",
       "    </tr>\n",
       "    <tr>\n",
       "      <th>4</th>\n",
       "      <td>2011-07-29</td>\n",
       "      <td>09:35:00</td>\n",
       "      <td>10884.80</td>\n",
       "      <td>10892.30</td>\n",
       "      <td>10871.85</td>\n",
       "      <td>10891.65</td>\n",
       "      <td>-1.0</td>\n",
       "      <td>-1.0</td>\n",
       "      <td>-1.0</td>\n",
       "    </tr>\n",
       "  </tbody>\n",
       "</table>\n",
       "</div>"
      ],
      "text/plain": [
       "        Date      Time      Open      High      Low      Close  SMA20  SMA50  \\\n",
       "0 2011-07-29  09:15:00  10820.65  10820.65  10758.40  10774.20   -1.0   -1.0   \n",
       "1 2011-07-29  09:20:00  10774.20  10812.40  10774.20  10807.95   -1.0   -1.0   \n",
       "2 2011-07-29  09:25:00  10807.95  10837.25  10804.35  10837.25   -1.0   -1.0   \n",
       "3 2011-07-29  09:30:00  10836.05  10891.45  10835.60  10884.80   -1.0   -1.0   \n",
       "4 2011-07-29  09:35:00  10884.80  10892.30  10871.85  10891.65   -1.0   -1.0   \n",
       "\n",
       "   SMA 100  \n",
       "0     -1.0  \n",
       "1     -1.0  \n",
       "2     -1.0  \n",
       "3     -1.0  \n",
       "4     -1.0  "
      ]
     },
     "execution_count": 23,
     "metadata": {},
     "output_type": "execute_result"
    }
   ],
   "source": [
    "nse_data.head()"
   ]
  },
  {
   "cell_type": "code",
   "execution_count": 24,
   "id": "cbb28cbf",
   "metadata": {},
   "outputs": [],
   "source": [
    "nse_data[\"SMA20\"] = nse_data[\"Close\"].rolling(window=20).mean()\n",
    "nse_data[\"SMA21\"] = nse_data[\"Close\"].rolling(window=21).mean()\n",
    "nse_data[\"SMA34\"] = nse_data[\"Close\"].rolling(window=34).mean()"
   ]
  },
  {
   "cell_type": "code",
   "execution_count": 25,
   "id": "286333ea",
   "metadata": {},
   "outputs": [
    {
     "data": {
      "text/html": [
       "<div>\n",
       "<style scoped>\n",
       "    .dataframe tbody tr th:only-of-type {\n",
       "        vertical-align: middle;\n",
       "    }\n",
       "\n",
       "    .dataframe tbody tr th {\n",
       "        vertical-align: top;\n",
       "    }\n",
       "\n",
       "    .dataframe thead th {\n",
       "        text-align: right;\n",
       "    }\n",
       "</style>\n",
       "<table border=\"1\" class=\"dataframe\">\n",
       "  <thead>\n",
       "    <tr style=\"text-align: right;\">\n",
       "      <th></th>\n",
       "      <th>Date</th>\n",
       "      <th>Time</th>\n",
       "      <th>Open</th>\n",
       "      <th>High</th>\n",
       "      <th>Low</th>\n",
       "      <th>Close</th>\n",
       "      <th>SMA20</th>\n",
       "      <th>SMA50</th>\n",
       "      <th>SMA 100</th>\n",
       "      <th>SMA21</th>\n",
       "      <th>SMA34</th>\n",
       "    </tr>\n",
       "  </thead>\n",
       "  <tbody>\n",
       "    <tr>\n",
       "      <th>192328</th>\n",
       "      <td>2022-01-24</td>\n",
       "      <td>15:05:00</td>\n",
       "      <td>36874.30</td>\n",
       "      <td>36946.70</td>\n",
       "      <td>36813.45</td>\n",
       "      <td>36946.70</td>\n",
       "      <td>36725.6400</td>\n",
       "      <td>36968.661</td>\n",
       "      <td>37242.978218</td>\n",
       "      <td>36729.009524</td>\n",
       "      <td>36827.233824</td>\n",
       "    </tr>\n",
       "    <tr>\n",
       "      <th>192329</th>\n",
       "      <td>2022-01-24</td>\n",
       "      <td>15:10:00</td>\n",
       "      <td>36946.55</td>\n",
       "      <td>37063.65</td>\n",
       "      <td>36929.50</td>\n",
       "      <td>37038.35</td>\n",
       "      <td>36735.3350</td>\n",
       "      <td>36960.372</td>\n",
       "      <td>37237.150000</td>\n",
       "      <td>36740.530952</td>\n",
       "      <td>36829.801471</td>\n",
       "    </tr>\n",
       "    <tr>\n",
       "      <th>192330</th>\n",
       "      <td>2022-01-24</td>\n",
       "      <td>15:15:00</td>\n",
       "      <td>37048.60</td>\n",
       "      <td>37073.95</td>\n",
       "      <td>36990.90</td>\n",
       "      <td>37050.30</td>\n",
       "      <td>36747.5000</td>\n",
       "      <td>36953.933</td>\n",
       "      <td>37231.681188</td>\n",
       "      <td>36750.333333</td>\n",
       "      <td>36831.750000</td>\n",
       "    </tr>\n",
       "    <tr>\n",
       "      <th>192331</th>\n",
       "      <td>2022-01-24</td>\n",
       "      <td>15:20:00</td>\n",
       "      <td>37047.80</td>\n",
       "      <td>37062.85</td>\n",
       "      <td>36894.25</td>\n",
       "      <td>36905.65</td>\n",
       "      <td>36751.2025</td>\n",
       "      <td>36944.372</td>\n",
       "      <td>37223.801980</td>\n",
       "      <td>36755.030952</td>\n",
       "      <td>36827.005882</td>\n",
       "    </tr>\n",
       "    <tr>\n",
       "      <th>192332</th>\n",
       "      <td>2022-01-24</td>\n",
       "      <td>15:25:00</td>\n",
       "      <td>36902.40</td>\n",
       "      <td>36945.05</td>\n",
       "      <td>36808.15</td>\n",
       "      <td>36834.90</td>\n",
       "      <td>36751.3125</td>\n",
       "      <td>36934.724</td>\n",
       "      <td>37215.664356</td>\n",
       "      <td>36755.188095</td>\n",
       "      <td>36819.972059</td>\n",
       "    </tr>\n",
       "  </tbody>\n",
       "</table>\n",
       "</div>"
      ],
      "text/plain": [
       "             Date      Time      Open      High      Low      Close  \\\n",
       "192328 2022-01-24  15:05:00  36874.30  36946.70  36813.45  36946.70   \n",
       "192329 2022-01-24  15:10:00  36946.55  37063.65  36929.50  37038.35   \n",
       "192330 2022-01-24  15:15:00  37048.60  37073.95  36990.90  37050.30   \n",
       "192331 2022-01-24  15:20:00  37047.80  37062.85  36894.25  36905.65   \n",
       "192332 2022-01-24  15:25:00  36902.40  36945.05  36808.15  36834.90   \n",
       "\n",
       "             SMA20      SMA50       SMA 100         SMA21         SMA34  \n",
       "192328  36725.6400  36968.661  37242.978218  36729.009524  36827.233824  \n",
       "192329  36735.3350  36960.372  37237.150000  36740.530952  36829.801471  \n",
       "192330  36747.5000  36953.933  37231.681188  36750.333333  36831.750000  \n",
       "192331  36751.2025  36944.372  37223.801980  36755.030952  36827.005882  \n",
       "192332  36751.3125  36934.724  37215.664356  36755.188095  36819.972059  "
      ]
     },
     "execution_count": 25,
     "metadata": {},
     "output_type": "execute_result"
    }
   ],
   "source": [
    "nse_data = nse_data.fillna(-1)\n",
    "nse_data.tail()"
   ]
  },
  {
   "cell_type": "code",
   "execution_count": null,
   "id": "793ee11e",
   "metadata": {},
   "outputs": [],
   "source": []
  },
  {
   "cell_type": "code",
   "execution_count": 26,
   "id": "b637e244",
   "metadata": {},
   "outputs": [],
   "source": [
    "def execute_trade_for_ticks(tick):\n",
    "    \"\"\"\n",
    "    End Index in not inclusive.\n",
    "    \n",
    "    \"\"\"\n",
    "    buying_mode = True\n",
    "    profit_made_sma50 = []\n",
    "    #trade_number = 1\n",
    "    #trades = {}\n",
    "    #all_close_values = []\n",
    "    #year = nse_data.iloc[start_index][\"Date\"].year\n",
    "    counter = 0\n",
    "    \n",
    "    for index in range(len(nse_data)):\n",
    "        if buying_mode == True:  \n",
    "            if counter == None:\n",
    "                if nse_data[\"Time\"][index] == dt.time(9,15,0):\n",
    "                    counter = 0\n",
    "                else:\n",
    "                    continue\n",
    "            if nse_data[\"Time\"][index] == dt.time(9,15,0):\n",
    "                counter = 0\n",
    "\n",
    "            if nse_data[\"Close\"][index] >= nse_data[\"SMA50\"][index]:\n",
    "                counter += 1\n",
    "            else:\n",
    "                counter = None\n",
    "\n",
    "            #if nse_data[\"Time\"][index] == dt.time(15,25,0):\n",
    "            if counter == tick:\n",
    "                # all ticks satisfied the condition\n",
    "                # trigger buy\n",
    "                buy_price = nse_data[\"Close\"][index]\n",
    "                buying_mode = False\n",
    "                #trades[f\"Trade {trade_number} Buy\"] = nse_data.iloc[index:index+1,[0,1,5,7]]\n",
    "                continue\n",
    "\n",
    "        if buying_mode == False:\n",
    "            #print(nse_data.iloc[index:index+1,[0,1, 5,7]])\n",
    "            if nse_data[\"Close\"][index] < nse_data[\"SMA50\"][index]:\n",
    "                #trades[f\"Trade {trade_number} Sell\"] = nse_data.iloc[index:index+1,[0,1,5,7]]\n",
    "                selling_price = nse_data[\"Close\"][index]\n",
    "                profit_made = selling_price - buy_price\n",
    "                #trades[f\"Trade {trade_number} Profit\"] = profit_made\n",
    "                #trade_number += 1\n",
    "                profit_made_sma50.append(profit_made)\n",
    "                #all_close_values.extend([buy_price, selling_price])\n",
    "                buying_mode = True\n",
    "                \n",
    "    #return (profit_made_sma50, trades, year, all_close_values)\n",
    "    return sum(profit_made_sma50)"
   ]
  },
  {
   "cell_type": "code",
   "execution_count": 39,
   "id": "2f368abb",
   "metadata": {},
   "outputs": [
    {
     "name": "stdout",
     "output_type": "stream",
     "text": [
      "Completed Tick 65\n",
      "Completed Tick 66\n",
      "Completed Tick 67\n",
      "Completed Tick 68\n",
      "Completed Tick 69\n",
      "Completed Tick 70\n",
      "Completed Tick 71\n",
      "Completed Tick 72\n",
      "Completed Tick 73\n",
      "Completed Tick 74\n",
      "Completed Tick 75\n"
     ]
    }
   ],
   "source": [
    "ticks_hyperparameter = {}\n",
    "\n",
    "for tick in range(65,76):\n",
    "    ticks_hyperparameter[tick] = round(execute_trade_for_ticks(tick),2)\n",
    "    print(f\"Completed Tick {tick}\")"
   ]
  },
  {
   "cell_type": "code",
   "execution_count": 40,
   "id": "7ce64cba",
   "metadata": {},
   "outputs": [
    {
     "data": {
      "text/plain": [
       "{65: 12567.5,\n",
       " 66: 12514.2,\n",
       " 67: 12423.85,\n",
       " 68: 12347.65,\n",
       " 69: 12498.95,\n",
       " 70: 11813.1,\n",
       " 71: 11917.5,\n",
       " 72: 11709.05,\n",
       " 73: 11626.15,\n",
       " 74: 12120.9,\n",
       " 75: 12027.1}"
      ]
     },
     "execution_count": 40,
     "metadata": {},
     "output_type": "execute_result"
    }
   ],
   "source": [
    "ticks_hyperparameter"
   ]
  },
  {
   "cell_type": "code",
   "execution_count": 29,
   "id": "a8826251",
   "metadata": {},
   "outputs": [],
   "source": [
    "def plot_returns(returns):\n",
    "    x = range(65,76)\n",
    "    y = returns\n",
    "    plt.plot(x, y)\n",
    "    # plt.xlabel('')\n",
    "    plt.ylabel('Returns')\n",
    "    plt.ylabel('Number of Ticks')\n",
    "    plt.title('Finding Hyperparameter for Ticks')\n",
    "    plt.show()"
   ]
  },
  {
   "cell_type": "code",
   "execution_count": 30,
   "id": "dcca2fd0",
   "metadata": {},
   "outputs": [
    {
     "data": {
      "image/png": "[encoded data removed]",
      "text/plain": [
       "<Figure size 432x288 with 1 Axes>"
      ]
     },
     "metadata": {
      "needs_background": "light"
     },
     "output_type": "display_data"
    }
   ],
   "source": [
    "plot_returns(ticks_hyperparameter.values())"
   ]
  },
  {
   "cell_type": "code",
   "execution_count": 31,
   "id": "8ef82f2e",
   "metadata": {},
   "outputs": [
    {
     "name": "stdout",
     "output_type": "stream",
     "text": [
      "65\n"
     ]
    }
   ],
   "source": [
    "key, max_value = -1, -1\n",
    "for key, value in ticks_hyperparameter.items():\n",
    "    if value > max_value:\n",
    "        max_value = value\n",
    "        tick = key\n",
    "print(tick)"
   ]
  },
  {
   "cell_type": "code",
   "execution_count": 32,
   "id": "b6f4eb4c",
   "metadata": {},
   "outputs": [],
   "source": [
    "def execute_trade_for_sma(tick,sma_value):\n",
    "    \"\"\"\n",
    "    End Index in not inclusive.\n",
    "    \n",
    "    \"\"\"\n",
    "    buying_mode = True\n",
    "    profit_made_sma50 = []\n",
    "    sma = \"SMA\" + str(sma_value)\n",
    "    counter = 0\n",
    "    \n",
    "    for index in range(len(nse_data)):\n",
    "        if buying_mode == True:  \n",
    "            if counter == None:\n",
    "                if nse_data[\"Time\"][index] == dt.time(9,15,0):\n",
    "                    counter = 0\n",
    "                else:\n",
    "                    continue\n",
    "            if nse_data[\"Time\"][index] == dt.time(9,15,0):\n",
    "                counter = 0\n",
    "\n",
    "            if nse_data[\"Close\"][index] >= nse_data[sma][index]:\n",
    "                counter += 1\n",
    "            else:\n",
    "                counter = None\n",
    "\n",
    "            #if nse_data[\"Time\"][index] == dt.time(15,25,0):\n",
    "            if counter == tick:\n",
    "                # all ticks satisfied the condition\n",
    "                # trigger buy\n",
    "                buy_price = nse_data[\"Close\"][index]\n",
    "                buying_mode = False\n",
    "                #trades[f\"Trade {trade_number} Buy\"] = nse_data.iloc[index:index+1,[0,1,5,7]]\n",
    "                continue\n",
    "\n",
    "        if buying_mode == False:\n",
    "            #print(nse_data.iloc[index:index+1,[0,1, 5,7]])\n",
    "            if nse_data[\"Close\"][index] < nse_data[sma][index]:\n",
    "                #trades[f\"Trade {trade_number} Sell\"] = nse_data.iloc[index:index+1,[0,1,5,7]]\n",
    "                selling_price = nse_data[\"Close\"][index]\n",
    "                profit_made = selling_price - buy_price\n",
    "                #trades[f\"Trade {trade_number} Profit\"] = profit_made\n",
    "                #trade_number += 1\n",
    "                profit_made_sma50.append(profit_made)\n",
    "                #all_close_values.extend([buy_price, selling_price])\n",
    "                buying_mode = True\n",
    "                \n",
    "    #return (profit_made_sma50, trades, year, all_close_values)\n",
    "    return sum(profit_made_sma50)"
   ]
  },
  {
   "cell_type": "code",
   "execution_count": 41,
   "id": "9095cee7",
   "metadata": {},
   "outputs": [
    {
     "name": "stdout",
     "output_type": "stream",
     "text": [
      "Completed for 65, SMA34: 3719.45\n",
      "Completed for 69, SMA34: 3237.8\n",
      "Completed for 65, SMA50: 12567.5\n",
      "Completed for 69, SMA50: 12498.95\n",
      "Completed for 75, SMA50: 12027.1\n"
     ]
    }
   ],
   "source": [
    "sma_hyperparameter = {}\n",
    "tick_and_sma = [(65,34),(69,34),(65,50),(69,50),(75,50)]\n",
    "\n",
    "for tick_sma_pair in tick_and_sma:\n",
    "    tick, sma_value = tick_sma_pair[0], tick_sma_pair[1]\n",
    "    sma_hyperparameter[(tick,sma_value)] = execute_trade_for_sma(tick, sma_value)\n",
    "    print(f\"Completed for {tick}, SMA{sma_value}: {round(sma_hyperparameter[(tick,sma_value)],2)}\")"
   ]
  },
  {
   "cell_type": "code",
   "execution_count": 43,
   "id": "86f4b93d",
   "metadata": {},
   "outputs": [
    {
     "name": "stdout",
     "output_type": "stream",
     "text": [
      "(65, 50)\n"
     ]
    }
   ],
   "source": [
    "key, max_value = -1, -1\n",
    "for key, value in sma_hyperparameter.items():\n",
    "    if value > max_value:\n",
    "        max_value = value\n",
    "        sma = key\n",
    "print(sma)"
   ]
  },
  {
   "cell_type": "code",
   "execution_count": null,
   "id": "ddff5a95",
   "metadata": {},
   "outputs": [],
   "source": []
  },
  {
   "cell_type": "code",
   "execution_count": 50,
   "id": "7d9758c5",
   "metadata": {},
   "outputs": [],
   "source": [
    "def plot_sma(sma_hp):\n",
    "    x = range(1,6)\n",
    "    y = sma_hp.values()\n",
    "    plt.plot(x, y)\n",
    "    # plt.xlabel('')\n",
    "    plt.ylabel('Returns')\n",
    "    plt.xlabel('Tick SMA Value')\n",
    "    plt.title('Finding Hyperparameter for SMA')\n",
    "    plt.show()"
   ]
  },
  {
   "cell_type": "code",
   "execution_count": 51,
   "id": "6006efa0",
   "metadata": {},
   "outputs": [
    {
     "data": {
      "image/png": "[encoded data removed]",
      "text/plain": [
       "<Figure size 432x288 with 1 Axes>"
      ]
     },
     "metadata": {
      "needs_background": "light"
     },
     "output_type": "display_data"
    }
   ],
   "source": [
    "plot_sma(sma_hyperparameter)"
   ]
  },
  {
   "cell_type": "code",
   "execution_count": null,
   "id": "dc045fc4",
   "metadata": {},
   "outputs": [],
   "source": []
  },
  {
   "cell_type": "code",
   "execution_count": null,
   "id": "16ea367f",
   "metadata": {},
   "outputs": [],
   "source": []
  }
 ],
 "metadata": {
  "kernelspec": {
   "display_name": "Python 3 (ipykernel)",
   "language": "python",
   "name": "python3"
  },
  "language_info": {
   "codemirror_mode": {
    "name": "ipython",
    "version": 3
   },
   "file_extension": ".py",
   "mimetype": "text/x-python",
   "name": "python",
   "nbconvert_exporter": "python",
   "pygments_lexer": "ipython3",
   "version": "3.10.1"
  }
 },
 "nbformat": 4,
 "nbformat_minor": 5
}
