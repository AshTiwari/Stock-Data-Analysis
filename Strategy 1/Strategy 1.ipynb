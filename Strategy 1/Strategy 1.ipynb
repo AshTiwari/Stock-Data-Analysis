{
 "cells": [
  {
   "cell_type": "markdown",
   "id": "c886676b",
   "metadata": {},
   "source": [
    "# Stock Analysis and Back Testing a Stratergy"
   ]
  },
  {
   "cell_type": "markdown",
   "id": "3550bcee",
   "metadata": {},
   "source": [
    "**Hypothesis:**\n",
    "\n",
    "If all 75 ticks in a day is above 50 SMA, Trigger buy @ 3:25 pm. Stop Loss at first instance of close below 50 sma."
   ]
  },
  {
   "cell_type": "markdown",
   "id": "e760010f",
   "metadata": {},
   "source": [
    "**Strategy:**\n",
    "\n",
    "If the stock price is on rise throughout the day, trigger buy at the end of the day. Hold on to the stock till it is in increasing phase. Exit the stock when it shows the sign of decline.\n",
    "\n",
    "Not to exit at first decline but instead if it goes lower than the average of last 50 instances."
   ]
  },
  {
   "cell_type": "markdown",
   "id": "5fa6dcde",
   "metadata": {},
   "source": [
    " "
   ]
  },
  {
   "cell_type": "markdown",
   "id": "d74cecd1",
   "metadata": {},
   "source": [
    " "
   ]
  },
  {
   "cell_type": "markdown",
   "id": "787961f0",
   "metadata": {},
   "source": [
    " "
   ]
  },
  {
   "cell_type": "markdown",
   "id": "f23dafd4",
   "metadata": {},
   "source": [
    "## Import Liabraries "
   ]
  },
  {
   "cell_type": "code",
   "execution_count": 1,
   "id": "d6d6833a",
   "metadata": {},
   "outputs": [],
   "source": [
    "import pandas as pd\n",
    "import numpy as np\n",
    "import datetime as dt\n",
    "from pandas_datareader import data as pdr\n",
    "import xlsxwriter\n",
    "import openpyxl\n",
    "from statistics import mean"
   ]
  },
  {
   "cell_type": "markdown",
   "id": "3e1996dd",
   "metadata": {},
   "source": [
    " "
   ]
  },
  {
   "cell_type": "markdown",
   "id": "0f3628d3",
   "metadata": {},
   "source": [
    " "
   ]
  },
  {
   "cell_type": "markdown",
   "id": "ce595345",
   "metadata": {},
   "source": [
    " "
   ]
  },
  {
   "cell_type": "markdown",
   "id": "8609630e",
   "metadata": {},
   "source": [
    " "
   ]
  },
  {
   "cell_type": "markdown",
   "id": "3cdec0bb",
   "metadata": {},
   "source": [
    "## Import Stock Data "
   ]
  },
  {
   "cell_type": "markdown",
   "id": "8ef79a74",
   "metadata": {},
   "source": [
    "- The data is stock price of **Bank Nifty**.\n",
    "\n",
    "- We have data of **Open, High, Low, Close, SMA20, SMA50, SMA100**.\n",
    "\n",
    "- The data starts from **July 2011** and goes till **January 2022**.\n",
    "\n",
    "- The data is present of every **5 minute** interval starting from **9:15 am** and goes upto **3:25 pm**. \n",
    "\n",
    "- In total there are **75 intervals** in a day."
   ]
  },
  {
   "cell_type": "markdown",
   "id": "cc0022db",
   "metadata": {},
   "source": [
    " "
   ]
  },
  {
   "cell_type": "code",
   "execution_count": 2,
   "id": "61e3f746",
   "metadata": {},
   "outputs": [],
   "source": [
    "nse_data = pd.read_excel(\"Bank Nifty data 5 min.xlsx\", header = 2)"
   ]
  },
  {
   "cell_type": "code",
   "execution_count": 3,
   "id": "0cfda6dd",
   "metadata": {},
   "outputs": [
    {
     "data": {
      "text/html": [
       "<div>\n",
       "<style scoped>\n",
       "    .dataframe tbody tr th:only-of-type {\n",
       "        vertical-align: middle;\n",
       "    }\n",
       "\n",
       "    .dataframe tbody tr th {\n",
       "        vertical-align: top;\n",
       "    }\n",
       "\n",
       "    .dataframe thead th {\n",
       "        text-align: right;\n",
       "    }\n",
       "</style>\n",
       "<table border=\"1\" class=\"dataframe\">\n",
       "  <thead>\n",
       "    <tr style=\"text-align: right;\">\n",
       "      <th></th>\n",
       "      <th>Date</th>\n",
       "      <th>Time</th>\n",
       "      <th>Open</th>\n",
       "      <th>High</th>\n",
       "      <th>Low</th>\n",
       "      <th>Close</th>\n",
       "      <th>SMA20</th>\n",
       "      <th>SMA50</th>\n",
       "      <th>SMA 100</th>\n",
       "    </tr>\n",
       "  </thead>\n",
       "  <tbody>\n",
       "    <tr>\n",
       "      <th>0</th>\n",
       "      <td>2011-07-29</td>\n",
       "      <td>09:15:00</td>\n",
       "      <td>10820.65</td>\n",
       "      <td>10820.65</td>\n",
       "      <td>10758.40</td>\n",
       "      <td>10774.20</td>\n",
       "      <td>NaN</td>\n",
       "      <td>NaN</td>\n",
       "      <td>NaN</td>\n",
       "    </tr>\n",
       "    <tr>\n",
       "      <th>1</th>\n",
       "      <td>2011-07-29</td>\n",
       "      <td>09:20:00</td>\n",
       "      <td>10774.20</td>\n",
       "      <td>10812.40</td>\n",
       "      <td>10774.20</td>\n",
       "      <td>10807.95</td>\n",
       "      <td>NaN</td>\n",
       "      <td>NaN</td>\n",
       "      <td>NaN</td>\n",
       "    </tr>\n",
       "    <tr>\n",
       "      <th>2</th>\n",
       "      <td>2011-07-29</td>\n",
       "      <td>09:25:00</td>\n",
       "      <td>10807.95</td>\n",
       "      <td>10837.25</td>\n",
       "      <td>10804.35</td>\n",
       "      <td>10837.25</td>\n",
       "      <td>NaN</td>\n",
       "      <td>NaN</td>\n",
       "      <td>NaN</td>\n",
       "    </tr>\n",
       "    <tr>\n",
       "      <th>3</th>\n",
       "      <td>2011-07-29</td>\n",
       "      <td>09:30:00</td>\n",
       "      <td>10836.05</td>\n",
       "      <td>10891.45</td>\n",
       "      <td>10835.60</td>\n",
       "      <td>10884.80</td>\n",
       "      <td>NaN</td>\n",
       "      <td>NaN</td>\n",
       "      <td>NaN</td>\n",
       "    </tr>\n",
       "    <tr>\n",
       "      <th>4</th>\n",
       "      <td>2011-07-29</td>\n",
       "      <td>09:35:00</td>\n",
       "      <td>10884.80</td>\n",
       "      <td>10892.30</td>\n",
       "      <td>10871.85</td>\n",
       "      <td>10891.65</td>\n",
       "      <td>NaN</td>\n",
       "      <td>NaN</td>\n",
       "      <td>NaN</td>\n",
       "    </tr>\n",
       "  </tbody>\n",
       "</table>\n",
       "</div>"
      ],
      "text/plain": [
       "        Date      Time      Open      High      Low      Close  SMA20  SMA50  \\\n",
       "0 2011-07-29  09:15:00  10820.65  10820.65  10758.40  10774.20    NaN    NaN   \n",
       "1 2011-07-29  09:20:00  10774.20  10812.40  10774.20  10807.95    NaN    NaN   \n",
       "2 2011-07-29  09:25:00  10807.95  10837.25  10804.35  10837.25    NaN    NaN   \n",
       "3 2011-07-29  09:30:00  10836.05  10891.45  10835.60  10884.80    NaN    NaN   \n",
       "4 2011-07-29  09:35:00  10884.80  10892.30  10871.85  10891.65    NaN    NaN   \n",
       "\n",
       "   SMA 100  \n",
       "0      NaN  \n",
       "1      NaN  \n",
       "2      NaN  \n",
       "3      NaN  \n",
       "4      NaN  "
      ]
     },
     "execution_count": 3,
     "metadata": {},
     "output_type": "execute_result"
    }
   ],
   "source": [
    "nse_data.head()"
   ]
  },
  {
   "cell_type": "code",
   "execution_count": 4,
   "id": "1a9b609d",
   "metadata": {},
   "outputs": [
    {
     "data": {
      "text/html": [
       "<div>\n",
       "<style scoped>\n",
       "    .dataframe tbody tr th:only-of-type {\n",
       "        vertical-align: middle;\n",
       "    }\n",
       "\n",
       "    .dataframe tbody tr th {\n",
       "        vertical-align: top;\n",
       "    }\n",
       "\n",
       "    .dataframe thead th {\n",
       "        text-align: right;\n",
       "    }\n",
       "</style>\n",
       "<table border=\"1\" class=\"dataframe\">\n",
       "  <thead>\n",
       "    <tr style=\"text-align: right;\">\n",
       "      <th></th>\n",
       "      <th>Date</th>\n",
       "      <th>Time</th>\n",
       "      <th>Open</th>\n",
       "      <th>High</th>\n",
       "      <th>Low</th>\n",
       "      <th>Close</th>\n",
       "      <th>SMA20</th>\n",
       "      <th>SMA50</th>\n",
       "      <th>SMA 100</th>\n",
       "    </tr>\n",
       "  </thead>\n",
       "  <tbody>\n",
       "    <tr>\n",
       "      <th>0</th>\n",
       "      <td>2011-07-29</td>\n",
       "      <td>09:15:00</td>\n",
       "      <td>10820.65</td>\n",
       "      <td>10820.65</td>\n",
       "      <td>10758.40</td>\n",
       "      <td>10774.20</td>\n",
       "      <td>-1.0</td>\n",
       "      <td>-1.0</td>\n",
       "      <td>-1.0</td>\n",
       "    </tr>\n",
       "    <tr>\n",
       "      <th>1</th>\n",
       "      <td>2011-07-29</td>\n",
       "      <td>09:20:00</td>\n",
       "      <td>10774.20</td>\n",
       "      <td>10812.40</td>\n",
       "      <td>10774.20</td>\n",
       "      <td>10807.95</td>\n",
       "      <td>-1.0</td>\n",
       "      <td>-1.0</td>\n",
       "      <td>-1.0</td>\n",
       "    </tr>\n",
       "    <tr>\n",
       "      <th>2</th>\n",
       "      <td>2011-07-29</td>\n",
       "      <td>09:25:00</td>\n",
       "      <td>10807.95</td>\n",
       "      <td>10837.25</td>\n",
       "      <td>10804.35</td>\n",
       "      <td>10837.25</td>\n",
       "      <td>-1.0</td>\n",
       "      <td>-1.0</td>\n",
       "      <td>-1.0</td>\n",
       "    </tr>\n",
       "    <tr>\n",
       "      <th>3</th>\n",
       "      <td>2011-07-29</td>\n",
       "      <td>09:30:00</td>\n",
       "      <td>10836.05</td>\n",
       "      <td>10891.45</td>\n",
       "      <td>10835.60</td>\n",
       "      <td>10884.80</td>\n",
       "      <td>-1.0</td>\n",
       "      <td>-1.0</td>\n",
       "      <td>-1.0</td>\n",
       "    </tr>\n",
       "    <tr>\n",
       "      <th>4</th>\n",
       "      <td>2011-07-29</td>\n",
       "      <td>09:35:00</td>\n",
       "      <td>10884.80</td>\n",
       "      <td>10892.30</td>\n",
       "      <td>10871.85</td>\n",
       "      <td>10891.65</td>\n",
       "      <td>-1.0</td>\n",
       "      <td>-1.0</td>\n",
       "      <td>-1.0</td>\n",
       "    </tr>\n",
       "  </tbody>\n",
       "</table>\n",
       "</div>"
      ],
      "text/plain": [
       "        Date      Time      Open      High      Low      Close  SMA20  SMA50  \\\n",
       "0 2011-07-29  09:15:00  10820.65  10820.65  10758.40  10774.20   -1.0   -1.0   \n",
       "1 2011-07-29  09:20:00  10774.20  10812.40  10774.20  10807.95   -1.0   -1.0   \n",
       "2 2011-07-29  09:25:00  10807.95  10837.25  10804.35  10837.25   -1.0   -1.0   \n",
       "3 2011-07-29  09:30:00  10836.05  10891.45  10835.60  10884.80   -1.0   -1.0   \n",
       "4 2011-07-29  09:35:00  10884.80  10892.30  10871.85  10891.65   -1.0   -1.0   \n",
       "\n",
       "   SMA 100  \n",
       "0     -1.0  \n",
       "1     -1.0  \n",
       "2     -1.0  \n",
       "3     -1.0  \n",
       "4     -1.0  "
      ]
     },
     "execution_count": 4,
     "metadata": {},
     "output_type": "execute_result"
    }
   ],
   "source": [
    "nse_data = nse_data.fillna(-1)\n",
    "nse_data.head()"
   ]
  },
  {
   "cell_type": "code",
   "execution_count": 5,
   "id": "db7d533f",
   "metadata": {},
   "outputs": [
    {
     "data": {
      "text/html": [
       "<div>\n",
       "<style scoped>\n",
       "    .dataframe tbody tr th:only-of-type {\n",
       "        vertical-align: middle;\n",
       "    }\n",
       "\n",
       "    .dataframe tbody tr th {\n",
       "        vertical-align: top;\n",
       "    }\n",
       "\n",
       "    .dataframe thead th {\n",
       "        text-align: right;\n",
       "    }\n",
       "</style>\n",
       "<table border=\"1\" class=\"dataframe\">\n",
       "  <thead>\n",
       "    <tr style=\"text-align: right;\">\n",
       "      <th></th>\n",
       "      <th>Date</th>\n",
       "      <th>Time</th>\n",
       "      <th>Open</th>\n",
       "      <th>High</th>\n",
       "      <th>Low</th>\n",
       "      <th>Close</th>\n",
       "      <th>SMA20</th>\n",
       "      <th>SMA50</th>\n",
       "      <th>SMA 100</th>\n",
       "    </tr>\n",
       "  </thead>\n",
       "  <tbody>\n",
       "    <tr>\n",
       "      <th>192328</th>\n",
       "      <td>2022-01-24</td>\n",
       "      <td>15:05:00</td>\n",
       "      <td>36874.30</td>\n",
       "      <td>36946.70</td>\n",
       "      <td>36813.45</td>\n",
       "      <td>36946.70</td>\n",
       "      <td>36725.6400</td>\n",
       "      <td>36968.661</td>\n",
       "      <td>37242.978218</td>\n",
       "    </tr>\n",
       "    <tr>\n",
       "      <th>192329</th>\n",
       "      <td>2022-01-24</td>\n",
       "      <td>15:10:00</td>\n",
       "      <td>36946.55</td>\n",
       "      <td>37063.65</td>\n",
       "      <td>36929.50</td>\n",
       "      <td>37038.35</td>\n",
       "      <td>36735.3350</td>\n",
       "      <td>36960.372</td>\n",
       "      <td>37237.150000</td>\n",
       "    </tr>\n",
       "    <tr>\n",
       "      <th>192330</th>\n",
       "      <td>2022-01-24</td>\n",
       "      <td>15:15:00</td>\n",
       "      <td>37048.60</td>\n",
       "      <td>37073.95</td>\n",
       "      <td>36990.90</td>\n",
       "      <td>37050.30</td>\n",
       "      <td>36747.5000</td>\n",
       "      <td>36953.933</td>\n",
       "      <td>37231.681188</td>\n",
       "    </tr>\n",
       "    <tr>\n",
       "      <th>192331</th>\n",
       "      <td>2022-01-24</td>\n",
       "      <td>15:20:00</td>\n",
       "      <td>37047.80</td>\n",
       "      <td>37062.85</td>\n",
       "      <td>36894.25</td>\n",
       "      <td>36905.65</td>\n",
       "      <td>36751.2025</td>\n",
       "      <td>36944.372</td>\n",
       "      <td>37223.801980</td>\n",
       "    </tr>\n",
       "    <tr>\n",
       "      <th>192332</th>\n",
       "      <td>2022-01-24</td>\n",
       "      <td>15:25:00</td>\n",
       "      <td>36902.40</td>\n",
       "      <td>36945.05</td>\n",
       "      <td>36808.15</td>\n",
       "      <td>36834.90</td>\n",
       "      <td>36751.3125</td>\n",
       "      <td>36934.724</td>\n",
       "      <td>37215.664356</td>\n",
       "    </tr>\n",
       "  </tbody>\n",
       "</table>\n",
       "</div>"
      ],
      "text/plain": [
       "             Date      Time      Open      High      Low      Close  \\\n",
       "192328 2022-01-24  15:05:00  36874.30  36946.70  36813.45  36946.70   \n",
       "192329 2022-01-24  15:10:00  36946.55  37063.65  36929.50  37038.35   \n",
       "192330 2022-01-24  15:15:00  37048.60  37073.95  36990.90  37050.30   \n",
       "192331 2022-01-24  15:20:00  37047.80  37062.85  36894.25  36905.65   \n",
       "192332 2022-01-24  15:25:00  36902.40  36945.05  36808.15  36834.90   \n",
       "\n",
       "             SMA20      SMA50       SMA 100  \n",
       "192328  36725.6400  36968.661  37242.978218  \n",
       "192329  36735.3350  36960.372  37237.150000  \n",
       "192330  36747.5000  36953.933  37231.681188  \n",
       "192331  36751.2025  36944.372  37223.801980  \n",
       "192332  36751.3125  36934.724  37215.664356  "
      ]
     },
     "execution_count": 5,
     "metadata": {},
     "output_type": "execute_result"
    }
   ],
   "source": [
    "nse_data.tail()"
   ]
  },
  {
   "cell_type": "code",
   "execution_count": 6,
   "id": "4d9f3e19",
   "metadata": {},
   "outputs": [
    {
     "data": {
      "text/html": [
       "<div>\n",
       "<style scoped>\n",
       "    .dataframe tbody tr th:only-of-type {\n",
       "        vertical-align: middle;\n",
       "    }\n",
       "\n",
       "    .dataframe tbody tr th {\n",
       "        vertical-align: top;\n",
       "    }\n",
       "\n",
       "    .dataframe thead th {\n",
       "        text-align: right;\n",
       "    }\n",
       "</style>\n",
       "<table border=\"1\" class=\"dataframe\">\n",
       "  <thead>\n",
       "    <tr style=\"text-align: right;\">\n",
       "      <th></th>\n",
       "      <th>Open</th>\n",
       "      <th>High</th>\n",
       "      <th>Low</th>\n",
       "      <th>Close</th>\n",
       "      <th>SMA20</th>\n",
       "      <th>SMA50</th>\n",
       "      <th>SMA 100</th>\n",
       "    </tr>\n",
       "  </thead>\n",
       "  <tbody>\n",
       "    <tr>\n",
       "      <th>count</th>\n",
       "      <td>192333.000000</td>\n",
       "      <td>192333.000000</td>\n",
       "      <td>192333.000000</td>\n",
       "      <td>192333.000000</td>\n",
       "      <td>192333.000000</td>\n",
       "      <td>192333.000000</td>\n",
       "      <td>192333.000000</td>\n",
       "    </tr>\n",
       "    <tr>\n",
       "      <th>mean</th>\n",
       "      <td>20697.310681</td>\n",
       "      <td>20713.934408</td>\n",
       "      <td>20679.911383</td>\n",
       "      <td>20697.032113</td>\n",
       "      <td>20694.677328</td>\n",
       "      <td>20690.957457</td>\n",
       "      <td>20684.575638</td>\n",
       "    </tr>\n",
       "    <tr>\n",
       "      <th>std</th>\n",
       "      <td>8219.052185</td>\n",
       "      <td>8224.819853</td>\n",
       "      <td>8212.829251</td>\n",
       "      <td>8218.886333</td>\n",
       "      <td>8220.118405</td>\n",
       "      <td>8222.057737</td>\n",
       "      <td>8225.221458</td>\n",
       "    </tr>\n",
       "    <tr>\n",
       "      <th>min</th>\n",
       "      <td>7772.600000</td>\n",
       "      <td>7801.950000</td>\n",
       "      <td>7766.350000</td>\n",
       "      <td>7772.600000</td>\n",
       "      <td>-1.000000</td>\n",
       "      <td>-1.000000</td>\n",
       "      <td>-1.000000</td>\n",
       "    </tr>\n",
       "    <tr>\n",
       "      <th>25%</th>\n",
       "      <td>12713.500000</td>\n",
       "      <td>12721.650000</td>\n",
       "      <td>12703.900000</td>\n",
       "      <td>12713.250000</td>\n",
       "      <td>12709.005000</td>\n",
       "      <td>12706.930000</td>\n",
       "      <td>12701.710396</td>\n",
       "    </tr>\n",
       "    <tr>\n",
       "      <th>50%</th>\n",
       "      <td>19198.800000</td>\n",
       "      <td>19214.450000</td>\n",
       "      <td>19180.700000</td>\n",
       "      <td>19197.900000</td>\n",
       "      <td>19198.837500</td>\n",
       "      <td>19194.966000</td>\n",
       "      <td>19185.750990</td>\n",
       "    </tr>\n",
       "    <tr>\n",
       "      <th>75%</th>\n",
       "      <td>26863.350000</td>\n",
       "      <td>26877.750000</td>\n",
       "      <td>26846.200000</td>\n",
       "      <td>26862.650000</td>\n",
       "      <td>26864.802500</td>\n",
       "      <td>26870.704000</td>\n",
       "      <td>26873.287624</td>\n",
       "    </tr>\n",
       "    <tr>\n",
       "      <th>max</th>\n",
       "      <td>41729.900000</td>\n",
       "      <td>41827.650000</td>\n",
       "      <td>41600.550000</td>\n",
       "      <td>41722.200000</td>\n",
       "      <td>41556.880000</td>\n",
       "      <td>41367.579000</td>\n",
       "      <td>41231.838614</td>\n",
       "    </tr>\n",
       "  </tbody>\n",
       "</table>\n",
       "</div>"
      ],
      "text/plain": [
       "                Open           High           Low           Close  \\\n",
       "count  192333.000000  192333.000000  192333.000000  192333.000000   \n",
       "mean    20697.310681   20713.934408   20679.911383   20697.032113   \n",
       "std      8219.052185    8224.819853    8212.829251    8218.886333   \n",
       "min      7772.600000    7801.950000    7766.350000    7772.600000   \n",
       "25%     12713.500000   12721.650000   12703.900000   12713.250000   \n",
       "50%     19198.800000   19214.450000   19180.700000   19197.900000   \n",
       "75%     26863.350000   26877.750000   26846.200000   26862.650000   \n",
       "max     41729.900000   41827.650000   41600.550000   41722.200000   \n",
       "\n",
       "               SMA20          SMA50        SMA 100  \n",
       "count  192333.000000  192333.000000  192333.000000  \n",
       "mean    20694.677328   20690.957457   20684.575638  \n",
       "std      8220.118405    8222.057737    8225.221458  \n",
       "min        -1.000000      -1.000000      -1.000000  \n",
       "25%     12709.005000   12706.930000   12701.710396  \n",
       "50%     19198.837500   19194.966000   19185.750990  \n",
       "75%     26864.802500   26870.704000   26873.287624  \n",
       "max     41556.880000   41367.579000   41231.838614  "
      ]
     },
     "execution_count": 6,
     "metadata": {},
     "output_type": "execute_result"
    }
   ],
   "source": [
    "nse_data.describe()"
   ]
  },
  {
   "cell_type": "code",
   "execution_count": 7,
   "id": "120a378f",
   "metadata": {},
   "outputs": [
    {
     "data": {
      "text/plain": [
       "2011"
      ]
     },
     "execution_count": 7,
     "metadata": {},
     "output_type": "execute_result"
    }
   ],
   "source": [
    "nse_data.iloc[0][\"Date\"].year"
   ]
  },
  {
   "cell_type": "markdown",
   "id": "ae09ac53",
   "metadata": {},
   "source": [
    " "
   ]
  },
  {
   "cell_type": "markdown",
   "id": "5626546b",
   "metadata": {},
   "source": [
    " "
   ]
  },
  {
   "cell_type": "markdown",
   "id": "f401992e",
   "metadata": {},
   "source": [
    " "
   ]
  },
  {
   "cell_type": "markdown",
   "id": "96ce66f1",
   "metadata": {},
   "source": [
    " "
   ]
  },
  {
   "cell_type": "code",
   "execution_count": 8,
   "id": "d0259003",
   "metadata": {},
   "outputs": [],
   "source": [
    "wb = openpyxl.Workbook()\n",
    "\n",
    "#wb.create_sheet(\"Summary\")\n",
    "#ws = wb[\"Summary\"]\n",
    "ws = wb.active\n",
    "ws.title = \"Summary\"\n",
    "\n",
    "ws.column_dimensions['F'].width = 30\n",
    "ws.column_dimensions['G'].width = 8\n",
    "ws[\"A1\"].value = \"\"\"\n",
    "This excel sheet contains output data gathered from backtesting strategy 1.\n",
    "\"\"\"\n",
    "wb.save('strategy1.xlsx')"
   ]
  },
  {
   "cell_type": "markdown",
   "id": "fd371428",
   "metadata": {},
   "source": [
    "workbook = xlsxwriter.Workbook('strategy1.xlsx')\n",
    "worksheet = workbook.add_worksheet()\n",
    " \n",
    "content = \"\"\"\n",
    "This excel sheet contains output data gathered from backtesting strategy 1. \n",
    "\"\"\"\n",
    "\n",
    "worksheet.write(0,0, content)\n",
    "worksheet.write(0,0, \"1\")\n",
    "workbook.close()"
   ]
  },
  {
   "cell_type": "markdown",
   "id": "605b67d7",
   "metadata": {},
   "source": [
    "## 1. Find the number of days where all 75 ticks had close value greater than SMA50 "
   ]
  },
  {
   "cell_type": "code",
   "execution_count": 9,
   "id": "dc16c30f",
   "metadata": {},
   "outputs": [],
   "source": [
    "def num_days_buy_condition_true():\n",
    "    condition_satisfied = condition_not_satisfied = 0\n",
    "\n",
    "    for index in nse_data.index:\n",
    "        if nse_data[\"Time\"][index] == dt.time(9,15,0):\n",
    "            counter = 0\n",
    "\n",
    "        if nse_data[\"Close\"][index] >= nse_data[\"SMA50\"][index]:\n",
    "            counter += 1\n",
    "        else:\n",
    "            counter = -1\n",
    "\n",
    "        if nse_data[\"Time\"][index] == dt.time(15,25,0):\n",
    "            if counter == 75:\n",
    "                # all 75 ticks satisfied the condition\n",
    "                condition_satisfied += 1\n",
    "            else:\n",
    "                # condition failed\n",
    "                condition_not_satisfied += 1\n",
    "                \n",
    "    return condition_satisfied, condition_not_satisfied"
   ]
  },
  {
   "cell_type": "code",
   "execution_count": 10,
   "id": "b7c693c0",
   "metadata": {},
   "outputs": [
    {
     "name": "stdout",
     "output_type": "stream",
     "text": [
      "Number of days condition was satisfied: 146\n",
      "Number of days condition was not satisfied: 2416\n"
     ]
    }
   ],
   "source": [
    "condition_satisfied, condition_not_satisfied = num_days_buy_condition_true()\n",
    "print(\"Number of days condition was satisfied: \" + str(condition_satisfied))\n",
    "print(\"Number of days condition was not satisfied: \" + str(condition_not_satisfied))\n",
    "\n",
    "\n",
    "ws[\"a2\"] = \"Number of days condition was satisfied: \" + str(condition_satisfied)\n",
    "ws[\"a3\"] = \"Number of days condition was not satisfied: \" + str(condition_not_satisfied)\n",
    "wb.save(\"strategy1.xlsx\")"
   ]
  },
  {
   "cell_type": "markdown",
   "id": "a4e1f3ba",
   "metadata": {},
   "source": [
    " "
   ]
  },
  {
   "cell_type": "markdown",
   "id": "a57dd529",
   "metadata": {},
   "source": [
    " ### Inference: This tells us that there were 146 days where the stock price of BANK NIFTY was on rise throughout the day.\n",
    " \n",
    " i.e. The price of stock at any point of time on that day was greater than the SMA50 (average of price of the last 50 points)"
   ]
  },
  {
   "cell_type": "markdown",
   "id": "46f5672b",
   "metadata": {},
   "source": [
    " "
   ]
  },
  {
   "cell_type": "markdown",
   "id": "e654673a",
   "metadata": {},
   "source": [
    " "
   ]
  },
  {
   "cell_type": "markdown",
   "id": "93cce615",
   "metadata": {},
   "source": [
    " "
   ]
  },
  {
   "cell_type": "markdown",
   "id": "ed075046",
   "metadata": {},
   "source": [
    " "
   ]
  },
  {
   "cell_type": "markdown",
   "id": "4e537172",
   "metadata": {},
   "source": [
    "## 2. Find the number of days where all 75 ticks had close value less than SMA50 "
   ]
  },
  {
   "cell_type": "code",
   "execution_count": 11,
   "id": "e1a46948",
   "metadata": {},
   "outputs": [],
   "source": [
    "def num_days_stock_declining():\n",
    "    condition_satisfied = condition_not_satisfied = 0\n",
    "\n",
    "    for index in nse_data.index:\n",
    "        if nse_data[\"Time\"][index] == dt.time(9,15,0):\n",
    "            counter = 0\n",
    "\n",
    "        if nse_data[\"Close\"][index] <= nse_data[\"SMA50\"][index]:\n",
    "            counter += 1\n",
    "        else:\n",
    "            counter = -1\n",
    "\n",
    "        if nse_data[\"Time\"][index] == dt.time(15,25,0):\n",
    "            if counter == 75:\n",
    "                # all 75 ticks satisfied the condition\n",
    "                condition_satisfied += 1\n",
    "            else:\n",
    "                # condition failed\n",
    "                condition_not_satisfied += 1\n",
    "                \n",
    "    return condition_satisfied, condition_not_satisfied"
   ]
  },
  {
   "cell_type": "code",
   "execution_count": 12,
   "id": "73190a7c",
   "metadata": {},
   "outputs": [
    {
     "name": "stdout",
     "output_type": "stream",
     "text": [
      "Number of days condition was satisfied: 105\n",
      "Number of days condition was not satisfied: 2457\n"
     ]
    }
   ],
   "source": [
    "condition_satisfied, condition_not_satisfied = num_days_stock_declining()\n",
    "print(\"Number of days condition was satisfied: \" + str(condition_satisfied))\n",
    "print(\"Number of days condition was not satisfied: \" + str(condition_not_satisfied))"
   ]
  },
  {
   "cell_type": "markdown",
   "id": "53ea1878",
   "metadata": {},
   "source": [
    " ### Inference: This tells us that there were 105 days where the stock price of BANK NIFTY was on fall throughout the day.\n",
    " \n",
    " i.e. The price of stock at any point of time on that day was lower than the SMA50 (average of price of the last 50 points)"
   ]
  },
  {
   "cell_type": "markdown",
   "id": "386523fa",
   "metadata": {},
   "source": [
    " "
   ]
  },
  {
   "cell_type": "markdown",
   "id": "42e81a29",
   "metadata": {},
   "source": [
    " "
   ]
  },
  {
   "cell_type": "markdown",
   "id": "a28a68c4",
   "metadata": {},
   "source": [
    " "
   ]
  },
  {
   "cell_type": "markdown",
   "id": "dcf3b9c4",
   "metadata": {},
   "source": [
    " "
   ]
  },
  {
   "cell_type": "markdown",
   "id": "baecbd29",
   "metadata": {},
   "source": [
    " "
   ]
  },
  {
   "cell_type": "markdown",
   "id": "e5dee23a",
   "metadata": {},
   "source": [
    "## 3. Buy the Stock at the end of the day when the Price is at rice and Sell when it starts to decline.\n",
    "\n",
    "\n",
    "Stratergy:\n",
    "- Buy at 3:25 pm on the day when all 75 ticks had close value greater than the SMA50.\n",
    "- Sell at the first instant when the close value is less than the SMA50.\n",
    "- Find out the money made or lost with this stratergy over last 10 year.\n",
    "\n"
   ]
  },
  {
   "cell_type": "code",
   "execution_count": 13,
   "id": "b169d762",
   "metadata": {},
   "outputs": [],
   "source": [
    "def execute_trade(start_index, end_index):\n",
    "    \"\"\"\n",
    "    End Index in not inclusive.\n",
    "    \n",
    "    \"\"\"\n",
    "    buying_mode = True\n",
    "    profit_made_sma50 = []\n",
    "    trade_number = 1\n",
    "    trades = {}\n",
    "    year = nse_data.iloc[start_index][\"Date\"].year\n",
    "\n",
    "    for index in range(start_index, end_index):\n",
    "        if buying_mode == True:    \n",
    "            if nse_data[\"Time\"][index] == dt.time(9,15,0):\n",
    "                counter = 0\n",
    "\n",
    "            if nse_data[\"Close\"][index] >= nse_data[\"SMA50\"][index]:\n",
    "                counter += 1\n",
    "            else:\n",
    "                counter = -1\n",
    "\n",
    "            if nse_data[\"Time\"][index] == dt.time(15,25,0):\n",
    "                if counter == 75:\n",
    "                    # all 75 ticks satisfied the condition\n",
    "                    # trigger buy\n",
    "                    buy_price = nse_data[\"Close\"][index]\n",
    "                    buying_mode = False\n",
    "                    trades[f\"Trade {trade_number} Buy\"] = nse_data.iloc[index:index+1,[0,1,5,7]]\n",
    "                    continue\n",
    "\n",
    "        if buying_mode == False:\n",
    "            #print(nse_data.iloc[index:index+1,[0,1, 5,7]])\n",
    "            if nse_data[\"Close\"][index] < nse_data[\"SMA50\"][index]:\n",
    "                trades[f\"Trade {trade_number} Sell\"] = nse_data.iloc[index:index+1,[0,1,5,7]]\n",
    "                selling_price = nse_data[\"Close\"][index]\n",
    "                profit_made = selling_price - buy_price\n",
    "                trades[f\"Trade {trade_number} Profit\"] = profit_made\n",
    "                trade_number += 1\n",
    "                profit_made_sma50.append(profit_made)\n",
    "                buying_mode = True\n",
    "    return (profit_made_sma50, trades, year)"
   ]
  },
  {
   "cell_type": "markdown",
   "id": "952794f6",
   "metadata": {},
   "source": [
    " "
   ]
  },
  {
   "cell_type": "markdown",
   "id": "a7761829",
   "metadata": {},
   "source": [
    "## 4. Find number of years:"
   ]
  },
  {
   "cell_type": "code",
   "execution_count": 14,
   "id": "9c8a84e8",
   "metadata": {},
   "outputs": [],
   "source": [
    "def save_output_parameters(profit_list, trades, year):\n",
    "    win_trades = list(filter(lambda x: (x > 0), profit_list))\n",
    "    loose_trades = list(filter(lambda x: (x < 0), profit_list))\n",
    "    global cumulative_profit\n",
    "    cumulative_profit.extend(profit_list)\n",
    "    \n",
    "    try:\n",
    "        ws = wb[str(year)]\n",
    "    except:\n",
    "        wb.create_sheet(str(year))\n",
    "        ws = wb[str(year)]\n",
    "        ws.title = str(year)\n",
    "    ws.column_dimensions['F'].width = 30\n",
    "    ws.column_dimensions['G'].width = 8\n",
    "    \n",
    "    ws['f11'], ws['g11'] = \"Total Trades\", len(profit_list)\n",
    "    ws['f12'], ws['g12'] = \"Total Win Trades\", len(win_trades)\n",
    "    ws['f13'], ws['g13'] = \"Total Loose Trades\", len(loose_trades)\n",
    "    ws['f14'], ws['g14'] = \"Hit Ratio/ Trade win Ratio\", float(f'{len(win_trades)/len(profit_list)*100:.2f}') if len(profit_list) != 0 else \"NA\"\n",
    "    ws['f15'], ws['g15'] = \"Day win Ratio\", float(f'{len(win_trades)/len(loose_trades)*100:.2f}') if len(loose_trades) != 0 else \"NA\"\n",
    "    ws['f16'], ws['g16'] = \"Gross Profit\", sum(win_trades)\n",
    "    ws['f17'], ws['g17'] = \"Gross Loss\", sum(loose_trades)\n",
    "    ws['f18'], ws['g18'] = \"Net Profit\", sum(win_trades)+sum(loose_trades)\n",
    "    ws['f19'], ws['g19'] = \"Max Draw Up\", \"???\"\n",
    "    ws['f20'], ws['g20'] = \"Max Draw Down\", \"???\"\n",
    "    ws['f21'], ws['g21'] = \"Average Trades\", float(f\"{ws['g18'].value/len(profit_list):.2f}\")  if len(profit_list) != 0 else \"NA\"\n",
    "    ws['f22'], ws['g22'] = \"Average Winning Trade\", float(f'{mean(win_trades):.2f}') if len(win_trades) != 0 else \"NA\"\n",
    "    ws['f23'], ws['g23'] = \"Average Loosing Trade\", float(f'{mean(loose_trades):.2f}') if len(loose_trades) != 0 else \"NA\"\n",
    "    ws['f24'], ws['g24'] = \"Risk Reward\", \"???\"\n",
    "    ws['f25'], ws['g25'] = \"Max Return/ Largest Winning Trade\", max(win_trades) if len(win_trades) != 0 else \"NA\"\n",
    "    ws['f26'], ws['g26'] = \"Min Return/ Largest Loosing Trade\", min(loose_trades) if len(loose_trades) != 0 else \"NA\"\n",
    "    ws['f27'], ws['g27'] = \"Net Profit %\", \"???\"\n",
    "    ws['f28'], ws['g28'] = \"Return Per Year\", ws['g18'].value\n",
    "    ws['f29'], ws['g29'] = \"Sharpe Ratio\", \"???\"\n",
    "    wb.save(\"strategy1.xlsx\")"
   ]
  },
  {
   "cell_type": "code",
   "execution_count": 15,
   "id": "bee9a915",
   "metadata": {},
   "outputs": [],
   "source": [
    "last_index = 0\n",
    "last_year = nse_data.iloc[0][\"Date\"].year\n",
    "\n",
    "year_start_index_number = [last_index]\n",
    "\n",
    "for index in nse_data.index:\n",
    "    if nse_data.iloc[index][\"Date\"].year > last_year:\n",
    "        last_year = nse_data.iloc[index][\"Date\"].year\n",
    "        year_start_index_number.append(index)"
   ]
  },
  {
   "cell_type": "code",
   "execution_count": 16,
   "id": "fb9eeadc",
   "metadata": {},
   "outputs": [],
   "source": [
    "global cumulative_profit\n",
    "cumulative_profit = []\n",
    "for i in range(len(year_start_index_number)):\n",
    "    start_index = year_start_index_number[i]\n",
    "    if i < len(year_start_index_number)-1:\n",
    "        end_index = year_start_index_number[i+1]\n",
    "    profit_made, trades, year = execute_trade(start_index, end_index)\n",
    "    save_output_parameters(profit_made, trades, year)"
   ]
  },
  {
   "cell_type": "code",
   "execution_count": 17,
   "id": "d037e79e",
   "metadata": {},
   "outputs": [
    {
     "data": {
      "text/plain": [
       "129"
      ]
     },
     "execution_count": 17,
     "metadata": {},
     "output_type": "execute_result"
    }
   ],
   "source": [
    "len(cumulative_profit)"
   ]
  },
  {
   "cell_type": "code",
   "execution_count": 18,
   "id": "4bf4a4ac",
   "metadata": {},
   "outputs": [],
   "source": [
    "win_trades = list(filter(lambda x: (x > 0), cumulative_profit))\n",
    "loose_trades = list(filter(lambda x: (x < 0), cumulative_profit))\n",
    "\n",
    "ws = wb[\"Summary\"]\n",
    "\n",
    "ws['f11'], ws['g11'] = \"Total Trades\", len(cumulative_profit)\n",
    "ws['f12'], ws['g12'] = \"Total Win Trades\", len(win_trades)\n",
    "ws['f13'], ws['g13'] = \"Total Loose Trades\", len(loose_trades)\n",
    "ws['f14'], ws['g14'] = \"Hit Ratio/ Trade win Ratio\", float(f'{len(win_trades)/len(cumulative_profit)*100:.2f}') if len(cumulative_profit) != 0 else \"NA\"\n",
    "ws['f15'], ws['g15'] = \"Day win Ratio\", float(f'{len(win_trades)/len(loose_trades)*100:.2f}') if len(loose_trades) != 0 else \"NA\"\n",
    "ws['f16'], ws['g16'] = \"Gross Profit\", sum(win_trades)\n",
    "ws['f17'], ws['g17'] = \"Gross Loss\", sum(loose_trades)\n",
    "ws['f18'], ws['g18'] = \"Net Profit\", sum(win_trades)+sum(loose_trades)\n",
    "ws['f19'], ws['g19'] = \"Max Draw Up\", \"???\"\n",
    "ws['f20'], ws['g20'] = \"Max Draw Down\", \"???\"\n",
    "ws['f21'], ws['g21'] = \"Average Trades\", float(f\"{ws['g18'].value/len(cumulative_profit):.2f}\") if len(cumulative_profit) != 0 else \"NA\"\n",
    "ws['f22'], ws['g22'] = \"Average Winning Trade\", float(f'{mean(win_trades):.2f}') if len(win_trades) != 0 else \"NA\"\n",
    "ws['f23'], ws['g23'] = \"Average Loosing Trade\", float(f'{mean(loose_trades):.2f}') if len(loose_trades) != 0 else \"NA\"\n",
    "ws['f24'], ws['g24'] = \"Risk Reward\", \"???\"\n",
    "ws['f25'], ws['g25'] = \"Max Return/ Largest Winning Trade\", max(win_trades) if len(win_trades) != 0 else \"NA\"\n",
    "ws['f26'], ws['g26'] = \"Min Return/ Largest Loosing Trade\", min(loose_trades) if len(loose_trades) != 0 else \"NA\"\n",
    "ws['f27'], ws['g27'] = \"Net Profit %\", \"???\"\n",
    "ws['f28'], ws['g28'] = \"Sharpe Ratio\", \"???\"\n",
    "wb.save(\"strategy1.xlsx\")"
   ]
  },
  {
   "cell_type": "markdown",
   "id": "a59e0111",
   "metadata": {},
   "source": [
    " "
   ]
  },
  {
   "cell_type": "markdown",
   "id": "011fc378",
   "metadata": {},
   "source": [
    " "
   ]
  },
  {
   "cell_type": "markdown",
   "id": "5e7f1a49",
   "metadata": {},
   "source": [
    " "
   ]
  },
  {
   "cell_type": "markdown",
   "id": "13e0bb38",
   "metadata": {},
   "source": [
    " "
   ]
  },
  {
   "cell_type": "markdown",
   "id": "e3159d29",
   "metadata": {},
   "source": [
    " "
   ]
  },
  {
   "cell_type": "markdown",
   "id": "14c5a3d3",
   "metadata": {},
   "source": [
    "# Conclusion"
   ]
  },
  {
   "cell_type": "markdown",
   "id": "668965a2",
   "metadata": {},
   "source": [
    "#### Money made with this stratergy would be 12k."
   ]
  }
 ],
 "metadata": {
  "kernelspec": {
   "display_name": "Python 3 (ipykernel)",
   "language": "python",
   "name": "python3"
  },
  "language_info": {
   "codemirror_mode": {
    "name": "ipython",
    "version": 3
   },
   "file_extension": ".py",
   "mimetype": "text/x-python",
   "name": "python",
   "nbconvert_exporter": "python",
   "pygments_lexer": "ipython3",
   "version": "3.10.1"
  }
 },
 "nbformat": 4,
 "nbformat_minor": 5
}
